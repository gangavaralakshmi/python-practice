{
 "cells": [
  {
   "cell_type": "code",
   "execution_count": 21,
   "metadata": {},
   "outputs": [
    {
     "name": "stdout",
     "output_type": "stream",
     "text": [
      "enter year2019\n",
      "2019\n",
      "<class 'str'>\n",
      "<class 'int'>\n",
      "enter number24\n",
      "24\n",
      "<class 'str'>\n"
     ]
    }
   ],
   "source": [
    "year = input(\"enter year\")    #anything taking from user is taken as string otherwise individuvally it is it's data type\n",
    "print(year)\n",
    "print(type(year))\n",
    "\n",
    "n=21\n",
    "print(type(n))\n",
    "\n",
    "n1 = input (\"enter number\")\n",
    "print (n1)\n",
    "print (type (n1))\n",
    "\n",
    "\n"
   ]
  },
  {
   "cell_type": "code",
   "execution_count": 20,
   "metadata": {},
   "outputs": [
    {
     "name": "stdout",
     "output_type": "stream",
     "text": [
      "enter the person namedevi\n",
      "devi\n",
      "<class 'str'>\n",
      "<class 'str'>\n"
     ]
    }
   ],
   "source": [
    "g = input (\"enter the person name\")  #anything taking from user is taken as string otherwise individuvally it is it's data type\n",
    "print (g)\n",
    "print (type(g))\n",
    "\n",
    "g1 = \"ganga\"\n",
    "print (type(g1))\n",
    "\n"
   ]
  },
  {
   "cell_type": "code",
   "execution_count": 19,
   "metadata": {},
   "outputs": [
    {
     "name": "stdout",
     "output_type": "stream",
     "text": [
      "2.123\n",
      "<class 'float'>\n",
      "enter floating vaule2.123\n",
      "2.123\n",
      "<class 'str'>\n"
     ]
    }
   ],
   "source": [
    "a = 2.123    #anything taking from user is taken as string otherwise individuvally it is it's data type\n",
    "print (a)\n",
    "print (type(a))\n",
    "\n",
    "a1 = input (\"enter floating vaule\")\n",
    "print (a1)\n",
    "\n",
    "print (type(a1))"
   ]
  },
  {
   "cell_type": "code",
   "execution_count": 28,
   "metadata": {},
   "outputs": [
    {
     "name": "stdout",
     "output_type": "stream",
     "text": [
      "enter year2015\n",
      "not leapyear\n"
     ]
    }
   ],
   "source": [
    "# leap year program\n",
    "\n",
    "year = int(input(\"enter year\"))\n",
    "\n",
    "if year % 400 ==0 or (year % 100 !=0 and year % 4 ==0):\n",
    "    print (\"leapyear\")\n",
    "else:\n",
    "    print (\"not leapyear\")"
   ]
  },
  {
   "cell_type": "code",
   "execution_count": 40,
   "metadata": {},
   "outputs": [
    {
     "name": "stdout",
     "output_type": "stream",
     "text": [
      "enter number20\n",
      "it is factor of number100 and factor is 20\n",
      "20 it is a factor of 100\n"
     ]
    }
   ],
   "source": [
    "# checking the number is dividing by 100\n",
    "\n",
    "num = int (input(\"enter number\"))\n",
    "if 100 % num == 0:\n",
    "    print (\"it is factor of number100 and factor is\",num)\n",
    "    print (str(num)+\" \"+\"it is a factor of 100\")\n",
    "else:\n",
    "    print (\"it is not factor of 100\")"
   ]
  },
  {
   "cell_type": "code",
   "execution_count": 46,
   "metadata": {},
   "outputs": [
    {
     "name": "stdout",
     "output_type": "stream",
     "text": [
      "enter string type number12345\n",
      "enter numberstring\n",
      "false\n"
     ]
    }
   ],
   "source": [
    "# check if a given string is equal to number or not\n",
    "\n",
    "st = input (\"enter string type number\")\n",
    "numb = input (\"enter number\")\n",
    "if st == str(numb):\n",
    "    print(\"true\")\n",
    "else:\n",
    "    print (\"false\")"
   ]
  },
  {
   "cell_type": "code",
   "execution_count": 6,
   "metadata": {},
   "outputs": [
    {
     "name": "stdout",
     "output_type": "stream",
     "text": [
      "enter number12345678\n",
      "8\n",
      "number of digits in a given number is 8\n"
     ]
    }
   ],
   "source": [
    "#no of digits in a given number\n",
    "\n",
    "number=input(\"enter number\")\n",
    "d = len(number)\n",
    "print (d)\n",
    "print (\"number of digits in a given number is \"+ str(d))"
   ]
  },
  {
   "cell_type": "code",
   "execution_count": 13,
   "metadata": {},
   "outputs": [
    {
     "name": "stdout",
     "output_type": "stream",
     "text": [
      "enter year2020\n",
      "leapyear\n",
      "316224003micro seconds\n"
     ]
    }
   ],
   "source": [
    "# calculate the nubmer of micro seconds in given year   NOTE: 1SEC=1000 MICRO SEONDS\n",
    "\n",
    "year = int(input(\"enter year\"))\n",
    "\n",
    "if year % 400 ==0 or (year % 100 !=0 and year % 4 ==0):\n",
    "    micro_seconds =366 * 24 * 60 * 60 *10^3\n",
    "    print (\"leapyear\")\n",
    "    print(str(micro_seconds)+\"micro seconds\")\n",
    "else:\n",
    "    print (\"not leapyear\")\n",
    "    micro_seconds = 365 * 24 * 60 * 60 *10^3\n",
    "    print (micro_seconds)"
   ]
  },
  {
   "cell_type": "code",
   "execution_count": 19,
   "metadata": {},
   "outputs": [
    {
     "name": "stdout",
     "output_type": "stream",
     "text": [
      "enter number10000\n",
      "10000 is multiple of 10\n"
     ]
    }
   ],
   "source": [
    "# check if a number is multiple of 10\n",
    "\n",
    "number = int (input(\"enter number\"))\n",
    "if number % 10 == 0:\n",
    "    print (str(number)+\" \"+\"is multiple of 10\")\n",
    "else:\n",
    "    print (\"it is not a multiple of 10\")\n"
   ]
  },
  {
   "cell_type": "code",
   "execution_count": null,
   "metadata": {},
   "outputs": [],
   "source": [
    "# square root of a number with our using functions\n",
    "\n",
    "numb=input(\"enter number\")\n",
    "squr = sqr(num)\n",
    "print (squr)\n"
   ]
  },
  {
   "cell_type": "code",
   "execution_count": null,
   "metadata": {},
   "outputs": [],
   "source": [
    "# Square root of a number without using functions\n",
    "number=input(\"enter number\")\n"
   ]
  }
 ],
 "metadata": {
  "kernelspec": {
   "display_name": "Python 3",
   "language": "python",
   "name": "python3"
  },
  "language_info": {
   "codemirror_mode": {
    "name": "ipython",
    "version": 3
   },
   "file_extension": ".py",
   "mimetype": "text/x-python",
   "name": "python",
   "nbconvert_exporter": "python",
   "pygments_lexer": "ipython3",
   "version": "3.6.5"
  }
 },
 "nbformat": 4,
 "nbformat_minor": 2
}
