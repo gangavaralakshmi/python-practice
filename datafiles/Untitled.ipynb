{
 "cells": [
  {
   "cell_type": "code",
   "execution_count": 13,
   "metadata": {},
   "outputs": [
    {
     "name": "stdout",
     "output_type": "stream",
     "text": [
      "ttps://www.programmez.com/-for good python documentation\n",
      "web site name -  udacity\n",
      "stack overflow for \n",
      "hackereath of aksing qucetions and upload answers\n",
      "github- is to create new repository\n",
      "GreeksforGreeks"
     ]
    }
   ],
   "source": [
    "with open(\"sample.txt\",'r') as fh:\n",
    "    lines = fh.readlines()\n",
    "    for line in lines:\n",
    "        print(line, end='')\n",
    "        "
   ]
  },
  {
   "cell_type": "code",
   "execution_count": 6,
   "metadata": {},
   "outputs": [
    {
     "name": "stdout",
     "output_type": "stream",
     "text": [
      "1.1.ttps://www.programmez.com/-for good python documentation\n",
      "2.2.web site name -  udacity\n",
      "3.3.stack overflow for \n",
      "4.4.hackereath of aksing qucetions and upload answers\n",
      "5.5.github- is to create new repository\n",
      "6.6.GreeksforGreeks"
     ]
    }
   ],
   "source": [
    "with open(\"sample.txt\",'r') as fh:\n",
    "    lineno =1\n",
    "    lines = fh.readlines()\n",
    "    for line in lines:\n",
    "        print(line, end='', sep=\".\")\n",
    "        lineno +=1"
   ]
  },
  {
   "cell_type": "code",
   "execution_count": 5,
   "metadata": {},
   "outputs": [],
   "source": [
    " with open(\"sample.txt\",\"r+\") as fh:\n",
    "        lineno=1\n",
    "        lines=fh.readlines()\n",
    "    #below code for writing\n",
    "        fw=open(\"sample.txt\",\"w\")\n",
    "        for line in lines:\n",
    "                print (lineno,line,end=\"\",sep=\".\",file=fw)\n",
    "                lineno+=1\n",
    "        fw.close()\n"
   ]
  },
  {
   "cell_type": "code",
   "execution_count": null,
   "metadata": {},
   "outputs": [],
   "source": []
  }
 ],
 "metadata": {
  "kernelspec": {
   "display_name": "Python 3",
   "language": "python",
   "name": "python3"
  },
  "language_info": {
   "codemirror_mode": {
    "name": "ipython",
    "version": 3
   },
   "file_extension": ".py",
   "mimetype": "text/x-python",
   "name": "python",
   "nbconvert_exporter": "python",
   "pygments_lexer": "ipython3",
   "version": "3.7.3"
  }
 },
 "nbformat": 4,
 "nbformat_minor": 2
}
