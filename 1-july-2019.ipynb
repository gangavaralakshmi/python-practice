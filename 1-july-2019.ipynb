{
 "cells": [
  {
   "cell_type": "markdown",
   "metadata": {},
   "source": [
    "## 01-july-2019\n",
    "- Practice on Income Dataset\n",
    "    - Define Fucntions the following data points\n",
    "        - Combined Average Income of all states from 2005 to 2013\n",
    "        - State with highest average income in the last three years\n",
    "        - State with lowest average income from 2007 to 2010(inclusive)\n",
    "        - Print the list of all states in the same line with average income less than California\n",
    "        - Print the names of states based on descending order of income in the year 2009\n",
    "        - State with the lowest recorded income from 2005 to 2013"
   ]
  },
  {
   "cell_type": "code",
   "execution_count": 12,
   "metadata": {},
   "outputs": [],
   "source": [
    "#read csv file\n",
    "filepath = 'DataFiles/Income.csv'\n",
    "import pandas as pd\n",
    "def readCSVdata(filepath):\n",
    "    return pd.read_csv(filepath)\n",
    "\n",
    "incomedf = readCSVdata(filepath)\n",
    "\n",
    "def getColumnIndex(df,columnkey):\n",
    "    for i in range(len(df.columns)):\n",
    "        if df.columns[i] == columnkey:\n",
    "            return i\n",
    "def getRowIndex(df,rowkey):\n",
    "    for i in range(len(df.values)):\n",
    "        if df.values[i][1] == rowkey:\n",
    "            return i"
   ]
  },
  {
   "cell_type": "code",
   "execution_count": 13,
   "metadata": {},
   "outputs": [
    {
     "data": {
      "text/html": [
       "<div>\n",
       "<style scoped>\n",
       "    .dataframe tbody tr th:only-of-type {\n",
       "        vertical-align: middle;\n",
       "    }\n",
       "\n",
       "    .dataframe tbody tr th {\n",
       "        vertical-align: top;\n",
       "    }\n",
       "\n",
       "    .dataframe thead th {\n",
       "        text-align: right;\n",
       "    }\n",
       "</style>\n",
       "<table border=\"1\" class=\"dataframe\">\n",
       "  <thead>\n",
       "    <tr style=\"text-align: right;\">\n",
       "      <th></th>\n",
       "      <th>GEOID</th>\n",
       "      <th>State</th>\n",
       "      <th>2005</th>\n",
       "      <th>2006</th>\n",
       "      <th>2007</th>\n",
       "      <th>2008</th>\n",
       "      <th>2009</th>\n",
       "      <th>2010</th>\n",
       "      <th>2011</th>\n",
       "      <th>2012</th>\n",
       "      <th>2013</th>\n",
       "    </tr>\n",
       "  </thead>\n",
       "  <tbody>\n",
       "    <tr>\n",
       "      <th>0</th>\n",
       "      <td>04000US01</td>\n",
       "      <td>Alabama</td>\n",
       "      <td>37150</td>\n",
       "      <td>37952</td>\n",
       "      <td>42212</td>\n",
       "      <td>44476</td>\n",
       "      <td>39980</td>\n",
       "      <td>40933</td>\n",
       "      <td>42590</td>\n",
       "      <td>43464</td>\n",
       "      <td>41381</td>\n",
       "    </tr>\n",
       "    <tr>\n",
       "      <th>1</th>\n",
       "      <td>04000US02</td>\n",
       "      <td>Alaska</td>\n",
       "      <td>55891</td>\n",
       "      <td>56418</td>\n",
       "      <td>62993</td>\n",
       "      <td>63989</td>\n",
       "      <td>61604</td>\n",
       "      <td>57848</td>\n",
       "      <td>57431</td>\n",
       "      <td>63648</td>\n",
       "      <td>61137</td>\n",
       "    </tr>\n",
       "    <tr>\n",
       "      <th>2</th>\n",
       "      <td>04000US04</td>\n",
       "      <td>Arizona</td>\n",
       "      <td>45245</td>\n",
       "      <td>46657</td>\n",
       "      <td>62993</td>\n",
       "      <td>46914</td>\n",
       "      <td>45739</td>\n",
       "      <td>46896</td>\n",
       "      <td>48621</td>\n",
       "      <td>47044</td>\n",
       "      <td>50602</td>\n",
       "    </tr>\n",
       "    <tr>\n",
       "      <th>3</th>\n",
       "      <td>04000US05</td>\n",
       "      <td>Arkansas</td>\n",
       "      <td>36658</td>\n",
       "      <td>37057</td>\n",
       "      <td>40795</td>\n",
       "      <td>39586</td>\n",
       "      <td>36538</td>\n",
       "      <td>38587</td>\n",
       "      <td>41302</td>\n",
       "      <td>39018</td>\n",
       "      <td>39919</td>\n",
       "    </tr>\n",
       "    <tr>\n",
       "      <th>4</th>\n",
       "      <td>04000US06</td>\n",
       "      <td>California</td>\n",
       "      <td>51755</td>\n",
       "      <td>55319</td>\n",
       "      <td>55734</td>\n",
       "      <td>57014</td>\n",
       "      <td>56134</td>\n",
       "      <td>54283</td>\n",
       "      <td>53367</td>\n",
       "      <td>57020</td>\n",
       "      <td>57528</td>\n",
       "    </tr>\n",
       "  </tbody>\n",
       "</table>\n",
       "</div>"
      ],
      "text/plain": [
       "       GEOID       State   2005   2006   2007   2008   2009   2010   2011  \\\n",
       "0  04000US01     Alabama  37150  37952  42212  44476  39980  40933  42590   \n",
       "1  04000US02      Alaska  55891  56418  62993  63989  61604  57848  57431   \n",
       "2  04000US04     Arizona  45245  46657  62993  46914  45739  46896  48621   \n",
       "3  04000US05    Arkansas  36658  37057  40795  39586  36538  38587  41302   \n",
       "4  04000US06  California  51755  55319  55734  57014  56134  54283  53367   \n",
       "\n",
       "    2012   2013  \n",
       "0  43464  41381  \n",
       "1  63648  61137  \n",
       "2  47044  50602  \n",
       "3  39018  39919  \n",
       "4  57020  57528  "
      ]
     },
     "execution_count": 13,
     "metadata": {},
     "output_type": "execute_result"
    }
   ],
   "source": [
    "incomedf"
   ]
  },
  {
   "cell_type": "code",
   "execution_count": 14,
   "metadata": {},
   "outputs": [
    {
     "data": {
      "text/plain": [
       "48876"
      ]
     },
     "execution_count": 14,
     "metadata": {},
     "output_type": "execute_result"
    }
   ],
   "source": [
    "# Average Income of all states from 2005 to 2013\n",
    "def averageIncomeStates(df):\n",
    "    tot = 0\n",
    "    count = 0\n",
    "    for i in range(len(df.values)):\n",
    "        for j in range(2,len(df.columns)):\n",
    "            tot = tot + df.values[i][j]\n",
    "            count = count + 1\n",
    "    return tot//count\n",
    "averageIncomeStates(incomedf)"
   ]
  },
  {
   "cell_type": "code",
   "execution_count": 15,
   "metadata": {},
   "outputs": [
    {
     "name": "stdout",
     "output_type": "stream",
     "text": [
      "Alabama 41126\n",
      "Alaska 60106\n",
      "Arizona 48967\n",
      "Arkansas 38828\n",
      "California 55350\n",
      "Alabama Arizona Arkansas "
     ]
    }
   ],
   "source": [
    "# Print the list of all states in the same line with average income less than california\n",
    "\n",
    "def averageIncomeOfState(df,state):\n",
    "    stateindex = getRowIndex(df,state)\n",
    "    return sum(df.values[stateindex][2:])//(len(df.columns)-2)\n",
    "\n",
    "def statesList(df,state):\n",
    "    d={}\n",
    "    for i in range(len(df.values)):\n",
    "        d[df.values[i][1]] = averageIncomeOfState(df,df.values[i][1])\n",
    "    for item in d.items():\n",
    "        if item[0] == state:\n",
    "            income = item[1]\n",
    "    for item in d.items():\n",
    "        if item[1] < income:\n",
    "            print(item[0],end=' ')\n",
    "                \n",
    "\n",
    "print('Alabama',averageIncomeOfState(incomedf,'Alabama'))\n",
    "print('Alaska',averageIncomeOfState(incomedf,'Alaska'))\n",
    "print('Arizona',averageIncomeOfState(incomedf,'Arizona'))\n",
    "print('Arkansas',averageIncomeOfState(incomedf,'Arkansas'))\n",
    "print('California',averageIncomeOfState(incomedf,'California'))\n",
    "statesList(incomedf,'California')"
   ]
  },
  {
   "cell_type": "code",
   "execution_count": 16,
   "metadata": {},
   "outputs": [
    {
     "name": "stdout",
     "output_type": "stream",
     "text": [
      "Arkansas : 36538\n",
      "Alabama : 39980\n",
      "Arizona : 45739\n",
      "California : 56134\n",
      "Alaska : 61604\n"
     ]
    }
   ],
   "source": [
    "# Print the names of states based on descending order or income in 2009\n",
    "def descendingIncomeStates(df,year):\n",
    "    yearindex = getColumnIndex(df,year)\n",
    "    d = {}\n",
    "    for i in range(len(df.values)):\n",
    "        d[df.values[i][1]] = df.values[i][yearindex]\n",
    "    incomes = sorted(d.values())\n",
    "    new_d = {}\n",
    "    for i in d:\n",
    "        new_d[d[i]] = i\n",
    "    for value in incomes:\n",
    "        if value in new_d.keys():\n",
    "            print(new_d[value],':',value)\n",
    "    \n",
    "lis=descendingIncomeStates(incomedf,'2009')"
   ]
  },
  {
   "cell_type": "code",
   "execution_count": 17,
   "metadata": {},
   "outputs": [
    {
     "data": {
      "text/plain": [
       "'Arkansas:36538'"
      ]
     },
     "execution_count": 17,
     "metadata": {},
     "output_type": "execute_result"
    }
   ],
   "source": [
    "# State with the lowest income recorded from 2005 to 2013\n",
    "def lowestIncomeState(df,columnkey1,columnkey2):\n",
    "    columnindex1 = getColumnIndex(df,columnkey1)\n",
    "    columnindex2 = getColumnIndex(df,columnkey2)\n",
    "    d = {}\n",
    "    for i in range(len(df.values)):\n",
    "        d[df.values[i][1]] = min(df.values[i][columnindex1:(columnindex2+1)])\n",
    "    low = min(d.values())\n",
    "    for item in d.items():\n",
    "        if low == item[1]:\n",
    "            return item[0]+':'+str(item[1])\n",
    "lowestIncomeState(incomedf,'2005','2013')"
   ]
  },
  {
   "cell_type": "code",
   "execution_count": 22,
   "metadata": {},
   "outputs": [
    {
     "ename": "SyntaxError",
     "evalue": "invalid syntax (<ipython-input-22-73cfee103aea>, line 5)",
     "output_type": "error",
     "traceback": [
      "\u001b[1;36m  File \u001b[1;32m\"<ipython-input-22-73cfee103aea>\"\u001b[1;36m, line \u001b[1;32m5\u001b[0m\n\u001b[1;33m    for i in range(len(df.values):\u001b[0m\n\u001b[1;37m                                 ^\u001b[0m\n\u001b[1;31mSyntaxError\u001b[0m\u001b[1;31m:\u001b[0m invalid syntax\n"
     ]
    }
   ],
   "source": [
    "#state with higest avg income in last three years\n",
    "def averageIncomeStates(df):\n",
    "    tot = 0\n",
    "    count = 0\n",
    "    for i in range(len(df.values):\n",
    "        for j in range(2,len(df.columns)):\n",
    "            tot = tot + df.values[i][j]\n",
    "            count = count + 1\n",
    "    return tot//count\n",
    "averageIncomeStates(incomedf)\n"
   ]
  },
  {
   "cell_type": "code",
   "execution_count": null,
   "metadata": {},
   "outputs": [],
   "source": []
  },
  {
   "cell_type": "code",
   "execution_count": null,
   "metadata": {},
   "outputs": [],
   "source": []
  }
 ],
 "metadata": {
  "kernelspec": {
   "display_name": "Python 3",
   "language": "python",
   "name": "python3"
  },
  "language_info": {
   "codemirror_mode": {
    "name": "ipython",
    "version": 3
   },
   "file_extension": ".py",
   "mimetype": "text/x-python",
   "name": "python",
   "nbconvert_exporter": "python",
   "pygments_lexer": "ipython3",
   "version": "3.7.3"
  }
 },
 "nbformat": 4,
 "nbformat_minor": 2
}
