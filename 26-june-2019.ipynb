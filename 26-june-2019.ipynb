{
 "cells": [
  {
   "cell_type": "code",
   "execution_count": 2,
   "metadata": {},
   "outputs": [
    {
     "data": {
      "text/plain": [
       "20000011"
      ]
     },
     "execution_count": 2,
     "metadata": {},
     "output_type": "execute_result"
    }
   ],
   "source": [
    "a=10000005\n",
    "b=10000006\n",
    "a+b"
   ]
  },
  {
   "cell_type": "code",
   "execution_count": 3,
   "metadata": {},
   "outputs": [
    {
     "data": {
      "text/plain": [
       "5000000015"
      ]
     },
     "execution_count": 3,
     "metadata": {},
     "output_type": "execute_result"
    }
   ],
   "source": [
    "a=1000000001\n",
    "b=1000000002\n",
    "c=1000000003\n",
    "d=1000000004\n",
    "e=1000000005\n",
    "a+b+c+d+e"
   ]
  },
  {
   "cell_type": "raw",
   "metadata": {},
   "source": []
  },
  {
   "cell_type": "code",
   "execution_count": null,
   "metadata": {},
   "outputs": [],
   "source": [
    "#Largest number in a list\n",
    "#Second largest number in a list\n",
    "#Kth largest number in al list\n",
    "\n",
    "\n",
    "# Element with highest frequency \n",
    "#Seconnd Highest frequency\n",
    "#Kth Highest frequency\n",
    "\n",
    "#{a:4,g:9,p:213,c:6}\n",
    "#{4,6,6,6,213}\n",
    "#{}\n",
    "\n",
    "\n",
    "with open('../input.txt','r') as f:\n",
    "    t = input(f.readfile)\n",
    "    for i in range(t):\n",
    "        s=f.readline():\n",
    "        k=int(f.readline())\n",
    "        print(kLargestFrequency(s,k))"
   ]
  },
  {
   "cell_type": "code",
   "execution_count": 8,
   "metadata": {},
   "outputs": [
    {
     "data": {
      "text/plain": [
       "0"
      ]
     },
     "execution_count": 8,
     "metadata": {},
     "output_type": "execute_result"
    }
   ],
   "source": [
    "#Fuction to find the second largest number\n",
    "\n",
    "def secondLargest(li):\n",
    "    #Convert the list into a unique list\n",
    "    #Time complixity is number of loops we are using.If we use nested for loops then time complixity in N^2\n",
    "    #this problem is partially order of n^2\n",
    "    unique=[]\n",
    "    for n in li:\n",
    "        if n not in unique:\n",
    "            unique.append(n)\n",
    "    unique = sorted (unique, reverse=True)\n",
    "    return unique[1]\n",
    "secondLargest([1,2,3,4,2,4,6,7,8,4])\n",
    "\n",
    "#def fithLeast(li):\n",
    "def fifthLeast(li):\n",
    "    #Convert the list into a unique list\n",
    "    #Time complixity is number of loops we are using.If we use nested for loops then time complixity in N^2\n",
    "    #this problem is partially order of n^2\n",
    "    unique=[]\n",
    "    for n in li:\n",
    "        if n not in unique:\n",
    "            unique.append(n)\n",
    "    unique = sorted (unique,reverse=False)\n",
    "    return unique[5]\n",
    "fifthLeast([1,6,3,5,3,6,4,3,6,7,0,0,9,3,8])\n",
    "\n",
    "#def kLargest \n",
    "def KLargest(li,k):\n",
    "    unique=[]\n",
    "    for n in li:\n",
    "        if n not in unique:\n",
    "            unique.append(n)\n",
    "    unique=sorted(unique,reverse=True)\n",
    "    return unique[k]\n",
    "KLargest([1,2,34,5,6,66,736,679,9],1)\n",
    "\n",
    "#defkth smalest\n",
    "def Ksmallest(li,k):\n",
    "    unique=[]\n",
    "    for n in li:\n",
    "        if n not in unique:\n",
    "            unique.append(n). \n",
    "    unique=sorted(unique,reverse=False)\n",
    "    #sort done soting in acending order\n",
    "    return unique[k]\n",
    "Ksmallest([1,2,34,7,7,8,3,0],0)"
   ]
  },
  {
   "cell_type": "code",
   "execution_count": 14,
   "metadata": {},
   "outputs": [
    {
     "name": "stdout",
     "output_type": "stream",
     "text": [
      "679\n"
     ]
    }
   ],
   "source": [
    "def KLargest(li,k):\n",
    "    unique=[]\n",
    "    for n in li:\n",
    "        if n not in unique:\n",
    "            unique.append(n)\n",
    "    if k>len(unique):\n",
    "        print(\"-1\")\n",
    "    else:\n",
    "        unique=sorted(unique,reverse=True)\n",
    "        print (unique[k])\n",
    "KLargest([1,2,34,5,6,66,736,679,9],1)\n"
   ]
  },
  {
   "cell_type": "code",
   "execution_count": 19,
   "metadata": {},
   "outputs": [
    {
     "data": {
      "text/plain": [
       "9"
      ]
     },
     "execution_count": 19,
     "metadata": {},
     "output_type": "execute_result"
    }
   ],
   "source": [
    "def ksmallest(li,k):\n",
    "    unique=[]\n",
    "    for n in li:\n",
    "        if n not in unique:\n",
    "            unique.append(n)\n",
    "    unique=sorted(unique,reverse=False)\n",
    "    #checkif length of unique is greater \n",
    "    if len(unique)>=k:\n",
    "        return unique[k-1]\n",
    "    return -1\n",
    "ksmallest([3,3,9],2)\n"
   ]
  },
  {
   "cell_type": "code",
   "execution_count": 24,
   "metadata": {},
   "outputs": [
    {
     "ename": "UnboundLocalError",
     "evalue": "local variable 'count' referenced before assignment",
     "output_type": "error",
     "traceback": [
      "\u001b[1;31m---------------------------------------------------------------------------\u001b[0m",
      "\u001b[1;31mUnboundLocalError\u001b[0m                         Traceback (most recent call last)",
      "\u001b[1;32m<ipython-input-24-5df6ccf00fe3>\u001b[0m in \u001b[0;36m<module>\u001b[1;34m\u001b[0m\n\u001b[0;32m     17\u001b[0m             \u001b[0munique\u001b[0m\u001b[1;33m.\u001b[0m\u001b[0mappend\u001b[0m\u001b[1;33m(\u001b[0m\u001b[0mi\u001b[0m\u001b[1;33m)\u001b[0m\u001b[1;33m\u001b[0m\u001b[1;33m\u001b[0m\u001b[0m\n\u001b[0;32m     18\u001b[0m     \u001b[1;32mreturn\u001b[0m \u001b[0munique\u001b[0m\u001b[1;33m\u001b[0m\u001b[1;33m\u001b[0m\u001b[0m\n\u001b[1;32m---> 19\u001b[1;33m \u001b[0mhighestFrequency\u001b[0m\u001b[1;33m(\u001b[0m\u001b[1;33m[\u001b[0m\u001b[1;36m1\u001b[0m\u001b[1;33m,\u001b[0m\u001b[1;36m2\u001b[0m\u001b[1;33m,\u001b[0m\u001b[1;36m3\u001b[0m\u001b[1;33m,\u001b[0m\u001b[1;36m5\u001b[0m\u001b[1;33m,\u001b[0m\u001b[1;36m2\u001b[0m\u001b[1;33m,\u001b[0m\u001b[1;36m6\u001b[0m\u001b[1;33m]\u001b[0m\u001b[1;33m)\u001b[0m\u001b[1;33m\u001b[0m\u001b[1;33m\u001b[0m\u001b[0m\n\u001b[0m",
      "\u001b[1;32m<ipython-input-24-5df6ccf00fe3>\u001b[0m in \u001b[0;36mhighestFrequency\u001b[1;34m(li)\u001b[0m\n\u001b[0;32m      5\u001b[0m \u001b[1;32mdef\u001b[0m \u001b[0mhighestFrequency\u001b[0m\u001b[1;33m(\u001b[0m\u001b[0mli\u001b[0m\u001b[1;33m)\u001b[0m\u001b[1;33m:\u001b[0m\u001b[1;33m\u001b[0m\u001b[1;33m\u001b[0m\u001b[0m\n\u001b[0;32m      6\u001b[0m     \u001b[1;32mfor\u001b[0m \u001b[0mj\u001b[0m \u001b[1;32min\u001b[0m \u001b[0muniquedata\u001b[0m\u001b[1;33m(\u001b[0m\u001b[0mli\u001b[0m\u001b[1;33m)\u001b[0m\u001b[1;33m:\u001b[0m\u001b[1;33m\u001b[0m\u001b[1;33m\u001b[0m\u001b[0m\n\u001b[1;32m----> 7\u001b[1;33m         \u001b[0mcount\u001b[0m\u001b[1;33m=\u001b[0m\u001b[0mcount\u001b[0m\u001b[1;33m.\u001b[0m\u001b[0mli\u001b[0m\u001b[1;33m\u001b[0m\u001b[1;33m\u001b[0m\u001b[0m\n\u001b[0m\u001b[0;32m      8\u001b[0m     \u001b[1;32mreturn\u001b[0m \u001b[0mcount\u001b[0m\u001b[1;33m\u001b[0m\u001b[1;33m\u001b[0m\u001b[0m\n\u001b[0;32m      9\u001b[0m \u001b[1;33m\u001b[0m\u001b[0m\n",
      "\u001b[1;31mUnboundLocalError\u001b[0m: local variable 'count' referenced before assignment"
     ]
    }
   ],
   "source": [
    "#Fuction to identify the element with high frequency\n",
    "#If many elements have the higest frequency\n",
    "##higestFrequency([1,2,3,9,8,7,4,2,1])\n",
    "\n",
    "def highestFrequency(li): \n",
    "    count=0\n",
    "    for j in uniquedata(li):\n",
    "        count=count.li\n",
    "    return count\n",
    "\n",
    "\n",
    "        \n",
    "        \n",
    "def uniquedata(li):    \n",
    "    unique=[]\n",
    "    for i in li:\n",
    "        if i not in unique:\n",
    "            unique.append(i)\n",
    "    return unique\n",
    "highestFrequency([1,2,3,5,2,6])\n"
   ]
  },
  {
   "cell_type": "code",
   "execution_count": 2,
   "metadata": {},
   "outputs": [
    {
     "data": {
      "text/plain": [
       "1"
      ]
     },
     "execution_count": 2,
     "metadata": {},
     "output_type": "execute_result"
    }
   ],
   "source": [
    "#Fuction to identify the element with high frequency\n",
    "#If many elements have the higest frequency\n",
    "##higestFrequency([1,2,3,9,8,7,4,2,1]) give the smallest\n",
    "\n",
    "def highestFrequencyElement(li):\n",
    "    #Extracting the unique elements\n",
    "    unique = {}\n",
    "    for n in li:\n",
    "        if n not in unique:\n",
    "            unique[n]=1\n",
    "        else:\n",
    "            unique[n]+=1\n",
    "    #unique = {1:2,2:2,3:2,9:1,4:1,8:1,7:1}\n",
    "    #getting the all counts in alist\n",
    "    freq  = unique.values()\n",
    "    maxfreq=max(freq)\n",
    "    maxfreqE=[]\n",
    "    \n",
    "    #identify the smallest number with maxium freuency\n",
    "    for item in unique.items():\n",
    "        #item ->(key,vaule)\n",
    "        #item[1]=value\n",
    "        #item[0]=key\n",
    "        if item[1]==maxfreq:\n",
    "            maxfreqE.append(item[0])\n",
    "        return min(maxfreqE)\n",
    "highestFrequencyElement([1,2,3,9,8,7,3,4,2,1])\n"
   ]
  },
  {
   "cell_type": "code",
   "execution_count": 60,
   "metadata": {},
   "outputs": [
    {
     "data": {
      "text/plain": [
       "3"
      ]
     },
     "execution_count": 60,
     "metadata": {},
     "output_type": "execute_result"
    }
   ],
   "source": [
    "#Fuction to identify the second highest frequency\n",
    "#if there are many such elements ,return the smallestelement.\n",
    "#[1,2,3,2,1,4,4,9] ->3\n",
    "def secondhighestFrequencyElement(li):\n",
    "    unique = {}\n",
    "    for n in li:\n",
    "        if n not in unique:\n",
    "            unique[n]=1\n",
    "        else:\n",
    "            unique[n]+=1\n",
    "    freq  = unique.values()\n",
    "    fre=sorted(freq,reverse=True)\n",
    "    max=max(fre)\n",
    "    for i in freq:\n",
    "secondhighestFrequencyElement([1,2,4,5,2,3,6,3,2,1,1])\n"
   ]
  },
  {
   "cell_type": "code",
   "execution_count": 12,
   "metadata": {
    "scrolled": true
   },
   "outputs": [
    {
     "data": {
      "text/plain": [
       "2"
      ]
     },
     "execution_count": 12,
     "metadata": {},
     "output_type": "execute_result"
    }
   ],
   "source": [
    "#k th highest element\n",
    "def highestFrequencyElement(li,k):\n",
    "    #Extracting the unique elements\n",
    "    unique = {}\n",
    "    for n in li:\n",
    "        if n not in unique:\n",
    "            unique[n]=1\n",
    "        else:\n",
    "            unique[n]+=1\n",
    "    #unique = {1:2,2:2,3:2,9:1,4:1,8:1,7:1}\n",
    "    #Extract all unique frequencies in a list\n",
    "    #uniqfreq = [2,1,5,4]\n",
    "    unifreq=[]\n",
    "    for value in unique.values():\n",
    "        if value not in unifreq:\n",
    "                unifreq.append(value)\n",
    "    unifreq = sorted(unifreq,reverse=True)\n",
    "    if len(unifreq)>=k:\n",
    "        kfreq = unifreq[k-1]\n",
    "    else:\n",
    "        return -1\n",
    "    kfreqchar=[]\n",
    "    for item in unique.items():\n",
    "         if item [1]==kfreq:\n",
    "                kfreqchar.append(item[0])\n",
    "    return min(kfreqchar)\n",
    "\n",
    "        \n",
    "    \n",
    "\n",
    "highestFrequencyElement([9,8,7,6,5,2,3,4,9,6,7,7,7,6,6,6],4)"
   ]
  },
  {
   "cell_type": "code",
   "execution_count": 19,
   "metadata": {},
   "outputs": [
    {
     "name": "stdout",
     "output_type": "stream",
     "text": [
      "s\n",
      "g\n",
      "h\n",
      "e\n",
      "w\n",
      "r\n",
      "n\n",
      "k\n",
      "-1\n",
      "-1\n"
     ]
    }
   ],
   "source": [
    "#k th highest frequency in string element\n",
    "def klargestfrequency(li,k):\n",
    "    #Extracting the unique elements\n",
    "    unique = {}\n",
    "    for n in li:\n",
    "        if n not in unique:\n",
    "            unique[n]=1\n",
    "        else:\n",
    "            unique[n]+=1\n",
    "    #unique = {1:2,2:2,3:2,9:1,4:1,8:1,7:1}\n",
    "    #Extract all unique frequencies in a list\n",
    "    #uniqfreq = [2,1,5,4]\n",
    "    unifreq=[]\n",
    "    for value in unique.values():\n",
    "        if value not in unifreq:\n",
    "                unifreq.append(value)\n",
    "    unifreq = sorted(unifreq,reverse=True)\n",
    "    if len(unifreq)>k:\n",
    "        kfreq = unifreq[k-1]\n",
    "    else:\n",
    "        return -1\n",
    "    kfreqchar=[]\n",
    "    for item in unique.items():\n",
    "         if item [1]==kfreq:\n",
    "                kfreqchar.append(item[0])\n",
    "    return min(kfreqchar)\n",
    "klargestfrequency([9,8,7,6,5,2,3,4,9,6,7,7,7,6,6,6],4)\n",
    "\n",
    "with open('DataFiles/k-largest-frequency') as f:\n",
    "    t=int(f.readline())\n",
    "    for i in range(t):\n",
    "        s=f.readline()\n",
    "        k=int(f.readline())\n",
    "        print(klargestfrequency(s,k))\n"
   ]
  },
  {
   "cell_type": "code",
   "execution_count": 20,
   "metadata": {},
   "outputs": [
    {
     "name": "stdout",
     "output_type": "stream",
     "text": [
      "3\n"
     ]
    }
   ],
   "source": [
    "list=[3,3,2,1,1]\n",
    "m=max(list)\n",
    "print(m)\n"
   ]
  },
  {
   "cell_type": "code",
   "execution_count": null,
   "metadata": {},
   "outputs": [],
   "source": []
  }
 ],
 "metadata": {
  "kernelspec": {
   "display_name": "Python 3",
   "language": "python",
   "name": "python3"
  },
  "language_info": {
   "codemirror_mode": {
    "name": "ipython",
    "version": 3
   },
   "file_extension": ".py",
   "mimetype": "text/x-python",
   "name": "python",
   "nbconvert_exporter": "python",
   "pygments_lexer": "ipython3",
   "version": "3.7.3"
  }
 },
 "nbformat": 4,
 "nbformat_minor": 2
}
