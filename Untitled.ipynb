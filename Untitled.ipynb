{
 "cells": [
  {
   "cell_type": "code",
   "execution_count": 1,
   "metadata": {},
   "outputs": [
    {
     "data": {
      "text/plain": [
       "[3, 2, 1]"
      ]
     },
     "execution_count": 1,
     "metadata": {},
     "output_type": "execute_result"
    }
   ],
   "source": [
    "l=[1,2,3]\n",
    "l[::-1]"
   ]
  },
  {
   "cell_type": "code",
   "execution_count": 2,
   "metadata": {},
   "outputs": [
    {
     "data": {
      "text/plain": [
       "[2]"
      ]
     },
     "execution_count": 2,
     "metadata": {},
     "output_type": "execute_result"
    }
   ],
   "source": [
    "l[-2:-1]"
   ]
  },
  {
   "cell_type": "code",
   "execution_count": 6,
   "metadata": {},
   "outputs": [
    {
     "data": {
      "text/plain": [
       "[1, 2]"
      ]
     },
     "execution_count": 6,
     "metadata": {},
     "output_type": "execute_result"
    }
   ],
   "source": [
    "l[0:2]"
   ]
  },
  {
   "cell_type": "code",
   "execution_count": 3,
   "metadata": {},
   "outputs": [
    {
     "name": "stdout",
     "output_type": "stream",
     "text": [
      "1 3 5 7 9 "
     ]
    }
   ],
   "source": [
    "for i in range(1,11):\n",
    "    if i%2==0:\n",
    "        continue\n",
    "    else:\n",
    "        print(i,end=\" \")"
   ]
  },
  {
   "cell_type": "code",
   "execution_count": 19,
   "metadata": {},
   "outputs": [
    {
     "name": "stdout",
     "output_type": "stream",
     "text": [
      "prime 2\n",
      "prime 3\n",
      "prime 5\n",
      "prime 7\n"
     ]
    }
   ],
   "source": [
    "for i in range(1,11):\n",
    "    count=0\n",
    "    for j in range(1,i+1):\n",
    "        if i%j==0:\n",
    "            count=count+1\n",
    "    if count==2:\n",
    "        print(\"prime\",i)"
   ]
  },
  {
   "cell_type": "code",
   "execution_count": 1,
   "metadata": {},
   "outputs": [
    {
     "name": "stdout",
     "output_type": "stream",
     "text": [
      "2\n",
      "Hello\n",
      "IfmmpThis is python\n",
      "Uijt jt qzuipo"
     ]
    }
   ],
   "source": [
    "####probelm 3 in test 10-06-2019\n",
    "T=int(input())\n",
    "for i in range(0,T):\n",
    "    s=input()\n",
    "    for i in s:\n",
    "        if i.isalpha():\n",
    "            print(chr(ord(i)+1),end=\"\")\n",
    "        else:\n",
    "            print(i,end='')\n",
    "        "
   ]
  },
  {
   "cell_type": "code",
   "execution_count": 18,
   "metadata": {},
   "outputs": [
    {
     "name": "stdout",
     "output_type": "stream",
     "text": [
      "2\n",
      "-1 2 3 5 6 7 8 -91\n",
      "61\n",
      "-4 5 6 7 8 2 4 5 -7\n",
      "26\n"
     ]
    }
   ],
   "source": [
    "####probelm 1 in test 10-06-2019\n",
    "T=int(input())\n",
    "for i in range(0,T):\n",
    "    s=input()\n",
    "    a=s.split()\n",
    "    s=0\n",
    "    for i in a:\n",
    "        s=s+int(i)\n",
    "    print(abs(s))"
   ]
  },
  {
   "cell_type": "code",
   "execution_count": 3,
   "metadata": {},
   "outputs": [
    {
     "name": "stdout",
     "output_type": "stream",
     "text": [
      "2\n",
      "1234567890\n",
      "True\n",
      "123456789\n",
      "False\n"
     ]
    }
   ],
   "source": [
    "####probelm 2 in test 10-06-2019\n",
    "T=int(input())\n",
    "for i in range(0,T):\n",
    "    s=input()\n",
    "    li=list(s)\n",
    "    uni=[]\n",
    "    for i in li:\n",
    "        if i not in uni:\n",
    "            uni.append(i)\n",
    "    if len(uni)==10:\n",
    "        print(\"True\")\n",
    "    else:\n",
    "        print(\"False\")\n",
    "        "
   ]
  },
  {
   "cell_type": "code",
   "execution_count": 12,
   "metadata": {},
   "outputs": [
    {
     "name": "stdout",
     "output_type": "stream",
     "text": [
      "1\n",
      "2 3\n",
      "2\n",
      "3\n"
     ]
    }
   ],
   "source": [
    "T=int(input())\n",
    "for i in range(0,T):\n",
    "    s=input()\n",
    "    x=[]\n",
    "    for i in s:\n",
    "        for j in range(0,len(i)):\n",
    "            print(i[0])\n",
    "    \n",
    "        "
   ]
  },
  {
   "cell_type": "code",
   "execution_count": 20,
   "metadata": {},
   "outputs": [
    {
     "data": {
      "text/plain": [
       "3"
      ]
     },
     "execution_count": 20,
     "metadata": {},
     "output_type": "execute_result"
    }
   ],
   "source": [
    "1+2"
   ]
  },
  {
   "cell_type": "code",
   "execution_count": 18,
   "metadata": {},
   "outputs": [
    {
     "data": {
      "text/plain": [
       "str"
      ]
     },
     "execution_count": 18,
     "metadata": {},
     "output_type": "execute_result"
    }
   ],
   "source": [
    "type(\"j\")"
   ]
  }
 ],
 "metadata": {
  "kernelspec": {
   "display_name": "Python 3",
   "language": "python",
   "name": "python3"
  },
  "language_info": {
   "codemirror_mode": {
    "name": "ipython",
    "version": 3
   },
   "file_extension": ".py",
   "mimetype": "text/x-python",
   "name": "python",
   "nbconvert_exporter": "python",
   "pygments_lexer": "ipython3",
   "version": "3.7.3"
  }
 },
 "nbformat": 4,
 "nbformat_minor": 2
}
