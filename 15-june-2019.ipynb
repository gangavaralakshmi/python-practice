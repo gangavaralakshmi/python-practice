{
 "cells": [
  {
   "cell_type": "code",
   "execution_count": 1,
   "metadata": {},
   "outputs": [
    {
     "name": "stdout",
     "output_type": "stream",
     "text": [
      "abcdE\n",
      "ABCDe\n"
     ]
    }
   ],
   "source": [
    "S = input ()#Toggle String\n",
    "def togglestring(S):\n",
    "    S=S.swapcase()\n",
    "    print (S)\n",
    "\n",
    "togglestring(S)"
   ]
  },
  {
   "cell_type": "code",
   "execution_count": 2,
   "metadata": {},
   "outputs": [
    {
     "name": "stdout",
     "output_type": "stream",
     "text": [
      "abcdE\n",
      "ABCDe\n"
     ]
    }
   ],
   "source": [
    "S = input( ) ####Togglestring\n",
    "li=[]\n",
    "\n",
    "for i in range (len(S)):\n",
    "    li.append(S[i])\n",
    "s1=li[0]+li[1]+li[2]+li[3]\n",
    "s2=li[4]\n",
    "print (s1.upper()+s2.lower())\n",
    "\n"
   ]
  },
  {
   "cell_type": "code",
   "execution_count": 3,
   "metadata": {},
   "outputs": [
    {
     "name": "stdout",
     "output_type": "stream",
     "text": [
      "9\n",
      "2 3 5 7 "
     ]
    }
   ],
   "source": [
    "#prime number\n",
    "\n",
    "def primenumber(N):\n",
    "    for i in range(1,N):\n",
    "        count = 0\n",
    "        for j in range(1,i+1):\n",
    "            if i % j == 0:\n",
    "                count =count + 1\n",
    "        if count == 2:\n",
    "            print (i,end = \" \")\n",
    "N = int (input ())\n",
    "primenumber(N)"
   ]
  },
  {
   "cell_type": "code",
   "execution_count": 6,
   "metadata": {},
   "outputs": [
    {
     "name": "stdout",
     "output_type": "stream",
     "text": [
      "4\n",
      "24\n"
     ]
    }
   ],
   "source": [
    "#Factorial\n",
    "\n",
    "def factorial(N):\n",
    "    fact = 1\n",
    "    for i in range (1,N+1):\n",
    "        fact=fact*i\n",
    "    print (fact)\n",
    "N = int (input ())\n",
    "factorial(N)"
   ]
  },
  {
   "cell_type": "code",
   "execution_count": 16,
   "metadata": {},
   "outputs": [
    {
     "name": "stdout",
     "output_type": "stream",
     "text": [
      "1\n",
      "10\n",
      "1\n",
      "10\n"
     ]
    }
   ],
   "source": [
    "#Count Divisors\n",
    "\n",
    "def divisor(l,r,k):\n",
    "    count = 0\n",
    "    for i in range (l,r+1):\n",
    "        if i % k == 0:\n",
    "            count = count+1\n",
    "    print (count) \n",
    "l = int(input ( ))\n",
    "r= int (input ( ))\n",
    "k = int (input ( ))\n",
    "\n",
    "divisor (l,r,k)\n",
    "            \n",
    "    "
   ]
  },
  {
   "cell_type": "code",
   "execution_count": null,
   "metadata": {},
   "outputs": [],
   "source": []
  }
 ],
 "metadata": {
  "kernelspec": {
   "display_name": "Python 3",
   "language": "python",
   "name": "python3"
  },
  "language_info": {
   "codemirror_mode": {
    "name": "ipython",
    "version": 3
   },
   "file_extension": ".py",
   "mimetype": "text/x-python",
   "name": "python",
   "nbconvert_exporter": "python",
   "pygments_lexer": "ipython3",
   "version": "3.7.3"
  }
 },
 "nbformat": 4,
 "nbformat_minor": 2
}
