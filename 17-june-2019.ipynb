{
 "cells": [
  {
   "cell_type": "code",
   "execution_count": 1,
   "metadata": {},
   "outputs": [
    {
     "data": {
      "text/plain": [
       "True"
      ]
     },
     "execution_count": 1,
     "metadata": {},
     "output_type": "execute_result"
    }
   ],
   "source": [
    "# function to Toggle string character\n",
    "\n",
    "s= \"a\"\n",
    "s.islower()"
   ]
  },
  {
   "cell_type": "code",
   "execution_count": 3,
   "metadata": {},
   "outputs": [
    {
     "data": {
      "text/plain": [
       "True"
      ]
     },
     "execution_count": 3,
     "metadata": {},
     "output_type": "execute_result"
    }
   ],
   "source": [
    "s= \"A\"\n",
    "s.isupper()"
   ]
  },
  {
   "cell_type": "code",
   "execution_count": 8,
   "metadata": {},
   "outputs": [
    {
     "name": "stdout",
     "output_type": "stream",
     "text": [
      "abc\n",
      "ABC\n",
      "['abc']\n"
     ]
    },
    {
     "data": {
      "text/plain": [
       "['a', 'b', 'c']"
      ]
     },
     "execution_count": 8,
     "metadata": {},
     "output_type": "execute_result"
    }
   ],
   "source": [
    "s=\"abc\"\n",
    "print (s.lower())#Convert a character to lowercase\n",
    "print (s.upper())#Convert a character to uppercase\n",
    "print (s.split())\n",
    "list (s)\n"
   ]
  },
  {
   "cell_type": "code",
   "execution_count": 15,
   "metadata": {},
   "outputs": [
    {
     "data": {
      "text/plain": [
       "'a B C'"
      ]
     },
     "execution_count": 15,
     "metadata": {},
     "output_type": "execute_result"
    }
   ],
   "source": [
    "# Fucntion to Toggle Sting character list\n",
    "\n",
    "def toggelstring(s):\n",
    "    #convert the string intpo a list\n",
    "    s=list(s)\n",
    "    t = []\n",
    "    for c in s:\n",
    "        if c.islower():\n",
    "            t.append(c.upper())\n",
    "        else:\n",
    "            t.append(c.lower())\n",
    "    return \" \".join(t)\n",
    "toggelstring(\"Abc\")"
   ]
  },
  {
   "cell_type": "code",
   "execution_count": 18,
   "metadata": {},
   "outputs": [
    {
     "data": {
      "text/plain": [
       "' aBC'"
      ]
     },
     "execution_count": 18,
     "metadata": {},
     "output_type": "execute_result"
    }
   ],
   "source": [
    "def toggelstring(s):\n",
    "    #convert the string intpo a list\n",
    "    s=list(s)\n",
    "    t = \" \"\n",
    "    for c in  s:\n",
    "        if c.islower():\n",
    "            t+=c.upper()\n",
    "        else:\n",
    "            t+=c.lower()\n",
    "    return t\n",
    "toggelstring(\"Abc\")"
   ]
  },
  {
   "cell_type": "markdown",
   "metadata": {},
   "source": [
    "# Probelm Duration \n",
    "Input:start time , end time (HH MM)\n",
    "   \n",
    "   HH - { 00 ,01, 02 ,03 ... 23}\n",
    "    \n",
    "   MM - (00, 01 , 02 ... 59)\n",
    "    \n",
    "   HH MM -{00 00 , 023 59}\n",
    "    \n",
    "output: time difference in HH MM\n",
    "    "
   ]
  },
  {
   "cell_type": "code",
   "execution_count": 29,
   "metadata": {},
   "outputs": [
    {
     "name": "stdout",
     "output_type": "stream",
     "text": [
      "2\n",
      "1 44 2 14\n",
      "0 30\n",
      "2 42 8 23\n",
      "5 41\n"
     ]
    }
   ],
   "source": [
    "# calculate the time diffeernece as total number of \n",
    "#Convert the total minutes into HH MM\n",
    "\n",
    "def minuteDifference(s):\n",
    "    s= s.split()\n",
    "    sh=int(s[0])\n",
    "    sm=int(s[1])\n",
    "    eh=int(s[2])\n",
    "    em=int(s[3])\n",
    "    startminutes =  (sh*60 ) + sm \n",
    "    endminutes = (eh*60) + em\n",
    "    return endminutes -startminutes\n",
    "def outputTimeFormat(minutes):\n",
    "    #Conver minutes into HH MM\n",
    "    hh = minutes // 60 # Here we are calulcating the floor of the value\n",
    "    mm = minutes % 60 \n",
    "    print (hh,mm)\n",
    "    return\n",
    "n=int (input( ))\n",
    "for i in range (0,n):\n",
    "        s=input()\n",
    "        minutes = minuteDifference(s)\n",
    "        outputTimeFormat(minutes)\n",
    "                    "
   ]
  },
  {
   "cell_type": "code",
   "execution_count": null,
   "metadata": {},
   "outputs": [],
   "source": [
    "### Probelm : paly with numbers\n",
    "line 1 :array size(n),no of quires (q)\n",
    "    line2:array elements\n",
    "    next q lines:query-subarray of the original\n",
    "    array\n",
    "#Read arary elements\n",
    "a=input().spilt()\n",
    "n[0],n[1]=int (n[0],n[1])\n",
    "n= input ().split()\n",
    "n[0]=input (n[0])\n",
    "a = input().split()\n",
    "#Cumulative Sum\n",
    "for i  in range(0,n[0]):\n",
    "    if i==0:\n",
    "        sum.append(int(a[i]))\n",
    "    else:\n",
    "        sum.append(int(sum(i-1)+int(a[i])))\n",
    "#Read each query and calualte the average\n",
    "        sum[i] = a[i]\n",
    "    sum[0]=sum[i-1] + a[i]#first element \n",
    "    sum[1]= #fist + second \n",
    "    sum[2]= # sum[1]+third\n",
    "    \n",
    "    "
   ]
  },
  {
   "cell_type": "code",
   "execution_count": 1,
   "metadata": {},
   "outputs": [
    {
     "name": "stdout",
     "output_type": "stream",
     "text": [
      "5\n"
     ]
    }
   ],
   "source": [
    "s = input ()\n",
    "\n"
   ]
  },
  {
   "cell_type": "code",
   "execution_count": 2,
   "metadata": {},
   "outputs": [
    {
     "data": {
      "text/plain": [
       "str"
      ]
     },
     "execution_count": 2,
     "metadata": {},
     "output_type": "execute_result"
    }
   ],
   "source": [
    "type(s)"
   ]
  },
  {
   "cell_type": "code",
   "execution_count": 3,
   "metadata": {},
   "outputs": [
    {
     "name": "stdout",
     "output_type": "stream",
     "text": [
      "10 5 15\n"
     ]
    }
   ],
   "source": [
    "s = input ()"
   ]
  },
  {
   "cell_type": "code",
   "execution_count": 4,
   "metadata": {},
   "outputs": [
    {
     "data": {
      "text/plain": [
       "str"
      ]
     },
     "execution_count": 4,
     "metadata": {},
     "output_type": "execute_result"
    }
   ],
   "source": [
    "type(s)"
   ]
  },
  {
   "cell_type": "code",
   "execution_count": 5,
   "metadata": {},
   "outputs": [
    {
     "data": {
      "text/plain": [
       "['10', '5', '15']"
      ]
     },
     "execution_count": 5,
     "metadata": {},
     "output_type": "execute_result"
    }
   ],
   "source": [
    "s.split()"
   ]
  },
  {
   "cell_type": "code",
   "execution_count": 6,
   "metadata": {},
   "outputs": [
    {
     "data": {
      "text/plain": [
       "'1'"
      ]
     },
     "execution_count": 6,
     "metadata": {},
     "output_type": "execute_result"
    }
   ],
   "source": [
    "s[0]"
   ]
  },
  {
   "cell_type": "code",
   "execution_count": 3,
   "metadata": {},
   "outputs": [
    {
     "name": "stdout",
     "output_type": "stream",
     "text": [
      "3\n",
      "6\n",
      "YES\n",
      "5\n",
      "NO\n",
      "28\n",
      "YES\n",
      "YES\n"
     ]
    }
   ],
   "source": [
    "###perfect number\n",
    "\n",
    "def perfectnumber(N):\n",
    "    sum = 0\n",
    "    for i in range (1,N):\n",
    "        if N % i == 0:\n",
    "            sum=sum+i\n",
    "    if sum == N:\n",
    "        print (\"YES\")\n",
    "    else:\n",
    "        print (\"NO\")\n",
    "T = int(input ())    \n",
    "for i in range(T):\n",
    "    N=int(input())\n",
    "    perfectnumber(N)\n",
    "\n",
    "perfectnumber(N)\n",
    "    "
   ]
  },
  {
   "cell_type": "code",
   "execution_count": null,
   "metadata": {},
   "outputs": [],
   "source": [
    "\n",
    "T = int(input ())\n",
    "for i in range(T):\n",
    "    N=int(input())\n",
    "    print (N)\n"
   ]
  },
  {
   "cell_type": "code",
   "execution_count": 35,
   "metadata": {},
   "outputs": [
    {
     "name": "stdout",
     "output_type": "stream",
     "text": [
      "2\n",
      "3\n",
      "6\n",
      "Yes\n",
      "1\n",
      "No\n",
      "3\n",
      "No\n"
     ]
    }
   ],
   "source": [
    "#FUNCTION TO CHECK IF NUMBER IS PRIME\n",
    "def isSpecialnumber(n,p):\n",
    "    if numberPrimeFactors(n)>=p:\n",
    "        return True\n",
    "    return False\n",
    "def isPRIME(n):\n",
    "    flag = 1\n",
    "    if n == 2:\n",
    "        return True\n",
    "    for i in range(2,n//2+1):\n",
    "        if n%i==0:\n",
    "            flag=0\n",
    "            return  False\n",
    "    if flag == 1:\n",
    "            return True\n",
    "\n",
    "#Fuction to dermine number of Prime factors\n",
    "\n",
    "def numberPrimeFactors(n): #at P means >= P means either P or more than P\n",
    "    if isPRIME(n):\n",
    "        return 1\n",
    "    count = 0\n",
    "    for i in range (2,n//2+1):\n",
    "        if isPRIME(i) and n % i == 0:\n",
    "            count +=1\n",
    "    return count\n",
    "isSpecialnumber(6,3)\n",
    "\n",
    "def solution2():\n",
    "    p = int (input ())\n",
    "    t = int (input ())\n",
    "    for i in range(0,t):\n",
    "        n = int(input())\n",
    "        if isSpecialnumber(n,p):\n",
    "            print (\"Yes\")\n",
    "        else:\n",
    "            print (\"No\")\n",
    "solution2()"
   ]
  },
  {
   "cell_type": "code",
   "execution_count": null,
   "metadata": {},
   "outputs": [],
   "source": [
    "###Problem :Highest Remainder\n",
    "Write s program to find a natiral nuber that is smaller than N such that the \n",
    "Highest remainder when divided by that number.\n",
    "If there is more than one such number,print the smallest\n",
    "\n",
    "N\n",
    "highest = 0\n",
    "x<N and n%x == highest\n",
    "\n",
    "10\n",
    "9 1\n",
    "8 2\n",
    "7 3\n",
    "6 4\n",
    "3 1\n",
    "2 0\n",
    "\n",
    "30\n",
    "\n",
    "1\n",
    "2\n",
    "3\n",
    "4\n",
    "5\n",
    "6\n",
    ".\n",
    ".\n",
    ". \n",
    "16 14\n",
    "15 0\n",
    "\n",
    "9 \n",
    "8 \n"
   ]
  },
  {
   "cell_type": "code",
   "execution_count": 4,
   "metadata": {},
   "outputs": [
    {
     "name": "stdout",
     "output_type": "stream",
     "text": [
      "3\n"
     ]
    }
   ],
   "source": [
    "def highestRemainder(n):\n",
    "    hr = 0\n",
    "    v = n\n",
    "    for i in range (n-1, n//2,-1):\n",
    "            r = n %i\n",
    "            if r>hr:\n",
    "                hr = r\n",
    "                v = i\n",
    "    print (v)\n",
    "highestRemainder(4)\n",
    "    "
   ]
  },
  {
   "cell_type": "code",
   "execution_count": 5,
   "metadata": {},
   "outputs": [
    {
     "data": {
      "text/plain": [
       "['__abs__',\n",
       " '__add__',\n",
       " '__and__',\n",
       " '__bool__',\n",
       " '__ceil__',\n",
       " '__class__',\n",
       " '__delattr__',\n",
       " '__dir__',\n",
       " '__divmod__',\n",
       " '__doc__',\n",
       " '__eq__',\n",
       " '__float__',\n",
       " '__floor__',\n",
       " '__floordiv__',\n",
       " '__format__',\n",
       " '__ge__',\n",
       " '__getattribute__',\n",
       " '__getnewargs__',\n",
       " '__gt__',\n",
       " '__hash__',\n",
       " '__index__',\n",
       " '__init__',\n",
       " '__init_subclass__',\n",
       " '__int__',\n",
       " '__invert__',\n",
       " '__le__',\n",
       " '__lshift__',\n",
       " '__lt__',\n",
       " '__mod__',\n",
       " '__mul__',\n",
       " '__ne__',\n",
       " '__neg__',\n",
       " '__new__',\n",
       " '__or__',\n",
       " '__pos__',\n",
       " '__pow__',\n",
       " '__radd__',\n",
       " '__rand__',\n",
       " '__rdivmod__',\n",
       " '__reduce__',\n",
       " '__reduce_ex__',\n",
       " '__repr__',\n",
       " '__rfloordiv__',\n",
       " '__rlshift__',\n",
       " '__rmod__',\n",
       " '__rmul__',\n",
       " '__ror__',\n",
       " '__round__',\n",
       " '__rpow__',\n",
       " '__rrshift__',\n",
       " '__rshift__',\n",
       " '__rsub__',\n",
       " '__rtruediv__',\n",
       " '__rxor__',\n",
       " '__setattr__',\n",
       " '__sizeof__',\n",
       " '__str__',\n",
       " '__sub__',\n",
       " '__subclasshook__',\n",
       " '__truediv__',\n",
       " '__trunc__',\n",
       " '__xor__',\n",
       " 'bit_length',\n",
       " 'conjugate',\n",
       " 'denominator',\n",
       " 'from_bytes',\n",
       " 'imag',\n",
       " 'numerator',\n",
       " 'real',\n",
       " 'to_bytes']"
      ]
     },
     "execution_count": 5,
     "metadata": {},
     "output_type": "execute_result"
    }
   ],
   "source": [
    "dir(int)"
   ]
  },
  {
   "cell_type": "code",
   "execution_count": null,
   "metadata": {},
   "outputs": [],
   "source": []
  }
 ],
 "metadata": {
  "kernelspec": {
   "display_name": "Python 3",
   "language": "python",
   "name": "python3"
  },
  "language_info": {
   "codemirror_mode": {
    "name": "ipython",
    "version": 3
   },
   "file_extension": ".py",
   "mimetype": "text/x-python",
   "name": "python",
   "nbconvert_exporter": "python",
   "pygments_lexer": "ipython3",
   "version": "3.7.3"
  }
 },
 "nbformat": 4,
 "nbformat_minor": 2
}
