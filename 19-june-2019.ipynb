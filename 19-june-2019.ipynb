{
 "cells": [
  {
   "cell_type": "code",
   "execution_count": 1,
   "metadata": {},
   "outputs": [
    {
     "name": "stdout",
     "output_type": "stream",
     "text": [
      "5\n",
      "1 2 3 4 5\n",
      "120\n"
     ]
    }
   ],
   "source": [
    "#find product\n",
    "A = int (input())\n",
    "s = input()\n",
    "product=1\n",
    "for i in range (len(s)):\n",
    "    if s[i].isdigit():\n",
    "        l=int(s[i])\n",
    "        product=product*l\n",
    "print (product)\n",
    "        \n",
    "    "
   ]
  },
  {
   "cell_type": "code",
   "execution_count": 4,
   "metadata": {},
   "outputs": [
    {
     "name": "stdout",
     "output_type": "stream",
     "text": [
      "1 2 3 4 5 \n"
     ]
    },
    {
     "data": {
      "text/plain": [
       "str"
      ]
     },
     "execution_count": 4,
     "metadata": {},
     "output_type": "execute_result"
    }
   ],
   "source": [
    "s=input()\n",
    "type(s)"
   ]
  },
  {
   "cell_type": "code",
   "execution_count": 7,
   "metadata": {},
   "outputs": [
    {
     "name": "stdout",
     "output_type": "stream",
     "text": [
      "10\n"
     ]
    },
    {
     "data": {
      "text/plain": [
       "['1', ' ', '2', ' ', '3', ' ', '4', ' ', '5', ' ']"
      ]
     },
     "execution_count": 7,
     "metadata": {},
     "output_type": "execute_result"
    }
   ],
   "source": [
    "s=list(s)\n",
    "print (len(s))\n",
    "s"
   ]
  },
  {
   "cell_type": "code",
   "execution_count": 8,
   "metadata": {},
   "outputs": [
    {
     "name": "stdout",
     "output_type": "stream",
     "text": [
      "5\n",
      "1 2 3 4 5\n",
      "120\n"
     ]
    }
   ],
   "source": [
    "A = int (input())\n",
    "s = input()\n",
    "product=1\n",
    "for i in range (len(s)):\n",
    "    if s[i] !=' ':\n",
    "        product = product*int(s[i])\n",
    "print (product)    "
   ]
  },
  {
   "cell_type": "code",
   "execution_count": 10,
   "metadata": {},
   "outputs": [
    {
     "name": "stdout",
     "output_type": "stream",
     "text": [
      "3\n",
      "1 2 3\n",
      "6\n"
     ]
    }
   ],
   "source": [
    "A = int (input())\n",
    "s = input()\n",
    "s=s.split()\n",
    "product=1\n",
    "for i in s:\n",
    "    product=product*int(i)\n",
    "    \n",
    "print (product)\n"
   ]
  },
  {
   "cell_type": "code",
   "execution_count": 11,
   "metadata": {},
   "outputs": [
    {
     "name": "stdout",
     "output_type": "stream",
     "text": [
      "5\n",
      "1 2 3 4 5\n",
      "120\n"
     ]
    }
   ],
   "source": [
    "A = int (input())\n",
    "s =input()\n",
    "s=s.split()\n",
    "product=1\n",
    "for i in range (len(s)):\n",
    "    product=product*int(s[i])\n",
    "print (product)\n",
    "     "
   ]
  },
  {
   "cell_type": "code",
   "execution_count": 13,
   "metadata": {},
   "outputs": [
    {
     "name": "stdout",
     "output_type": "stream",
     "text": [
      "5\n",
      "1 2 3 4 5\n",
      "120\n"
     ]
    }
   ],
   "source": [
    "A = int (input())\n",
    "s =input( )\n",
    "s = s.split()\n",
    "product=1\n",
    "for i in range (len(s)):\n",
    "    product=(product*(int(s[i])))%(10**9+7)\n",
    "print (product)\n",
    "  "
   ]
  },
  {
   "cell_type": "code",
   "execution_count": 16,
   "metadata": {},
   "outputs": [
    {
     "name": "stdout",
     "output_type": "stream",
     "text": [
      "5\n",
      "1 2 3 4 5\n",
      "1\n",
      "2\n",
      "6\n",
      "24\n",
      "120\n",
      "120\n"
     ]
    }
   ],
   "source": [
    "A = int (input())\n",
    "s =input( )\n",
    "s = s.split()\n",
    "product=1\n",
    "for i in range (len(s)):\n",
    "    product=(product*(int(s[i])))%(10**9+7)\n",
    "    print (product)\n",
    "print (product)\n",
    " "
   ]
  },
  {
   "cell_type": "code",
   "execution_count": 23,
   "metadata": {},
   "outputs": [
    {
     "data": {
      "text/plain": [
       "120"
      ]
     },
     "execution_count": 23,
     "metadata": {},
     "output_type": "execute_result"
    }
   ],
   "source": [
    "a=1\n",
    "a=(a*1)%(10**9+7)\n",
    "a= (a*2)%(10**9+7)\n",
    "a= (a*3)%(10**9+7)\n",
    "a= (a*4)%(10**9+7)\n",
    "a= (a*5)%(10**9+7)\n",
    "a"
   ]
  },
  {
   "cell_type": "code",
   "execution_count": 26,
   "metadata": {},
   "outputs": [
    {
     "data": {
      "text/plain": [
       "147015495"
      ]
     },
     "execution_count": 26,
     "metadata": {},
     "output_type": "execute_result"
    }
   ],
   "source": [
    "a=1\n",
    "for i in range(1,320):\n",
    "    a= (a*i)%(10**9+7)\n",
    "a    "
   ]
  },
  {
   "cell_type": "code",
   "execution_count": 1,
   "metadata": {},
   "outputs": [
    {
     "name": "stdout",
     "output_type": "stream",
     "text": [
      "aba\n",
      "YES\n"
     ]
    }
   ],
   "source": [
    "s=input()\n",
    "if s == (s[::-1]):\n",
    "    print (\"YES\")\n",
    "else:\n",
    "    print (\"NO\")\n"
   ]
  },
  {
   "cell_type": "code",
   "execution_count": 2,
   "metadata": {},
   "outputs": [
    {
     "data": {
      "text/plain": [
       "['ganga']"
      ]
     },
     "execution_count": 2,
     "metadata": {},
     "output_type": "execute_result"
    }
   ],
   "source": [
    "s=\"ganga\"\n",
    "s.split()"
   ]
  },
  {
   "cell_type": "code",
   "execution_count": 4,
   "metadata": {},
   "outputs": [
    {
     "name": "stdout",
     "output_type": "stream",
     "text": [
      "3\n",
      "sumit musit\n",
      "YES\n",
      "aba baa\n",
      "YES\n",
      "nonn nonm\n",
      "NO\n"
     ]
    }
   ],
   "source": [
    "T=int(input ())#two strings\n",
    "\n",
    "for i in range(0,T):\n",
    "    s=input()\n",
    "    S=s.split()\n",
    "    if sorted(S[0])==sorted(S[1]):\n",
    "        print (\"YES\")\n",
    "    else:\n",
    "     print (\"NO\")"
   ]
  },
  {
   "cell_type": "code",
   "execution_count": 5,
   "metadata": {},
   "outputs": [
    {
     "data": {
      "text/plain": [
       "3"
      ]
     },
     "execution_count": 5,
     "metadata": {},
     "output_type": "execute_result"
    }
   ],
   "source": [
    "22//7"
   ]
  },
  {
   "cell_type": "code",
   "execution_count": 6,
   "metadata": {},
   "outputs": [
    {
     "data": {
      "text/plain": [
       "3.142857142857143"
      ]
     },
     "execution_count": 6,
     "metadata": {},
     "output_type": "execute_result"
    }
   ],
   "source": [
    "22/7"
   ]
  },
  {
   "cell_type": "code",
   "execution_count": 7,
   "metadata": {},
   "outputs": [
    {
     "name": "stdout",
     "output_type": "stream",
     "text": [
      "3\n",
      "3 2\n",
      "5 2\n",
      "1 2\n",
      "3\n"
     ]
    }
   ],
   "source": [
    "d=int(input( ))#here i am culcalting the area but we calculate perimeter thats my mistake here\n",
    "count=0\n",
    "for i in range (0,d):\n",
    "    s=input ()\n",
    "    S=s.split()\n",
    "    if int(S[0])*(22/7)<=int(S[1])*100:\n",
    "        count = count+1\n",
    "print (count)\n"
   ]
  },
  {
   "cell_type": "code",
   "execution_count": null,
   "metadata": {},
   "outputs": [],
   "source": [
    "#Aman and Sarma\n",
    "d=int(input())\n",
    "count=0\n",
    "for i in range(0,d):\n",
    "    s=input()\n",
    "    S=s.split()\n",
    "    i=2*(22/7)*int(S[0])\n",
    "    if i<=(100*int(S[1])):\n",
    "        count = count+1\n",
    "print (count)"
   ]
  },
  {
   "cell_type": "code",
   "execution_count": 10,
   "metadata": {},
   "outputs": [
    {
     "name": "stdout",
     "output_type": "stream",
     "text": [
      "1\n",
      "3 2\n",
      "<class 'int'>\n"
     ]
    }
   ],
   "source": [
    "d=int (input ())\n",
    "count=0\n",
    "for i in range(0,d):\n",
    "    s=input()\n",
    "    S=s.split()\n",
    "    "
   ]
  },
  {
   "cell_type": "markdown",
   "metadata": {},
   "source": [
    "2*3.14"
   ]
  },
  {
   "cell_type": "code",
   "execution_count": 11,
   "metadata": {},
   "outputs": [
    {
     "name": "stdout",
     "output_type": "stream",
     "text": [
      "6.28\n"
     ]
    }
   ],
   "source": [
    "a=2*3.14\n",
    "print (a)"
   ]
  },
  {
   "cell_type": "code",
   "execution_count": null,
   "metadata": {},
   "outputs": [],
   "source": [
    "#Roy and profle picture\n",
    "L=int(input())\n",
    "N=int(input())\n",
    "for i in range(0,N):\n",
    "    P=input()\n",
    "    p=P.split()\n",
    "    W=int(p[0])\n",
    "    H=int(p[1])\n",
    "    if (W<L or H<L): \n",
    "        print (\"UPLOAD ANOTHER\")\n",
    "    if (W>=L) and (H>=L):\n",
    "        if (W==H):\n",
    "            print (\"ACCEPTED\")\n",
    "        else:\n",
    "            print (\"CROP IT\")\n",
    "    "
   ]
  },
  {
   "cell_type": "code",
   "execution_count": 10,
   "metadata": {},
   "outputs": [
    {
     "name": "stdout",
     "output_type": "stream",
     "text": [
      "5\n"
     ]
    }
   ],
   "source": [
    "l=\"ganga\"\n",
    "print(len(l))\n",
    "s=list(l)\n",
    "\n",
    "\n"
   ]
  },
  {
   "cell_type": "code",
   "execution_count": 21,
   "metadata": {},
   "outputs": [
    {
     "name": "stdout",
     "output_type": "stream",
     "text": [
      "1402601499\n",
      "257\n",
      "ILLEGAL ISBN\n"
     ]
    }
   ],
   "source": [
    "#BOOK and potioning\n",
    "ISBN=input()\n",
    "ISBN= list(ISBN)\n",
    "sum=0\n",
    "j=1\n",
    "for i in ISBN:\n",
    "    sum=sum+(j*int(i))\n",
    "    j=j+1\n",
    "if sum % 11 ==0:\n",
    "    print (\"Legal ISBN\")\n",
    "else:\n",
    "    print (\"ILLEGAL ISBN\")\n",
    "   \n",
    "        \n",
    " "
   ]
  },
  {
   "cell_type": "code",
   "execution_count": 28,
   "metadata": {},
   "outputs": [
    {
     "name": "stdout",
     "output_type": "stream",
     "text": [
      "1401601499\n",
      "1 2 3 4 5 6 7 8 9 10 1 2 3 4 5 6 7 8 9 10 1 2 3 4 5 6 7 8 9 10 1 2 3 4 5 6 7 8 9 10 1 2 3 4 5 6 7 8 9 10 1 2 3 4 5 6 7 8 9 10 1 2 3 4 5 6 7 8 9 10 1 2 3 4 5 6 7 8 9 10 1 2 3 4 5 6 7 8 9 10 1 2 3 4 5 6 7 8 9 10 1925\n",
      "Legal ISBN\n"
     ]
    }
   ],
   "source": [
    "ISBN=input()\n",
    "ISBN=list(ISBN)\n",
    "add=0\n",
    "j=1\n",
    "for i in ISBN:\n",
    "    for j in range(1,len(ISBN)+1):\n",
    "        print (j,end=\" \")\n",
    "        add=add+(j*int(i))\n",
    "        #j+=1\n",
    "print(add)\n",
    "if (add%11==0):\n",
    "    print (\"Legal ISBN\")\n",
    "else:\n",
    "    print (\"Illegal ISBN\")\n"
   ]
  },
  {
   "cell_type": "code",
   "execution_count": 23,
   "metadata": {},
   "outputs": [
    {
     "data": {
      "text/plain": [
       "0"
      ]
     },
     "execution_count": 23,
     "metadata": {},
     "output_type": "execute_result"
    }
   ],
   "source": [
    "1925%11"
   ]
  },
  {
   "cell_type": "code",
   "execution_count": 26,
   "metadata": {},
   "outputs": [
    {
     "name": "stdout",
     "output_type": "stream",
     "text": [
      "103\n",
      "97\n",
      "103\n",
      "97\n"
     ]
    }
   ],
   "source": [
    "s=\"gaga\"\n",
    "for i in s:\n",
    "    print (ord(i))\n",
    "   "
   ]
  },
  {
   "cell_type": "code",
   "execution_count": 27,
   "metadata": {},
   "outputs": [
    {
     "name": "stdout",
     "output_type": "stream",
     "text": [
      "ganga\n",
      "g\n",
      "a\n",
      "n\n",
      "g\n",
      "a\n"
     ]
    }
   ],
   "source": [
    "def IN(s):\n",
    "    for i in s:\n",
    "        print (i)\n",
    "s=input()\n",
    "IN(s)"
   ]
  },
  {
   "cell_type": "code",
   "execution_count": null,
   "metadata": {},
   "outputs": [],
   "source": [
    "def IN1(T,s):\n",
    "    for i in range(0,T):\n",
    "        for j in s:\n",
    "            print (j)\n",
    "T=int(input())\n"
   ]
  },
  {
   "cell_type": "code",
   "execution_count": 31,
   "metadata": {},
   "outputs": [
    {
     "name": "stdout",
     "output_type": "stream",
     "text": [
      "1\n",
      "1\n",
      "2\n",
      "1\n",
      "3\n",
      "1\n",
      "45\n",
      "2\n"
     ]
    }
   ],
   "source": [
    "for i in range(0,4):\n",
    "    In=input()\n",
    "    print (len(In))\n",
    "    "
   ]
  },
  {
   "cell_type": "code",
   "execution_count": 34,
   "metadata": {},
   "outputs": [
    {
     "name": "stdout",
     "output_type": "stream",
     "text": [
      "gangavaralakshmi\n",
      "true\n"
     ]
    }
   ],
   "source": [
    "s=input()\n",
    "if len(s)==5 or 14:\n",
    "    print (\"true\")"
   ]
  },
  {
   "cell_type": "code",
   "execution_count": 1,
   "metadata": {},
   "outputs": [
    {
     "name": "stdout",
     "output_type": "stream",
     "text": [
      "5\n",
      "100\n",
      "110\n",
      "YES\n",
      "130\n",
      "YES\n",
      "90\n",
      "NO\n",
      "100\n",
      "YES\n",
      "45\n",
      "NO\n"
     ]
    }
   ],
   "source": [
    "#Goki and his breakup\n",
    "N=int(input())\n",
    "x=int(input())\n",
    "for i in range(0,N):\n",
    "    y=int(input())\n",
    "    if y >= x:\n",
    "        print(\"YES\")\n",
    "    else:\n",
    "        print(\"NO\")"
   ]
  },
  {
   "cell_type": "code",
   "execution_count": 2,
   "metadata": {},
   "outputs": [
    {
     "name": "stdout",
     "output_type": "stream",
     "text": [
      "6\n",
      "1 1 1 2 2 0\n",
      "6\n",
      "1\n",
      "3\n",
      "2\n",
      "2\n",
      "1\n",
      "3\n",
      "3\n",
      "NOT PRESENT\n",
      "4\n",
      "NOT PRESENT\n",
      "0\n",
      "1\n"
     ]
    }
   ],
   "source": [
    "#Fuction to find numberof repetation elements \"MEMORISE ME\"\n",
    "L=int(input())\n",
    "SI=input()\n",
    "L=SI.split()\n",
    "R=int(input())\n",
    "for i in range(0,R):\n",
    "    k=int(input())\n",
    "    count=0\n",
    "    for j in L:\n",
    "        if (int(j)==k):\n",
    "            count=count+1\n",
    "    if count==0:\n",
    "        print(\"NOT PRESENT\")\n",
    "    else:\n",
    "        print(count)\n",
    "        "
   ]
  }
 ],
 "metadata": {
  "kernelspec": {
   "display_name": "Python 3",
   "language": "python",
   "name": "python3"
  },
  "language_info": {
   "codemirror_mode": {
    "name": "ipython",
    "version": 3
   },
   "file_extension": ".py",
   "mimetype": "text/x-python",
   "name": "python",
   "nbconvert_exporter": "python",
   "pygments_lexer": "ipython3",
   "version": "3.7.3"
  }
 },
 "nbformat": 4,
 "nbformat_minor": 2
}
