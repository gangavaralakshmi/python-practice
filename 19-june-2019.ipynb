{
 "cells": [
  {
   "cell_type": "code",
   "execution_count": 1,
   "metadata": {},
   "outputs": [
    {
     "name": "stdout",
     "output_type": "stream",
     "text": [
      "5\n",
      "1 2 3 4 5\n",
      "120\n"
     ]
    }
   ],
   "source": [
    "A = int (input())\n",
    "s = input()\n",
    "product=1\n",
    "for i in range (len(s)):\n",
    "    if s[i].isdigit():\n",
    "        l=int(s[i])\n",
    "        product=product*l\n",
    "print (product)\n",
    "        \n",
    "    "
   ]
  },
  {
   "cell_type": "code",
   "execution_count": 4,
   "metadata": {},
   "outputs": [
    {
     "name": "stdout",
     "output_type": "stream",
     "text": [
      "1 2 3 4 5 \n"
     ]
    },
    {
     "data": {
      "text/plain": [
       "str"
      ]
     },
     "execution_count": 4,
     "metadata": {},
     "output_type": "execute_result"
    }
   ],
   "source": [
    "s=input()\n",
    "type(s)"
   ]
  },
  {
   "cell_type": "code",
   "execution_count": 7,
   "metadata": {},
   "outputs": [
    {
     "name": "stdout",
     "output_type": "stream",
     "text": [
      "10\n"
     ]
    },
    {
     "data": {
      "text/plain": [
       "['1', ' ', '2', ' ', '3', ' ', '4', ' ', '5', ' ']"
      ]
     },
     "execution_count": 7,
     "metadata": {},
     "output_type": "execute_result"
    }
   ],
   "source": [
    "s=list(s)\n",
    "print (len(s))\n",
    "s"
   ]
  },
  {
   "cell_type": "code",
   "execution_count": 8,
   "metadata": {},
   "outputs": [
    {
     "name": "stdout",
     "output_type": "stream",
     "text": [
      "5\n",
      "1 2 3 4 5\n",
      "120\n"
     ]
    }
   ],
   "source": [
    "A = int (input())\n",
    "s = input()\n",
    "product=1\n",
    "for i in range (len(s)):\n",
    "    if s[i] !=' ':\n",
    "        product = product*int(s[i])\n",
    "print (product)    "
   ]
  },
  {
   "cell_type": "code",
   "execution_count": 10,
   "metadata": {},
   "outputs": [
    {
     "name": "stdout",
     "output_type": "stream",
     "text": [
      "3\n",
      "1 2 3\n",
      "6\n"
     ]
    }
   ],
   "source": [
    "A = int (input())\n",
    "s = input()\n",
    "s=s.split()\n",
    "product=1\n",
    "for i in s:\n",
    "    product=product*int(i)\n",
    "    \n",
    "print (product)\n"
   ]
  },
  {
   "cell_type": "code",
   "execution_count": 11,
   "metadata": {},
   "outputs": [
    {
     "name": "stdout",
     "output_type": "stream",
     "text": [
      "5\n",
      "1 2 3 4 5\n",
      "120\n"
     ]
    }
   ],
   "source": [
    "A = int (input())\n",
    "s =input()\n",
    "s=s.split()\n",
    "product=1\n",
    "for i in range (len(s)):\n",
    "    product=product*int(s[i])\n",
    "print (product)\n",
    "     "
   ]
  },
  {
   "cell_type": "code",
   "execution_count": 13,
   "metadata": {},
   "outputs": [
    {
     "name": "stdout",
     "output_type": "stream",
     "text": [
      "5\n",
      "1 2 3 4 5\n",
      "120\n"
     ]
    }
   ],
   "source": [
    "A = int (input())\n",
    "s =input( )\n",
    "s = s.split()\n",
    "product=1\n",
    "for i in range (len(s)):\n",
    "    product=(product*(int(s[i])))%(10**9+7)\n",
    "print (product)\n",
    "  "
   ]
  },
  {
   "cell_type": "code",
   "execution_count": 16,
   "metadata": {},
   "outputs": [
    {
     "name": "stdout",
     "output_type": "stream",
     "text": [
      "5\n",
      "1 2 3 4 5\n",
      "1\n",
      "2\n",
      "6\n",
      "24\n",
      "120\n",
      "120\n"
     ]
    }
   ],
   "source": [
    "A = int (input())\n",
    "s =input( )\n",
    "s = s.split()\n",
    "product=1\n",
    "for i in range (len(s)):\n",
    "    product=(product*(int(s[i])))%(10**9+7)\n",
    "    print (product)\n",
    "print (product)\n",
    " "
   ]
  },
  {
   "cell_type": "code",
   "execution_count": 23,
   "metadata": {},
   "outputs": [
    {
     "data": {
      "text/plain": [
       "120"
      ]
     },
     "execution_count": 23,
     "metadata": {},
     "output_type": "execute_result"
    }
   ],
   "source": [
    "a=1\n",
    "a=(a*1)%(10**9+7)\n",
    "a= (a*2)%(10**9+7)\n",
    "a= (a*3)%(10**9+7)\n",
    "a= (a*4)%(10**9+7)\n",
    "a= (a*5)%(10**9+7)\n",
    "a"
   ]
  },
  {
   "cell_type": "code",
   "execution_count": 26,
   "metadata": {},
   "outputs": [
    {
     "data": {
      "text/plain": [
       "147015495"
      ]
     },
     "execution_count": 26,
     "metadata": {},
     "output_type": "execute_result"
    }
   ],
   "source": [
    "a=1\n",
    "for i in range(1,320):\n",
    "    a= (a*i)%(10**9+7)\n",
    "a    "
   ]
  },
  {
   "cell_type": "code",
   "execution_count": 1,
   "metadata": {},
   "outputs": [
    {
     "name": "stdout",
     "output_type": "stream",
     "text": [
      "aba\n",
      "YES\n"
     ]
    }
   ],
   "source": [
    "s=input()\n",
    "if s == (s[::-1]):\n",
    "    print (\"YES\")\n",
    "else:\n",
    "    print (\"NO\")\n"
   ]
  },
  {
   "cell_type": "code",
   "execution_count": 2,
   "metadata": {},
   "outputs": [
    {
     "data": {
      "text/plain": [
       "['ganga']"
      ]
     },
     "execution_count": 2,
     "metadata": {},
     "output_type": "execute_result"
    }
   ],
   "source": [
    "s=\"ganga\"\n",
    "s.split()"
   ]
  },
  {
   "cell_type": "code",
   "execution_count": 4,
   "metadata": {},
   "outputs": [
    {
     "name": "stdout",
     "output_type": "stream",
     "text": [
      "3\n",
      "sumit musit\n",
      "YES\n",
      "aba baa\n",
      "YES\n",
      "nonn nonm\n",
      "NO\n"
     ]
    }
   ],
   "source": [
    "T=int(input ())#two strings\n",
    "\n",
    "for i in range(0,T):\n",
    "    s=input()\n",
    "    S=s.split()\n",
    "    if sorted(S[0])==sorted(S[1]):\n",
    "        print (\"YES\")\n",
    "    else:\n",
    "     print (\"NO\")"
   ]
  },
  {
   "cell_type": "code",
   "execution_count": null,
   "metadata": {},
   "outputs": [],
   "source": []
  }
 ],
 "metadata": {
  "kernelspec": {
   "display_name": "Python 3",
   "language": "python",
   "name": "python3"
  },
  "language_info": {
   "codemirror_mode": {
    "name": "ipython",
    "version": 3
   },
   "file_extension": ".py",
   "mimetype": "text/x-python",
   "name": "python",
   "nbconvert_exporter": "python",
   "pygments_lexer": "ipython3",
   "version": "3.7.3"
  }
 },
 "nbformat": 4,
 "nbformat_minor": 2
}
