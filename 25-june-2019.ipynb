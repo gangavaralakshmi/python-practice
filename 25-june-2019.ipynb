{
 "cells": [
  {
   "cell_type": "code",
   "execution_count": 23,
   "metadata": {},
   "outputs": [],
   "source": [
    "#FFuction to check if two strings are anograms\n",
    "#abc cba -> True\n",
    "#{a:1,b:1,c:1} {c:1,a:1,b:1}\n",
    "#aabbcc ccbbaaa ->False\n",
    "#aabcc aaabbcc\n",
    "#{a:2,b:2,c:3} {a:3,b:2,c:2}\n",
    "\n",
    "def checkAnagrams(s1,s2):\n",
    "    if len(s1) != len(s2):\n",
    "        return False\n",
    "    if sorted(s1) == sorted(s2):\n",
    "        \n",
    "        return True\n",
    "    return False\n",
    "\n",
    "\n",
    "def charDelectionsAnagrams(s1,s2):\n",
    "    #to collect all uncommon characteres-chacters accuring in only one string\n",
    "    uncommon=[]\n",
    "    for i in s1:\n",
    "        if i not in s2:\n",
    "            uncommon.append(i)\n",
    "            for i in s2:\n",
    "                if i not in s1:\n",
    "                    uncommon.append(i)\n",
    "            count=len(uncommon)\n",
    "            #frequncy of s1 represents dictionary which has common characters in s1\n",
    "            freq1={}\n",
    "            freq2={}\n",
    "            #unique characters in s1 and s2\n",
    "            uniqs1=[]\n",
    "            uniqs2=[]\n",
    "            #frequency of unique characters in s1\n",
    "            for i in s1:\n",
    "                if i not in uncommon and i not in uniqs1:\n",
    "                    freq1[i]=s1.count(i)\n",
    "                    uniqs1.append(i)\n",
    "            #frequency of unique characters in s2\n",
    "            for i in s2:\n",
    "                if i not in uncommon and i not in uniqs2:\n",
    "                    freq2[i]=s2.count(i)\n",
    "                    uniqs2.append(i)\n",
    "            #get the difference in frequencies of common chacters and add it to uncommon characters count\n",
    "            for key in freq1.keys():\n",
    "                count+=abs(freq1[key]-freq2[key])\n",
    "            return count\n",
    "charDelectionsAnagrams('abc','abc')\n",
    "                    \n",
    "\n"
   ]
  },
  {
   "cell_type": "code",
   "execution_count": null,
   "metadata": {},
   "outputs": [],
   "source": [
    "for i in range(0,t):\n",
    "    s1=input()\n",
    "    s2=input()\n",
    "    print(charDelectionsAnagrams(s1,s2))"
   ]
  },
  {
   "cell_type": "code",
   "execution_count": 1,
   "metadata": {},
   "outputs": [
    {
     "data": {
      "text/plain": [
       "3"
      ]
     },
     "execution_count": 1,
     "metadata": {},
     "output_type": "execute_result"
    }
   ],
   "source": [
    "list=[1,2,34]\n",
    "len(list)"
   ]
  }
 ],
 "metadata": {
  "kernelspec": {
   "display_name": "Python 3",
   "language": "python",
   "name": "python3"
  },
  "language_info": {
   "codemirror_mode": {
    "name": "ipython",
    "version": 3
   },
   "file_extension": ".py",
   "mimetype": "text/x-python",
   "name": "python",
   "nbconvert_exporter": "python",
   "pygments_lexer": "ipython3",
   "version": "3.7.3"
  }
 },
 "nbformat": 4,
 "nbformat_minor": 2
}
