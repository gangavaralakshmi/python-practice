{
 "cells": [
  {
   "cell_type": "code",
   "execution_count": 1,
   "metadata": {},
   "outputs": [
    {
     "ename": "SyntaxError",
     "evalue": "invalid syntax (<ipython-input-1-95623cd8666c>, line 21)",
     "output_type": "error",
     "traceback": [
      "\u001b[1;36m  File \u001b[1;32m\"<ipython-input-1-95623cd8666c>\"\u001b[1;36m, line \u001b[1;32m21\u001b[0m\n\u001b[1;33m    a.word frequency:-\u001b[0m\n\u001b[1;37m                   ^\u001b[0m\n\u001b[1;31mSyntaxError\u001b[0m\u001b[1;31m:\u001b[0m invalid syntax\n"
     ]
    }
   ],
   "source": [
    "#1.main function:--\n",
    "n=1\n",
    "while(n==1):\n",
    "    a=int(input(\"Enter:\\n1.write data\\n2.read words\\n3.read unique words\\n4.frequency of unique words\\n5.find and replace\\n\"))\n",
    "    s=\"Datafiles/hi.txt\"\n",
    "    if a==1:\n",
    "        wordsw(s)\n",
    "    elif a==2:\n",
    "        words(s)\n",
    "    elif a==3:\n",
    "        unique(s)\n",
    "    elif a==4:\n",
    "        wordfrequency(s)\n",
    "    elif a==5:\n",
    "        m=input()\n",
    "        n=input()\n",
    "        replace(m,n)\n",
    "    n=input(\"Enter:\\n1 to continue\\n0 to exit\\n\")\n",
    "\n",
    "#2.subfunctions:--\n",
    "a.word frequency:-\n",
    "def wordfrequency(s):\n",
    "    with open(s,'r') as f:\n",
    "        filedata=words(s)\n",
    "        #compare=unique(s)\n",
    "        #print(filedata)\n",
    "        frequency={}\n",
    "        for ele in filedata:\n",
    "            if ele not in frequency:\n",
    "                frequency[ele]=1\n",
    "            else:\n",
    "                frequency[ele]+=1\n",
    "        print(frequency)\n",
    "\n",
    "#b.find and replace a word:-\n",
    "def replace(fword,rword):\n",
    "    filedata=words(s)\n",
    "    print(filedata)\n",
    "    for ele in range(len(filedata)):\n",
    "        if filedata[ele]==fword:\n",
    "            filedata[ele]=rword\n",
    "    print(filedata)    \n",
    "\n",
    "#c.print unique words:-\n",
    "def unique(s):\n",
    "    uniquewords=[]\n",
    "    with open(s,'r') as f:\n",
    "        filedata=f.read()\n",
    "        words=filedata.split()\n",
    "        uniquewords=list(set(words))\n",
    "    return uniquewords\n",
    "\n",
    "#d.printwords:-\n",
    "s=\"Datafiles/marks.txt\"\n",
    "def words(s):\n",
    "    allwords=[]\n",
    "    with open(s,'r') as f:\n",
    "        filedata=f.read()\n",
    "        allwords=filedata.split()\n",
    "    return allwords\n",
    "words(s) \n",
    "\n",
    "#e.write words into text:-\n",
    "def wordsw(s):\n",
    "    with open(s,'w') as f:\n",
    "        fiedata=f.write(input())"
   ]
  }
 ],
 "metadata": {
  "kernelspec": {
   "display_name": "Python 3",
   "language": "python",
   "name": "python3"
  },
  "language_info": {
   "codemirror_mode": {
    "name": "ipython",
    "version": 3
   },
   "file_extension": ".py",
   "mimetype": "text/x-python",
   "name": "python",
   "nbconvert_exporter": "python",
   "pygments_lexer": "ipython3",
   "version": "3.7.3"
  }
 },
 "nbformat": 4,
 "nbformat_minor": 2
}
