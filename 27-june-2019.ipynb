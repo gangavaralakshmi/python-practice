{
 "cells": [
  {
   "cell_type": "code",
   "execution_count": 9,
   "metadata": {},
   "outputs": [
    {
     "name": "stdout",
     "output_type": "stream",
     "text": [
      "1 2 3\n",
      "1 2 4\n",
      "1 3 4\n",
      "2 3 4\n"
     ]
    }
   ],
   "source": [
    "#it will work for any other program.above code gives the index out of range for otherlanguages.Here \n",
    "#pyhton working at the back end  to resolve that probelm but other lanugaes not do that.Index\n",
    "#j+1 should give index out of that.\n",
    "def combinations(li):\n",
    "    for i in range (len(li)-2):\n",
    "        for j in range (i+1,len(li)-1):\n",
    "            for k in range(j+1,len(li)):\n",
    "                print (li[i],li[j],li[k])\n",
    "            \n",
    "combinations([1,2,3,4])\n"
   ]
  },
  {
   "cell_type": "code",
   "execution_count": 10,
   "metadata": {},
   "outputs": [
    {
     "name": "stdout",
     "output_type": "stream",
     "text": [
      "1 2 3\n",
      "1 2 4\n",
      "1 3 4\n",
      "2 3 4\n"
     ]
    }
   ],
   "source": [
    "#Test medium questions\n",
    "\n",
    "#Fuction to print all combiations of paris of integers in a  unique list \n",
    "#[1,2,3]  ->(1,2),(1,3),(2,3)-> 3c2 ->((3!)/(3-1)!(2!))\n",
    "\n",
    "#[1,2,3,4] -> 1,2 1,3 1,4 2 ,3 2,4 3\n",
    "#[1,2,3,4] -> (1,2,3),(1,2,4,),(1,3,4), (2,3,4)\n",
    "#[1,2,3] \n",
    "\n",
    "def combinations(li):\n",
    "    for i in range (len(li)-1):\n",
    "        for j in range (i+1,len(li)):\n",
    "            for k in range(j+1,len(li)):\n",
    "                print (li[i],li[j],li[k])\n",
    "            \n",
    "combinations([1,2,3,4])\n"
   ]
  },
  {
   "cell_type": "code",
   "execution_count": 11,
   "metadata": {},
   "outputs": [
    {
     "data": {
      "text/plain": [
       "[1, 9, 8, 7, 6, 2, 5, 3, 4]"
      ]
     },
     "execution_count": 11,
     "metadata": {},
     "output_type": "execute_result"
    }
   ],
   "source": [
    "#Fuction to idenftify the differnces of all\n",
    "#pairs of numbers and add those differences\n",
    "#to the same list\n",
    "#It returns the updated lidt and original list is same or not.\n",
    "def medium(li):\n",
    "    #li3 = [[],li]\n",
    "    count=1\n",
    "    while (True):\n",
    "            li3=differencePairs(li)\n",
    "            if li3[0]==li3[1]:\n",
    "                break\n",
    "    return li3[0]\n",
    "    \n",
    "def differencePairs(li):\n",
    "    cli=li[:]\n",
    "    newelements=[]\n",
    "    for i in range (len(li)-1):\n",
    "        for j in range(i+1,len(li)):\n",
    "            d=abs(li[i]-li[j])\n",
    "            if d not in li and d not in newelements:\n",
    "                newelements.append(d)\n",
    "    li.extend(newelements)\n",
    "    return [cli,li]\n",
    "li=[1,9]\n",
    "medium(li)"
   ]
  },
  {
   "cell_type": "code",
   "execution_count": 12,
   "metadata": {},
   "outputs": [
    {
     "data": {
      "text/plain": [
       "8"
      ]
     },
     "execution_count": 12,
     "metadata": {},
     "output_type": "execute_result"
    }
   ],
   "source": [
    "#Fuction to idenftify the differnces of all\n",
    "#pairs of numbers and add those differences\n",
    "#to the same list\n",
    "#It returns the updated list and original list is same or not.\n",
    "#for the kth largest number\n",
    "def medium(li,k):\n",
    "    #li3 = [[],li]\n",
    "    count=1\n",
    "    while (True):\n",
    "            li3=differencePairs(li)\n",
    "            if li3[0]==li3[1]:\n",
    "                break\n",
    "    if len(li3[0])>=k:\n",
    "        return (sorted(li3[0],reverse=True)[k-1])\n",
    "    else:\n",
    "        return -1\n",
    "    \n",
    "def differencePairs(li):\n",
    "    cli=li[:]\n",
    "    newelements=[]\n",
    "    for i in range (len(li)-1):\n",
    "        for j in range(i+1,len(li)):\n",
    "            d=abs(li[i]-li[j])\n",
    "            if d not in li and d not in newelements:\n",
    "                newelements.append(d)\n",
    "    li.extend(newelements)\n",
    "    return [cli,li]\n",
    "\n",
    "list=[3,6,24]\n",
    "max(li)-2+1"
   ]
  },
  {
   "cell_type": "code",
   "execution_count": 7,
   "metadata": {},
   "outputs": [
    {
     "name": "stdout",
     "output_type": "stream",
     "text": [
      "None\n",
      "None\n"
     ]
    }
   ],
   "source": [
    "#list data referncing and data copy\n",
    "a=[1,2,3]\n",
    "b=[1,3,2]\n",
    "a=b.copy() #Data copy through indivuls\n",
    "a=b[:]\n",
    "a=b #datareferencing\n",
    "\n",
    "print(b.append(4))\n",
    "print(a.append(5))"
   ]
  },
  {
   "cell_type": "code",
   "execution_count": null,
   "metadata": {},
   "outputs": [],
   "source": [
    "#Fuction to idenftify the differnces of all\n",
    "#pairs of numbers and add those differences\n",
    "#to the same list\n",
    "#It returns the updated list and original list is same or not.\n",
    "#for the kth largest number input reading from file\n",
    "def medium(li,k):\n",
    "    #li3 = [[],li]\n",
    "    while (True):\n",
    "            li3=differencePairs(li)\n",
    "            if li3[0]==li3[1]:\n",
    "                break\n",
    "    if len(li3[0])>=k:\n",
    "        return (sorted(li3[0],reverse=True)[k-1])\n",
    "    else:\n",
    "        return -1\n",
    "    \n",
    "def differencePairs(li):\n",
    "    cli=li[:]\n",
    "    newelements=[]\n",
    "    for i in range (len(li)-1):\n",
    "        for j in range(i+1,len(li)):\n",
    "            d=abs(li[i]-li[j])\n",
    "            if d not in li and d not in newelements:\n",
    "                newelements.append(d)\n",
    "    li.extend(newelements)\n",
    "    return [cli,li]\n",
    "\n",
    "with open(\"DataFiles/medium\") as f:\n",
    "    t=int(f.readline())\n",
    "    for i in range(t):\n",
    "        f.readline()\n",
    "        li=list(map(int,f.readline().split()))\n",
    "        k = int(f.readline())\n",
    "        print(medium(li,k))"
   ]
  },
  {
   "cell_type": "code",
   "execution_count": 4,
   "metadata": {},
   "outputs": [
    {
     "data": {
      "text/plain": [
       "[3, 6, 9, 12, 2, 1, 4, 7, 10, 5, 8, 11]"
      ]
     },
     "execution_count": 4,
     "metadata": {},
     "output_type": "execute_result"
    }
   ],
   "source": [
    "def differencePairs(li):\n",
    "    cli=li[:]\n",
    "    newelements=[]\n",
    "    for i in range (len(li)-1):\n",
    "        for j in range(i+1,len(li)):\n",
    "            d=abs(li[i]-li[j])\n",
    "            if d not in li and d not in newelements:\n",
    "                newelements.append(d)\n",
    "    li.extend(newelements)\n",
    "    return li\n",
    "li=[3, 6, 9, 12, 2, 1, 4, 7, 10]\n",
    "differencePairs(li)"
   ]
  },
  {
   "cell_type": "code",
   "execution_count": 1,
   "metadata": {},
   "outputs": [
    {
     "name": "stdout",
     "output_type": "stream",
     "text": [
      "90272\n",
      "90331\n",
      "90283\n",
      "90282\n",
      "90124\n",
      "90266\n",
      "90245\n",
      "90244\n",
      "90133\n",
      "90303\n",
      "90186\n",
      "90273\n",
      "90444\n",
      "90421\n",
      "90064\n",
      "90327\n",
      "90001\n",
      "90419\n",
      "90353\n",
      "90152\n",
      "90346\n",
      "90133\n",
      "90020\n",
      "90367\n",
      "90227\n",
      "90270\n",
      "89974\n",
      "90326\n",
      "90278\n",
      "90268\n",
      "90159\n",
      "90193\n",
      "90261\n",
      "90045\n",
      "90116\n",
      "90178\n",
      "90454\n",
      "90291\n",
      "90043\n",
      "90255\n",
      "90138\n",
      "90054\n",
      "90030\n",
      "90114\n",
      "90414\n",
      "90419\n",
      "90034\n",
      "90055\n",
      "90206\n",
      "90000\n",
      "90173\n",
      "90474\n",
      "90327\n",
      "90432\n",
      "90412\n",
      "90273\n",
      "90080\n",
      "90159\n",
      "90343\n",
      "90065\n",
      "90125\n",
      "90343\n",
      "90184\n",
      "90007\n",
      "89991\n",
      "90441\n",
      "90143\n",
      "90227\n",
      "90497\n",
      "90112\n",
      "90352\n",
      "90051\n",
      "90047\n",
      "90228\n",
      "90098\n",
      "90187\n",
      "90028\n",
      "90121\n",
      "90123\n",
      "90201\n",
      "90013\n",
      "90383\n",
      "90159\n",
      "90284\n",
      "90367\n",
      "90057\n",
      "90394\n",
      "90323\n",
      "90487\n",
      "90448\n",
      "90339\n",
      "90129\n",
      "90046\n",
      "90074\n",
      "90014\n",
      "90405\n",
      "90400\n",
      "90397\n",
      "90434\n",
      "90377\n"
     ]
    }
   ],
   "source": [
    "#Fuction to idenftify the differnces of all\n",
    "#pairs of numbers and add those differences\n",
    "#to the same list\n",
    "#It returns the updated list and original list is same or not.\n",
    "#for the kth largest number input reading from file\n",
    "def medium(li,k):\n",
    "    #li3 = [[],li]\n",
    "    while (True):\n",
    "            li3=differencePairs(li)\n",
    "            if li3[0]==li3[1]:\n",
    "                break\n",
    "    if len(li3[0])>=k:\n",
    "        return (sorted(li3[0],reverse=True)[k-1])\n",
    "    else:\n",
    "        return -1\n",
    "    \n",
    "def differencePairs(li):\n",
    "    cli=li[:]\n",
    "    newelements=[]\n",
    "    for i in range (len(li)-1):\n",
    "        for j in range(i+1,len(li)):\n",
    "            d=abs(li[i]-li[j])\n",
    "            if d not in li and d not in newelements:\n",
    "                newelements.append(d)\n",
    "    li.extend(newelements)\n",
    "    return [cli,li]\n",
    "\n",
    "with open(\"DataFiles/medium\") as f:\n",
    "    t=int(f.readline())\n",
    "    for i in range(t):\n",
    "        f.readline()\n",
    "        li=list(map(int,f.readline().split()))\n",
    "        k = int(f.readline())\n",
    "        print(max(li)-k+1)"
   ]
  },
  {
   "cell_type": "code",
   "execution_count": null,
   "metadata": {},
   "outputs": [],
   "source": []
  },
  {
   "cell_type": "code",
   "execution_count": null,
   "metadata": {},
   "outputs": [],
   "source": [
    "[4,8]\n",
    "[20,40,60]\n",
    "[4,8,12,16]\n",
    "[3,6,9,12]\n",
    "#Convert the list into an \n",
    "#arthemetic progression\n",
    "\n",
    "[3,8,15]\n",
    "[3,8,15,5,2,1,4,6,7,9,10,11,12,13,14]\n"
   ]
  },
  {
   "cell_type": "code",
   "execution_count": 1,
   "metadata": {},
   "outputs": [
    {
     "data": {
      "text/plain": [
       "['__add__',\n",
       " '__class__',\n",
       " '__contains__',\n",
       " '__delattr__',\n",
       " '__dir__',\n",
       " '__doc__',\n",
       " '__eq__',\n",
       " '__format__',\n",
       " '__ge__',\n",
       " '__getattribute__',\n",
       " '__getitem__',\n",
       " '__getnewargs__',\n",
       " '__gt__',\n",
       " '__hash__',\n",
       " '__init__',\n",
       " '__init_subclass__',\n",
       " '__iter__',\n",
       " '__le__',\n",
       " '__len__',\n",
       " '__lt__',\n",
       " '__mod__',\n",
       " '__mul__',\n",
       " '__ne__',\n",
       " '__new__',\n",
       " '__reduce__',\n",
       " '__reduce_ex__',\n",
       " '__repr__',\n",
       " '__rmod__',\n",
       " '__rmul__',\n",
       " '__setattr__',\n",
       " '__sizeof__',\n",
       " '__str__',\n",
       " '__subclasshook__',\n",
       " 'capitalize',\n",
       " 'casefold',\n",
       " 'center',\n",
       " 'count',\n",
       " 'encode',\n",
       " 'endswith',\n",
       " 'expandtabs',\n",
       " 'find',\n",
       " 'format',\n",
       " 'format_map',\n",
       " 'index',\n",
       " 'isalnum',\n",
       " 'isalpha',\n",
       " 'isascii',\n",
       " 'isdecimal',\n",
       " 'isdigit',\n",
       " 'isidentifier',\n",
       " 'islower',\n",
       " 'isnumeric',\n",
       " 'isprintable',\n",
       " 'isspace',\n",
       " 'istitle',\n",
       " 'isupper',\n",
       " 'join',\n",
       " 'ljust',\n",
       " 'lower',\n",
       " 'lstrip',\n",
       " 'maketrans',\n",
       " 'partition',\n",
       " 'replace',\n",
       " 'rfind',\n",
       " 'rindex',\n",
       " 'rjust',\n",
       " 'rpartition',\n",
       " 'rsplit',\n",
       " 'rstrip',\n",
       " 'split',\n",
       " 'splitlines',\n",
       " 'startswith',\n",
       " 'strip',\n",
       " 'swapcase',\n",
       " 'title',\n",
       " 'translate',\n",
       " 'upper',\n",
       " 'zfill']"
      ]
     },
     "execution_count": 1,
     "metadata": {},
     "output_type": "execute_result"
    }
   ],
   "source": [
    "dir(str)"
   ]
  },
  {
   "cell_type": "markdown",
   "metadata": {},
   "source": [
    "### Set-DataStructures{ } in python\n",
    "\n",
    "- Represented { }\n",
    "- set is mutable\n",
    "- set does not allow repeated elements(duplicats not allow)\n",
    "- set does not have any order\n",
    "- set can contain any kind of data\n",
    "- set can add with any one dimesnional array like list,tuple\n",
    "\n"
   ]
  },
  {
   "cell_type": "code",
   "execution_count": 52,
   "metadata": {},
   "outputs": [
    {
     "name": "stdout",
     "output_type": "stream",
     "text": [
      "{1, 2, 3, 4, 5, 6, 7}\n",
      "1 2 3 4 5 6 7 {1, 2, 3, 4, 5, 6, 7, 8, 9, 11, 12, 13, 14}\n"
     ]
    }
   ],
   "source": [
    "a = {1,2,3,4,5,6,6}\n",
    "a.add(7)\n",
    "print(a)  #Addding a single element to a set\n",
    "\n",
    "for i in a:\n",
    "    print(i,end=' ')# Accessing elements\n",
    "    \n",
    "b={7,8,9,1,2,3}\n",
    "li=[11,12,13,14]\n",
    "a.update(b,li)\n",
    "a.update(b)\n",
    "print (a)\n",
    "\n",
    "\n"
   ]
  },
  {
   "cell_type": "code",
   "execution_count": 49,
   "metadata": {},
   "outputs": [
    {
     "data": {
      "text/plain": [
       "{1, 2, 3, 4, 5, 6, 7, 8, 9, 11, 14}"
      ]
     },
     "execution_count": 49,
     "metadata": {},
     "output_type": "execute_result"
    }
   ],
   "source": [
    "a.discard(12)\n",
    "a"
   ]
  },
  {
   "cell_type": "code",
   "execution_count": 50,
   "metadata": {},
   "outputs": [
    {
     "ename": "KeyError",
     "evalue": "12",
     "output_type": "error",
     "traceback": [
      "\u001b[1;31m---------------------------------------------------------------------------\u001b[0m",
      "\u001b[1;31mKeyError\u001b[0m                                  Traceback (most recent call last)",
      "\u001b[1;32m<ipython-input-50-f38a6fd95c63>\u001b[0m in \u001b[0;36m<module>\u001b[1;34m\u001b[0m\n\u001b[1;32m----> 1\u001b[1;33m \u001b[0ma\u001b[0m\u001b[1;33m.\u001b[0m\u001b[0mremove\u001b[0m\u001b[1;33m(\u001b[0m\u001b[1;36m12\u001b[0m\u001b[1;33m)\u001b[0m\u001b[1;33m\u001b[0m\u001b[1;33m\u001b[0m\u001b[0m\n\u001b[0m\u001b[0;32m      2\u001b[0m \u001b[0ma\u001b[0m\u001b[1;33m\u001b[0m\u001b[1;33m\u001b[0m\u001b[0m\n",
      "\u001b[1;31mKeyError\u001b[0m: 12"
     ]
    }
   ],
   "source": [
    "a.remove(12)\n",
    "a"
   ]
  },
  {
   "cell_type": "code",
   "execution_count": 51,
   "metadata": {},
   "outputs": [
    {
     "data": {
      "text/plain": [
       "{1, 2, 3, 4, 5, 6, 7, 8, 9, 11, 14}"
      ]
     },
     "execution_count": 51,
     "metadata": {},
     "output_type": "execute_result"
    }
   ],
   "source": [
    "a.discard(13)\n",
    "a"
   ]
  },
  {
   "cell_type": "code",
   "execution_count": 53,
   "metadata": {},
   "outputs": [
    {
     "data": {
      "text/plain": [
       "{1, 2, 3, 4, 5, 6, 7, 8, 9, 10}"
      ]
     },
     "execution_count": 53,
     "metadata": {},
     "output_type": "execute_result"
    }
   ],
   "source": [
    "a={10,1,2,3,4,5,6}\n",
    "b={7,8,9,1,2,3}\n",
    "\n",
    "a.union(b)"
   ]
  },
  {
   "cell_type": "code",
   "execution_count": 54,
   "metadata": {},
   "outputs": [
    {
     "data": {
      "text/plain": [
       "{1, 2, 3, 4, 5, 6, 7, 8, 9, 10}"
      ]
     },
     "execution_count": 54,
     "metadata": {},
     "output_type": "execute_result"
    }
   ],
   "source": [
    "b.union(a)\n",
    "#AUB = #BUA"
   ]
  },
  {
   "cell_type": "code",
   "execution_count": 55,
   "metadata": {},
   "outputs": [
    {
     "data": {
      "text/plain": [
       "{1, 2, 3}"
      ]
     },
     "execution_count": 55,
     "metadata": {},
     "output_type": "execute_result"
    }
   ],
   "source": [
    "a={10,1,2,3,4,5,6}\n",
    "b={7,8,9,1,2,3}\n",
    "\n",
    "a.intersection(b)"
   ]
  },
  {
   "cell_type": "code",
   "execution_count": 58,
   "metadata": {},
   "outputs": [
    {
     "data": {
      "text/plain": [
       "False"
      ]
     },
     "execution_count": 58,
     "metadata": {},
     "output_type": "execute_result"
    }
   ],
   "source": [
    "#common elements in two sets\n",
    "\n",
    "a.isdisjoint(b)"
   ]
  },
  {
   "cell_type": "code",
   "execution_count": 59,
   "metadata": {},
   "outputs": [
    {
     "data": {
      "text/plain": [
       "True"
      ]
     },
     "execution_count": 59,
     "metadata": {},
     "output_type": "execute_result"
    }
   ],
   "source": [
    "c={111,123}\n",
    "\n",
    "a.isdisjoint(c)"
   ]
  },
  {
   "cell_type": "code",
   "execution_count": 60,
   "metadata": {},
   "outputs": [
    {
     "data": {
      "text/plain": [
       "{4, 5, 6, 10}"
      ]
     },
     "execution_count": 60,
     "metadata": {},
     "output_type": "execute_result"
    }
   ],
   "source": [
    "# a-b is all elements which are not in b.\n",
    "\n",
    "a-b"
   ]
  },
  {
   "cell_type": "code",
   "execution_count": 61,
   "metadata": {},
   "outputs": [
    {
     "data": {
      "text/plain": [
       "{7, 8, 9}"
      ]
     },
     "execution_count": 61,
     "metadata": {},
     "output_type": "execute_result"
    }
   ],
   "source": [
    "b-a #all elements which are not in a"
   ]
  },
  {
   "cell_type": "code",
   "execution_count": 62,
   "metadata": {},
   "outputs": [
    {
     "data": {
      "text/plain": [
       "[1, 2, 3, 4, 5, 6, 10]"
      ]
     },
     "execution_count": 62,
     "metadata": {},
     "output_type": "execute_result"
    }
   ],
   "source": [
    "sorted(a)"
   ]
  },
  {
   "cell_type": "code",
   "execution_count": 63,
   "metadata": {},
   "outputs": [
    {
     "data": {
      "text/plain": [
       "[1, 2, 3, 7, 8, 9]"
      ]
     },
     "execution_count": 63,
     "metadata": {},
     "output_type": "execute_result"
    }
   ],
   "source": [
    "sorted(b)"
   ]
  },
  {
   "cell_type": "code",
   "execution_count": 66,
   "metadata": {},
   "outputs": [
    {
     "data": {
      "text/plain": [
       "{4, 5, 6, 7, 8, 9, 10}"
      ]
     },
     "execution_count": 66,
     "metadata": {},
     "output_type": "execute_result"
    }
   ],
   "source": [
    "#Uncommon elements in a and b . may be intersection\n",
    "a^b"
   ]
  },
  {
   "cell_type": "code",
   "execution_count": 71,
   "metadata": {},
   "outputs": [
    {
     "data": {
      "text/plain": [
       "set()"
      ]
     },
     "execution_count": 71,
     "metadata": {},
     "output_type": "execute_result"
    }
   ],
   "source": [
    "d = set()#creates an empty set\n",
    "d"
   ]
  },
  {
   "cell_type": "code",
   "execution_count": 73,
   "metadata": {},
   "outputs": [
    {
     "data": {
      "text/plain": [
       "{1, 2, 3, 4, 5, 6}"
      ]
     },
     "execution_count": 73,
     "metadata": {},
     "output_type": "execute_result"
    }
   ],
   "source": [
    "l=[1,2,3,4,5,2,3,4,5,6]\n",
    "unique=set(l)\n",
    "unique"
   ]
  },
  {
   "cell_type": "code",
   "execution_count": null,
   "metadata": {},
   "outputs": [],
   "source": []
  },
  {
   "cell_type": "markdown",
   "metadata": {},
   "source": [
    "### Fuctional Programming"
   ]
  },
  {
   "cell_type": "markdown",
   "metadata": {},
   "source": [
    "- Procedural:c\n",
    "\n",
    "- Object oriented:Java,python\n",
    "\n",
    "- Scripting - cellScrpting ,java Scrpting,PHP,pyhton,SQL\n",
    "\n",
    "- Functional : Python, Haskell , Scala\n",
    "\n",
    "- Logic:Prolog ,Lisp\n",
    "\n",
    "- c program is paractially object oriented.\n"
   ]
  },
  {
   "cell_type": "markdown",
   "metadata": {},
   "source": [
    "#### List Comparehensions"
   ]
  },
  {
   "cell_type": "code",
   "execution_count": 76,
   "metadata": {},
   "outputs": [
    {
     "data": {
      "text/plain": [
       "[0, 1, 2, 3, 4, 5, 6, 7, 8, 9]"
      ]
     },
     "execution_count": 76,
     "metadata": {},
     "output_type": "execute_result"
    }
   ],
   "source": [
    "#N natural numbers in a list\n",
    "\n",
    "n=10\n",
    "li=[]\n",
    "for i in range(n):\n",
    "    li.append(i)\n",
    "li"
   ]
  },
  {
   "cell_type": "code",
   "execution_count": 77,
   "metadata": {},
   "outputs": [
    {
     "data": {
      "text/plain": [
       "{1, 2, 3, 4, 5, 6, 7, 8, 9, 10}"
      ]
     },
     "execution_count": 77,
     "metadata": {},
     "output_type": "execute_result"
    }
   ],
   "source": [
    "li ={i for i in range(1,11)}\n",
    "li"
   ]
  },
  {
   "cell_type": "code",
   "execution_count": 79,
   "metadata": {},
   "outputs": [
    {
     "data": {
      "text/plain": [
       "[1, 8, 27, 64, 125, 216, 343, 512, 729, 1000]"
      ]
     },
     "execution_count": 79,
     "metadata": {},
     "output_type": "execute_result"
    }
   ],
   "source": [
    "#Apply list comprehenstions to store the cubes on N natural numbers\n",
    "\n",
    "li=[i**3 for i in range(1,11)]\n",
    "li"
   ]
  },
  {
   "cell_type": "code",
   "execution_count": 80,
   "metadata": {},
   "outputs": [
    {
     "data": {
      "text/plain": [
       "[2, 1, 0, 7, 6, 5, 4, 11, 10, 9]"
      ]
     },
     "execution_count": 80,
     "metadata": {},
     "output_type": "execute_result"
    }
   ],
   "source": [
    "li=[i^3 for i in range(1,11)]\n",
    "li"
   ]
  },
  {
   "cell_type": "code",
   "execution_count": 82,
   "metadata": {},
   "outputs": [
    {
     "data": {
      "text/plain": [
       "[1, 2, 6, 24, 120, 720, 5040, 40320, 362880, 3628800]"
      ]
     },
     "execution_count": 82,
     "metadata": {},
     "output_type": "execute_result"
    }
   ],
   "source": [
    "#Fuction to calculate the m factorial\n",
    "def factorial(n):\n",
    "    if n==0 or n==1:\n",
    "        return 1\n",
    "    return n*factorial(n-1)\n",
    "\n",
    "#Apply list comparihenstion to calculate \n",
    "#factorial n natural numbers\n",
    "\n",
    "n = 10\n",
    "factorialList=[factorial(i) for i in range(1,n+1)]\n",
    "factorialList\n"
   ]
  },
  {
   "cell_type": "code",
   "execution_count": 6,
   "metadata": {},
   "outputs": [
    {
     "data": {
      "text/plain": [
       "[10]"
      ]
     },
     "execution_count": 6,
     "metadata": {},
     "output_type": "execute_result"
    }
   ],
   "source": [
    "#Store cumulative sum of numbers till n in a list\n",
    "\n",
    "#n=5 ->  [1,3,6,10,15]\n",
    "    # Store cumulative sum of numbers till n in a list\n",
    "# n = 5 -> [1, 3, 6, 10, 15]\n",
    "n = 6\n",
    "cumulativeSum = [sum(range(1,i+1)) for i in range(1,n+1)]\n",
    "               \n",
    "cumulativeSum\n"
   ]
  },
  {
   "cell_type": "code",
   "execution_count": 7,
   "metadata": {},
   "outputs": [
    {
     "data": {
      "text/plain": [
       "[1972, 1976, 1980, 1984, 1988, 1992, 1996, 2000, 2004, 2008, 2012, 2016]"
      ]
     },
     "execution_count": 7,
     "metadata": {},
     "output_type": "execute_result"
    }
   ],
   "source": [
    "# List Comprehension to store\n",
    "\n",
    "#only leap years in a given time period\n",
    "st = 1970\n",
    "et = 2019\n",
    "leapYears = [i for i in range(st,et+1) \n",
    "             if i % 400 == 0 or (i % 100 != 0 and i % 4 == 0)]\n",
    "             \n",
    "leapYears"
   ]
  },
  {
   "cell_type": "code",
   "execution_count": 8,
   "metadata": {},
   "outputs": [
    {
     "data": {
      "text/plain": [
       "[1, 2, 3, 4, 5]"
      ]
     },
     "execution_count": 8,
     "metadata": {},
     "output_type": "execute_result"
    }
   ],
   "source": [
    "li = [1,2,3,2,1, 4, 4, 5,5,5]\n",
    "li.sort()\n",
    "u2 = []\n",
    "#unique = [li[i] for i in range(0,len(li)-1) if (li[i] != li[i+1] and i < len(li)-1) or (i == len(li)-1)]\n",
    "[u2.append(i) for i in li if i not in u2 ]\n",
    "u2"
   ]
  },
  {
   "cell_type": "code",
   "execution_count": 17,
   "metadata": {},
   "outputs": [
    {
     "data": {
      "text/plain": [
       "5"
      ]
     },
     "execution_count": 17,
     "metadata": {},
     "output_type": "execute_result"
    }
   ],
   "source": [
    "sorted(li)[9]"
   ]
  },
  {
   "cell_type": "markdown",
   "metadata": {},
   "source": [
    "# Iterators\n",
    "- Iterable - Strings, Lists, Tuples, Sets, Dictionaries\n",
    "\n",
    "- Convert Iterable to Iterator -> iter()\n",
    "\n",
    "- For Loop:\n",
    "\n",
    "- Iterator:"
   ]
  },
  {
   "cell_type": "code",
   "execution_count": 35,
   "metadata": {},
   "outputs": [
    {
     "name": "stdout",
     "output_type": "stream",
     "text": [
      "1: \n",
      "P\n",
      "\n",
      "\n",
      "2: \n",
      "y\n"
     ]
    }
   ],
   "source": [
    "it = iter('Python')\n",
    "print('1: ')\n",
    "print(next(it))\n",
    "print('\\n')\n",
    "print('2: ')\n",
    "print(next(it))"
   ]
  },
  {
   "cell_type": "code",
   "execution_count": 42,
   "metadata": {},
   "outputs": [
    {
     "name": "stdout",
     "output_type": "stream",
     "text": [
      "y\n",
      "h\n",
      "n\n"
     ]
    }
   ],
   "source": [
    "it = iter('python')\n",
    "for i in it:\n",
    "    print(next(it))\n"
   ]
  },
  {
   "cell_type": "markdown",
   "metadata": {},
   "source": [
    "### Generators\n",
    "\n",
    "- Generator is Function\n",
    "- a generator is a function that returns an object (iterator) which we can iterate over (one value at a time)."
   ]
  },
  {
   "cell_type": "code",
   "execution_count": 43,
   "metadata": {},
   "outputs": [
    {
     "name": "stdout",
     "output_type": "stream",
     "text": [
      "8\n",
      "512\n",
      "134217728\n",
      "2417851639229258349412352\n",
      "14134776518227074636666380005943348126619871175004951664972849610340958208\n"
     ]
    },
    {
     "data": {
      "text/plain": [
       "2824013958708217496949108842204627863351353911851577524683401930862693830361198499905873920995229996970897865498283996578123296865878390947626553088486946106430796091482716120572632072492703527723757359478834530365734912"
      ]
     },
     "execution_count": 43,
     "metadata": {},
     "output_type": "execute_result"
    }
   ],
   "source": [
    "def gen():\n",
    "    n = 2\n",
    "    while True:\n",
    "        n **= 3\n",
    "        yield n\n",
    "\n",
    "a = gen()\n",
    "\n",
    "for i in range(5):\n",
    "    print(next(a))\n",
    "    \n",
    "next(a)"
   ]
  },
  {
   "cell_type": "code",
   "execution_count": 53,
   "metadata": {},
   "outputs": [
    {
     "name": "stdout",
     "output_type": "stream",
     "text": [
      "8\n",
      "512\n",
      "134217728\n",
      "2417851639229258349412352\n",
      "14134776518227074636666380005943348126619871175004951664972849610340958208\n"
     ]
    },
    {
     "data": {
      "text/plain": [
       "2824013958708217496949108842204627863351353911851577524683401930862693830361198499905873920995229996970897865498283996578123296865878390947626553088486946106430796091482716120572632072492703527723757359478834530365734912"
      ]
     },
     "execution_count": 53,
     "metadata": {},
     "output_type": "execute_result"
    }
   ],
   "source": [
    "def gen():\n",
    "    n = 2\n",
    "    while True:\n",
    "        n **= 3\n",
    "        yield n\n",
    "a = gen()\n",
    "\n",
    "for i in range(5):\n",
    "    print(next(a))\n",
    "    \n",
    "next(a)"
   ]
  }
 ],
 "metadata": {
  "kernelspec": {
   "display_name": "Python 3",
   "language": "python",
   "name": "python3"
  },
  "language_info": {
   "codemirror_mode": {
    "name": "ipython",
    "version": 3
   },
   "file_extension": ".py",
   "mimetype": "text/x-python",
   "name": "python",
   "nbconvert_exporter": "python",
   "pygments_lexer": "ipython3",
   "version": "3.7.3"
  }
 },
 "nbformat": 4,
 "nbformat_minor": 2
}
