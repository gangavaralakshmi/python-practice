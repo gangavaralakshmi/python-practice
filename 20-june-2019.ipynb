{
 "cells": [
  {
   "cell_type": "markdown",
   "metadata": {},
   "source": [
    "# Day Objectives\n",
    "\n",
    "\n",
    "- Regular Expressions:\n",
    "\n",
    "-- Constructing Regular Expressions for use cases.\n",
    "\n",
    "-- Regular Expressions Module and related in Python.\n",
    "\n",
    "-- Improving the Contacts application with name and phone number validations .\n",
    "- File Handling:\n",
    "\n",
    "-- Text files \n",
    "\n",
    "-- Upgrading the Contact goog\n"
   ]
  },
  {
   "cell_type": "markdown",
   "metadata": {},
   "source": [
    "### Regular Expressions\n",
    "\n",
    "- Pattern Maching\n",
    "- Symbolic Notation of a patterns\n",
    "    - pattern: Format which repeats\n",
    "    - pattern (RE) resposnses The set of all set of vaules or strings that match a paticular pattern\n",
    "- [0-9] -> Any digit \n",
    "- [a-z] -> ANy lower case alphabet\n",
    "- [2468] -> All single digit multiples of 2\n",
    "- [8642] , [6428] order is not important in a set .set is nothing but it is only part of the set and not part of the set.\n",
    "- ^[0-9]{1}$ -> Only single digt numbers.\n",
    "\n",
    "- ^[0-9]{3}$ -> only 3 digit numbers\n",
    "\n",
    "- [0-9]*0$ -> All multiples of 10\n",
    "- -> All multiples of 5\n",
    "- -> All 10 digit numbers \n",
    "- -> Valdating Phone nubmer (India ) (start with 9876 followed by 9 digits)\n",
    "- -> Email Validation(username@domain.extension\n",
    "        - username\n",
    "            - Length of username : [6,15]\n",
    "            - NO special characters other than_ .\n",
    "            - Should not begin with _.\n",
    "            - Should not begin and end with _.\n",
    "            - Character Set : all digits and lower case alphabets\n",
    "        -domain\n",
    "            - Length of domain:[3,18]\n",
    "            - NO special characters\n",
    "            - Character Set : all digits and lower case alphabets\n",
    "        -extension\n",
    "            - Length of extension:[2,4]\n",
    "            - No speciall Characters\n",
    "            - character Set :lower case alphabet\n",
    "  \n",
    "--> ANy string of lenth 5 that starts with 'a' and ends with \n",
    "- ^[a].*[z]$ -> Any string of any length that s  \n"
   ]
  },
  {
   "cell_type": "code",
   "execution_count": 26,
   "metadata": {},
   "outputs": [
    {
     "name": "stdout",
     "output_type": "stream",
     "text": [
      "Vaild\n"
     ]
    }
   ],
   "source": [
    "#Fuction to validate a phone number\n",
    "import re\n",
    "\n",
    "def phonenumberValidator(number):\n",
    "    pattern = '^[6-9][0-9]{9}$|^[0][6-9][0-9]{9}$'\n",
    "    if re.match(pattern,str(number)):\n",
    "        print (\"Vaild\")\n",
    "    else:\n",
    "        print (\"invaild\")\n",
    "phonenumberValidator(8345908976)"
   ]
  },
  {
   "cell_type": "code",
   "execution_count": 32,
   "metadata": {},
   "outputs": [
    {
     "ename": "SyntaxError",
     "evalue": "invalid syntax (<ipython-input-32-cbe8d8c87e1a>, line 4)",
     "output_type": "error",
     "traceback": [
      "\u001b[1;36m  File \u001b[1;32m\"<ipython-input-32-cbe8d8c87e1a>\"\u001b[1;36m, line \u001b[1;32m4\u001b[0m\n\u001b[1;33m    if name not in contacts and phonenumberVaild contacts:\u001b[0m\n\u001b[1;37m                                                        ^\u001b[0m\n\u001b[1;31mSyntaxError\u001b[0m\u001b[1;31m:\u001b[0m invalid syntax\n"
     ]
    }
   ],
   "source": [
    "contacts = {\"name1\":[9823345334,'name1@domain.extension'],\"name2\":[9876543234,'name2@domain.extension']}\n",
    "def addContact(name,phonenumber,email):\n",
    "    #verify that the contact doesnot alredy exit\n",
    "    if name not in contacts and phonenumberVaild contacts:\n",
    "        contacts[name] = phonenumber\n",
    "        print (\"contact %s dded\" % name)\n",
    "    if not phonenumberVaildator(phone)\n",
    "        print (\"Phonenumber is invaild\")\n",
    "    return\n",
    "addContact(name,phonenumber,email)"
   ]
  },
  {
   "cell_type": "code",
   "execution_count": null,
   "metadata": {},
   "outputs": [],
   "source": [
    "#modying the above code more effectively\n",
    "\n",
    "contacts = {\"name1\":[9823345334,'name1@domain.extension'],\"name2\":[9876543234,'name2@domain.extension']}\n",
    "\n",
    "def add contact(name,phone,email):\n",
    "    if name is in contacts:\n",
    "        print (\"already exit\")\n",
    "    else:\n",
    "        if not phonenumberValidator(phone):\n",
    "            print (\"Invaild phone number\")\n",
    "            return\n",
    "        if not emailValidator(email):\n",
    "            print (\"Invaild\")\n",
    "\n",
    "def phonenumberVaildator(phonenumber):\n",
    "    \n",
    "    "
   ]
  },
  {
   "cell_type": "code",
   "execution_count": null,
   "metadata": {},
   "outputs": [],
   "source": [
    "[a-z]#if you right alphabets between a and z so it highligts in this range\n",
    "987344556564346565633qqeweet"
   ]
  },
  {
   "cell_type": "code",
   "execution_count": null,
   "metadata": {},
   "outputs": [],
   "source": [
    "[0-9]# if you right numbers between 0 and 9 it highlights the numbers\n",
    "987344556564346565633qqeweet\n"
   ]
  },
  {
   "cell_type": "code",
   "execution_count": null,
   "metadata": {},
   "outputs": [],
   "source": [
    "[-0-9]# here it takes the \"-\" as the special character if we right below expressions \"-\" also highlated\n",
    "-987\n"
   ]
  },
  {
   "cell_type": "code",
   "execution_count": null,
   "metadata": {},
   "outputs": [],
   "source": [
    "^[-0-9]{1} # in thes signgle digit is highted becuse we given start with number one sigle digit only\n",
    "834566"
   ]
  },
  {
   "cell_type": "code",
   "execution_count": null,
   "metadata": {},
   "outputs": [],
   "source": [
    "^[-0-9]{1}$ # nothing is highleted here becuase of $\n",
    "8 34566"
   ]
  },
  {
   "cell_type": "code",
   "execution_count": null,
   "metadata": {},
   "outputs": [],
   "source": [
    "^[-0-9]{2}#here two digit number is accepted more than two digits it gives some gap between two digits numbers\n",
    "81"
   ]
  },
  {
   "cell_type": "code",
   "execution_count": null,
   "metadata": {},
   "outputs": [],
   "source": [
    "^[-0-9]{3}$ # here 3 digits only accepted\n",
    "999"
   ]
  },
  {
   "cell_type": "code",
   "execution_count": null,
   "metadata": {},
   "outputs": [],
   "source": [
    "^[-0-9]{3}$ # nothing is highleted anything.\n",
    "9999973987\n",
    "#meaning of $ is it acceped sting with length 3 other than 3 it should highlet.Ir we give 3 it highled.we are saying with \n",
    "#$ it is end of the string means string should end  exactly three numbers."
   ]
  },
  {
   "cell_type": "code",
   "execution_count": null,
   "metadata": {},
   "outputs": [],
   "source": [
    "[-0-9]{3}$# i removed ^ here here only highlithing the last three charactes.becuse does not say starting point.\n",
    "9998776 767\n",
    "#if you give ^ it accepted first three characters."
   ]
  },
  {
   "cell_type": "code",
   "execution_count": null,
   "metadata": {},
   "outputs": [],
   "source": [
    "[-0-9]{3}\n",
    "999 877 676 # for very three digits it should highleted"
   ]
  },
  {
   "cell_type": "code",
   "execution_count": null,
   "metadata": {},
   "outputs": [],
   "source": [
    "[0-9]*0$ # it is  highlating the enterstring. it is multipule of 10\n",
    "900"
   ]
  },
  {
   "cell_type": "code",
   "execution_count": null,
   "metadata": {},
   "outputs": [],
   "source": [
    "[0-9]*0$\n",
    "9998876757660 # whole string is highleted because it is muliple of 10 so it is higleted any length of string.if it end with range."
   ]
  },
  {
   "cell_type": "code",
   "execution_count": null,
   "metadata": {},
   "outputs": [],
   "source": [
    "^[1-9][0-9]*0$ # it is multiple of 10\n",
    "1030450"
   ]
  },
  {
   "cell_type": "code",
   "execution_count": null,
   "metadata": {},
   "outputs": [],
   "source": [
    "[1-9][0-9]*0$\n",
    "aaaf1028970 #here it is accpeting the alphabets because  we removed ^ here.if ^ is there it accpets stat with number and\n",
    "#$ tells and with nubmer."
   ]
  },
  {
   "cell_type": "code",
   "execution_count": null,
   "metadata": {},
   "outputs": [],
   "source": [
    "^[1-9][0-9]*[05]$# multiple of 5 .which is two digits or more\n",
    "1235\n",
    "140\n",
    "890\n",
    "98765\n",
    "09870\n",
    "10\n",
    "5   # it does not accept single digit becuasewe are saying 1st number range [1-9] and 2nd number range[0-9]\n",
    "91835\n",
    "328760\n",
    "990\n",
    "9185\n",
    "000005675 #it does not aaccept before zero becuse i give 1-9"
   ]
  },
  {
   "cell_type": "code",
   "execution_count": null,
   "metadata": {},
   "outputs": [],
   "source": [
    "^[0-9][0-9]*[05]$\n",
    "1235\n",
    "140\n",
    "890\n",
    "98765\n",
    "09870\n",
    "10\n",
    "5#now also single digit doesnot accepted\n",
    "91835\n",
    "328760\n",
    "990\n",
    "9185\n",
    "000005675# it will accept any numbers of zeros in precceding becasuse we included zero in 1 st number range[0-9]"
   ]
  },
  {
   "cell_type": "code",
   "execution_count": null,
   "metadata": {},
   "outputs": [],
   "source": [
    "^[0-9][0-9]*[05]|(5)$\n",
    "1235\n",
    "140\n",
    "890\n",
    "98765\n",
    "09870\n",
    "10\n",
    "5 # it is accepting the 5 now\n",
    "91835\n",
    "328760\n",
    "990\n",
    "9185\n",
    "000005675  #it is accepting zeros also because of [0-9]"
   ]
  },
  {
   "cell_type": "code",
   "execution_count": null,
   "metadata": {},
   "outputs": [],
   "source": [
    "^[1-9][0-9]*[05]|(5)$\n",
    "1235\n",
    "140\n",
    "890\n",
    "98765\n",
    "09870\n",
    "10\n",
    "05  #now it is living zero because[1-9]in first number if you gve [0-9] it will accept 0 also.\n",
    "91835\n",
    "328760\n",
    "990\n",
    "9185\n",
    "000005675"
   ]
  },
  {
   "cell_type": "code",
   "execution_count": null,
   "metadata": {},
   "outputs": [],
   "source": [
    "[print]*          #it accepts the characters(p,r,i,n,t)this are highted numbers should not take .\n",
    "123345\n",
    "130\n",
    "890\n",
    "9876print\n",
    "print\n",
    "printing\n",
    "printer"
   ]
  },
  {
   "cell_type": "code",
   "execution_count": null,
   "metadata": {},
   "outputs": [],
   "source": [
    "[p][r][i][n][t]#it only highlet the print any before number after number no probelm print it highled.\n",
    "12345\n",
    "130\n",
    "printer\n",
    "print\n",
    "printing\n",
    "9876print"
   ]
  },
  {
   "cell_type": "code",
   "execution_count": null,
   "metadata": {},
   "outputs": [],
   "source": [
    "(print)# it accept the print anywhere\n",
    "12345\n",
    "130\n",
    "printer\n",
    "print\n",
    "printing\n",
    "9876print"
   ]
  },
  {
   "cell_type": "code",
   "execution_count": null,
   "metadata": {},
   "outputs": [],
   "source": [
    "#indian phone number^[6-9][0-9]{9}$ stating with 6 and contains 10 numbes\n",
    "^[6-9][0-9]{9}$ \n",
    "123456789\n",
    "130\n",
    "890\n",
    "9876print\n",
    "98765432\n",
    "6543218990#it is only accepted\n",
    "0998756510\n",
    "printer\n"
   ]
  },
  {
   "cell_type": "code",
   "execution_count": null,
   "metadata": {},
   "outputs": [],
   "source": [
    "^[6-9][0-9]{9}$^[0][6-9][0-9]{9}$^|[+][9][1][6-9][0-9]{9}$#it is accept the +91and 10 digit number after.\n",
    "123456789\n",
    "130\n",
    "890\n",
    "9876print\n",
    "98765432\n",
    "+916543218990\n",
    "0998756510\n",
    "printer\n"
   ]
  },
  {
   "cell_type": "code",
   "execution_count": 3,
   "metadata": {},
   "outputs": [
    {
     "data": {
      "text/plain": [
       "19"
      ]
     },
     "execution_count": 3,
     "metadata": {},
     "output_type": "execute_result"
    }
   ],
   "source": [
    "l=\"gangavaralakshmi123\"\n",
    "len(l)"
   ]
  },
  {
   "cell_type": "code",
   "execution_count": null,
   "metadata": {},
   "outputs": [],
   "source": [
    "^[0-9a-z][0-9a-z_.]{4,13}[0-9a-z][@][a-z0-9]{3,15}[.][a-z]\n",
    "re_123@aws.com"
   ]
  },
  {
   "cell_type": "code",
   "execution_count": null,
   "metadata": {},
   "outputs": [],
   "source": [
    "#https://docs.python.org/2/library/re.html it is for regular expression"
   ]
  },
  {
   "cell_type": "code",
   "execution_count": null,
   "metadata": {},
   "outputs": [],
   "source": [
    "^[a]...[z]$\n",
    "abcd7yg68yu# it should not take more than 5 characters.1st character ... 2,3,4 characters and 5th is z.\n",
    "a%^&z\n",
    "a123z\n",
    "aaazz\n",
    "azz"
   ]
  },
  {
   "cell_type": "markdown",
   "metadata": {},
   "source": [
    "### File Handiling in Python\n",
    "\n",
    "File - Document containing information residing on the perment storage\n",
    "\n",
    "Types - Text , PDF , CSV etc.\n",
    "\n",
    "File I/O\n",
    "Channelling I/O data to files \n",
    "\n",
    "Default I/O channels - keyboard / screen \n",
    "\n",
    "change I/O channel to files for Reading and writing.\n",
    "Read a file - Input  from file\n",
    "write to a file - Output to a file\n",
    "Read a file - open (filename,mode)\n",
    "\n",
    "Read / write  file - open(filename,mode"
   ]
  },
  {
   "cell_type": "code",
   "execution_count": 50,
   "metadata": {},
   "outputs": [
    {
     "name": "stdout",
     "output_type": "stream",
     "text": [
      "line 1\n",
      " line 2\n",
      " line 3 line 1\n",
      "line 2\n",
      "line 3\n"
     ]
    }
   ],
   "source": [
    "#Function to read File\n",
    "\n",
    "def readFile(filename):\n",
    "    f=open(filename,'r') \n",
    "    filedata = f.read()\n",
    "    f.close()\n",
    "    return filedata\n",
    "filename = 'DataFiles/data.txt'\n",
    "filedata=readFile(filename)\n",
    "for line in readFile(filename).split('\\n'):\n",
    "    (line)\n",
    "    \n",
    "    \n",
    "def printFileDataLines(filename):\n",
    "    with open(filename,'r') as f:\n",
    "        for line in f:\n",
    "            print (line,end=' ')\n",
    "        return\n",
    "\n",
    "printFileDataLines(filename)\n",
    "print(readFile(filename))"
   ]
  },
  {
   "cell_type": "code",
   "execution_count": null,
   "metadata": {},
   "outputs": [],
   "source": [
    "#https/programez.com for file.io"
   ]
  },
  {
   "cell_type": "code",
   "execution_count": 54,
   "metadata": {},
   "outputs": [],
   "source": [
    "#Fuction to write into File\n",
    "\n",
    "def writeIntoFile(filename, filedata):\n",
    "    with open(filename,'w')as f:\n",
    "        f.write(filedata)\n",
    "    return\n",
    "\n",
    "filename= 'DataFiles/data.txt'\n",
    "writeIntoFile(filename,\"newdata\")"
   ]
  },
  {
   "cell_type": "code",
   "execution_count": 61,
   "metadata": {},
   "outputs": [],
   "source": [
    "#Fuction to apend data to a file\n",
    "\n",
    "def appendDataToFile(filename,filedata):\n",
    "    with open (filename,'a') as f:\n",
    "        for line in filedata:\n",
    "            f.write('\\n'+line)\n",
    "    return\n",
    "\n",
    "filedata= [\"Line4\",\"Line5\"]\n",
    "appendDataToFile(filename,filedata)"
   ]
  },
  {
   "cell_type": "code",
   "execution_count": null,
   "metadata": {},
   "outputs": [],
   "source": []
  }
 ],
 "metadata": {
  "kernelspec": {
   "display_name": "Python 3",
   "language": "python",
   "name": "python3"
  },
  "language_info": {
   "codemirror_mode": {
    "name": "ipython",
    "version": 3
   },
   "file_extension": ".py",
   "mimetype": "text/x-python",
   "name": "python",
   "nbconvert_exporter": "python",
   "pygments_lexer": "ipython3",
   "version": "3.7.3"
  }
 },
 "nbformat": 4,
 "nbformat_minor": 2
}
