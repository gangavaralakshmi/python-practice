{
 "cells": [
  {
   "cell_type": "markdown",
   "metadata": {},
   "source": [
    "# Day Objectives\n",
    "\n",
    "\n",
    "- Regular Expressions:\n",
    "\n",
    "-- Constructing Regular Expressions for use cases.\n",
    "\n",
    "-- Regular Expressions Module and related in Python.\n",
    "\n",
    "-- Improving the Contacts application with name and phone number validations .\n",
    "- File Handling:\n",
    "\n",
    "-- Text files \n",
    "\n",
    "-- Upgrading the Contact goog\n"
   ]
  },
  {
   "cell_type": "markdown",
   "metadata": {},
   "source": [
    "### Regular Expressions\n",
    "\n",
    "- Pattern Maching\n",
    "- Symbolic Notation of a patterns\n",
    "    - pattern: Format which repeats\n",
    "    - pattern (RE) resposnses The set of all set of vaules or strings that match a paticular pattern\n",
    "- [0-9] -> Any digit \n",
    "- [a-z] -> ANy lower case alphabet\n",
    "- [2468] -> All single digit multiples of 2\n",
    "- [8642] , [6428] order is not important in a set .set is nothing but it is only part of the set and not part of the set.\n",
    "- ^[0-9]{1}$ -> Only single digt numbers.\n",
    "\n",
    "- ^[0-9]{3}$ -> only 3 digit numbers\n",
    "\n",
    "- [0-9]*0$ -> All multiples of 10\n",
    "- -> All multiples of 5\n",
    "\n",
    "- -> All 10 digit numbers \n",
    "\n",
    "- -> [w][o][r][d] or (word) -> Searching for a 'word'\n",
    "\n",
    "- -> ^[6-9][0-9]{9}$|^[0][6-9][0-9]{9}|^[+][9][1][6-9][0-9]{9}$ -> Valdating Phone nubmer (India ) (start with 9876 followed by 9 digits)\n",
    "\n",
    "- -> Email Validation(username@domain.extension\n",
    "        - username\n",
    "            - Length of username : [6,15]\n",
    "            - NO special characters other than_ .\n",
    "            - Should not begin with _.\n",
    "            - Should not begin and end with _.\n",
    "            - Character Set : all digits and lower case alphabets\n",
    "        -domain\n",
    "            - Length of domain:[3,18]\n",
    "            - NO special characters\n",
    "            - Character Set : all digits and lower case alphabets\n",
    "        -extension\n",
    "            - Length of extension:[2,4]\n",
    "            - No speciall Characters\n",
    "            - character Set :lower case alphabet\n",
    "  \n",
    "-->^[a]...[z]$ Any string of lenth 5 thats starts with 'a' and ends with 'z'\n",
    "\n",
    "- ^[a].*[z]$ -> Any string of any length that starts with 'a' and end with 'z'  \n"
   ]
  },
  {
   "cell_type": "code",
   "execution_count": 8,
   "metadata": {},
   "outputs": [
    {
     "data": {
      "text/plain": [
       "False"
      ]
     },
     "execution_count": 8,
     "metadata": {},
     "output_type": "execute_result"
    }
   ],
   "source": [
    "#Fuction to validate a phone number\n",
    "import re\n",
    "\n",
    "def phoneNumberValidator(number):\n",
    "    pattern = '^[6-9][0-9]{9}$|^[0][6-9][0-9]{9}|^[+][9][1][6-9][0-9]{9}$'\n",
    "    if re.match(pattern, str(number)):\n",
    "        return True       \n",
    "    return \"False\"\n",
    "\n",
    "phoneNumberValidator(9704378775)\n",
    "\n",
    "def emailValidator(email):\n",
    "    pattern = \"^[0-9a-z][0-9a-z_.]{4,13}[0-9a-z][@][a-z0-9]{3,18}[.][a-z]{2,4}$\"\n",
    "    if re.match(pattern, email):\n",
    "        return True\n",
    "    return False\n",
    "\n",
    "emailValidator(\"gangavara123@.com\")\n",
    "        "
   ]
  },
  {
   "cell_type": "code",
   "execution_count": null,
   "metadata": {},
   "outputs": [],
   "source": []
  },
  {
   "cell_type": "code",
   "execution_count": 9,
   "metadata": {},
   "outputs": [
    {
     "name": "stdout",
     "output_type": "stream",
     "text": [
      "name3 already exits\n"
     ]
    }
   ],
   "source": [
    "contacts = {\"name1\":[9704378775,'name1@domain.extension'],\"name2\":[9951817945,'name2@domain.extension']}\n",
    "def addContact(name,phone,email):\n",
    "    #verify that the contact doesnot alredy exit\n",
    "    if name not in contacts:\n",
    "            print (name,\"already exits\")\n",
    "            return\n",
    "    else:\n",
    "        if not phonenumberValidator(phone):\n",
    "            print (\"Invalid phone number\")\n",
    "            return\n",
    "        if not emailValidator(email):\n",
    "            print (\"Invaild email address\")\n",
    "            return\n",
    "        newcontact = []\n",
    "        newcontact.append(phone)\n",
    "        newcontact.append(email)\n",
    "        contacts[name] = newcontact\n",
    "        print(name, \"added successfully\")\n",
    "    return\n",
    "\n",
    "addContact(\"name3\", 9154326956, \"name321@gmail.com\")\n",
    "    "
   ]
  },
  {
   "cell_type": "code",
   "execution_count": null,
   "metadata": {},
   "outputs": [],
   "source": []
  },
  {
   "cell_type": "code",
   "execution_count": 10,
   "metadata": {},
   "outputs": [
    {
     "name": "stdout",
     "output_type": "stream",
     "text": [
      "name1\n",
      "Phone : 9704378775\n",
      "Email : name1@domain.extension\n"
     ]
    }
   ],
   "source": [
    "def searchContacts(name):\n",
    "    if name in contacts:\n",
    "        print(name)\n",
    "        print(\"Phone :\", contacts[name][0])\n",
    "        print(\"Email :\", contacts[name][1])\n",
    "    else:\n",
    "        print(\"%s does not exist\" % name)\n",
    "    return\n",
    "\n",
    "searchContacts(\"name1\")"
   ]
  },
  {
   "cell_type": "code",
   "execution_count": null,
   "metadata": {},
   "outputs": [],
   "source": []
  },
  {
   "cell_type": "code",
   "execution_count": 11,
   "metadata": {},
   "outputs": [
    {
     "name": "stdout",
     "output_type": "stream",
     "text": [
      "1 contacts added successfully\n"
     ]
    },
    {
     "data": {
      "text/plain": [
       "dict_items([('name1', [9704378775, 'name1@domain.extension']), ('name2', [9951817945, 'name2@domain.extension']), ('name4', [9154822345, 'name4_123@gmail.com'])])"
      ]
     },
     "execution_count": 11,
     "metadata": {},
     "output_type": "execute_result"
    }
   ],
   "source": [
    "# New contacts is given as a dictionary\n",
    "# Merge new contacts with existing contacts\n",
    "def importContacts(newContacts):\n",
    "    contacts.update(newContacts)\n",
    "    print(len(newContacts.keys()), \"contacts added successfully\")\n",
    "    return\n",
    "\n",
    "newContacts = {\"name4\":[9154822345, \"name4_123@gmail.com\"]}\n",
    "\n",
    "importContacts(newContacts)\n",
    "contacts.items()"
   ]
  },
  {
   "cell_type": "code",
   "execution_count": null,
   "metadata": {},
   "outputs": [],
   "source": []
  },
  {
   "cell_type": "code",
   "execution_count": 13,
   "metadata": {},
   "outputs": [
    {
     "name": "stdout",
     "output_type": "stream",
     "text": [
      "name1 \n",
      " Phone : 9704378775 \n",
      " Email : name1@domain.extension\n",
      "name2 \n",
      " Phone : 9951817945 \n",
      " Email : name2@domain.extension\n",
      "name4 \n",
      " Phone : 9154822345 \n",
      " Email : name4_123@gmail.com\n"
     ]
    }
   ],
   "source": [
    "#Function to list all contacts\n",
    "\n",
    "def listAllContacts():\n",
    "    for contact, info in contacts.items():\n",
    "        print(contact, \"\\n\", \"Phone :\", info[0], \"\\n\", \"Email :\", info[1])\n",
    "    return\n",
    "\n",
    "listAllContacts()"
   ]
  },
  {
   "cell_type": "code",
   "execution_count": null,
   "metadata": {},
   "outputs": [],
   "source": []
  },
  {
   "cell_type": "markdown",
   "metadata": {},
   "source": [
    "### REGULAR EXPRESSSIONS"
   ]
  },
  {
   "cell_type": "code",
   "execution_count": null,
   "metadata": {},
   "outputs": [],
   "source": [
    "[a-z]#if you right alphabets between a and z so it highligts in this range\n",
    "987344556564346565633qqeweet"
   ]
  },
  {
   "cell_type": "code",
   "execution_count": null,
   "metadata": {},
   "outputs": [],
   "source": [
    "[0-9]# if you right numbers between 0 and 9 it highlights the numbers\n",
    "987344556564346565633qqeweet\n"
   ]
  },
  {
   "cell_type": "code",
   "execution_count": null,
   "metadata": {},
   "outputs": [],
   "source": [
    "[-0-9]# here it takes the \"-\" as the special character if we right below expressions \"-\" also highlated\n",
    "-987\n"
   ]
  },
  {
   "cell_type": "code",
   "execution_count": null,
   "metadata": {},
   "outputs": [],
   "source": [
    "^[-0-9]{1} # in thes signgle digit is highted becuse we given start with number one sigle digit only\n",
    "834566"
   ]
  },
  {
   "cell_type": "code",
   "execution_count": null,
   "metadata": {},
   "outputs": [],
   "source": [
    "^[-0-9]{1}$ # nothing is highleted here becuase of $\n",
    "8 34566"
   ]
  },
  {
   "cell_type": "code",
   "execution_count": null,
   "metadata": {},
   "outputs": [],
   "source": [
    "^[-0-9]{2}#here two digit number is accepted more than two digits it gives some gap between two digits numbers\n",
    "81"
   ]
  },
  {
   "cell_type": "code",
   "execution_count": null,
   "metadata": {},
   "outputs": [],
   "source": [
    "^[-0-9]{3}$ # here 3 digits only accepted\n",
    "999"
   ]
  },
  {
   "cell_type": "code",
   "execution_count": null,
   "metadata": {},
   "outputs": [],
   "source": [
    "^[-0-9]{3}$ # nothing is highleted anything.\n",
    "9999973987\n",
    "#meaning of $ is it acceped sting with length 3 other than 3 it should highlet.Ir we give 3 it highled.we are saying with \n",
    "#$ it is end of the string means string should end  exactly three numbers."
   ]
  },
  {
   "cell_type": "code",
   "execution_count": null,
   "metadata": {},
   "outputs": [],
   "source": [
    "[-0-9]{3}$# i removed ^ here here only highlithing the last three charactes.becuse does not say starting point.\n",
    "9998776 767\n",
    "#if you give ^ it accepted first three characters."
   ]
  },
  {
   "cell_type": "code",
   "execution_count": null,
   "metadata": {},
   "outputs": [],
   "source": [
    "[-0-9]{3}\n",
    "999 877 676 # for very three digits it should highleted"
   ]
  },
  {
   "cell_type": "code",
   "execution_count": null,
   "metadata": {},
   "outputs": [],
   "source": [
    "[0-9]*0$ # it is  highlating the enterstring. it is multipule of 10\n",
    "900"
   ]
  },
  {
   "cell_type": "code",
   "execution_count": null,
   "metadata": {},
   "outputs": [],
   "source": [
    "[0-9]*0$\n",
    "9998876757660 # whole string is highleted because it is muliple of 10 so it is higleted any length of string.if it end with range."
   ]
  },
  {
   "cell_type": "code",
   "execution_count": null,
   "metadata": {},
   "outputs": [],
   "source": [
    "^[1-9][0-9]*0$ # it is multiple of 10\n",
    "1030450"
   ]
  },
  {
   "cell_type": "code",
   "execution_count": null,
   "metadata": {},
   "outputs": [],
   "source": [
    "[1-9][0-9]*0$\n",
    "aaaf1028970 #here it is accpeting the alphabets because  we removed ^ here.if ^ is there it accpets stat with number and\n",
    "#$ tells and with nubmer."
   ]
  },
  {
   "cell_type": "code",
   "execution_count": null,
   "metadata": {},
   "outputs": [],
   "source": [
    "^[1-9][0-9]*[05]$# multiple of 5 .which is two digits or more\n",
    "1235\n",
    "140\n",
    "890\n",
    "98765\n",
    "09870\n",
    "10\n",
    "5   # it does not accept single digit becuasewe are saying 1st number range [1-9] and 2nd number range[0-9]\n",
    "91835\n",
    "328760\n",
    "990\n",
    "9185\n",
    "000005675 #it does not aaccept before zero becuse i give 1-9"
   ]
  },
  {
   "cell_type": "code",
   "execution_count": null,
   "metadata": {},
   "outputs": [],
   "source": [
    "^[0-9][0-9]*[05]$\n",
    "1235\n",
    "140\n",
    "890\n",
    "98765\n",
    "09870\n",
    "10\n",
    "5#now also single digit doesnot accepted\n",
    "91835\n",
    "328760\n",
    "990\n",
    "9185\n",
    "000005675# it will accept any numbers of zeros in precceding becasuse we included zero in 1 st number range[0-9]"
   ]
  },
  {
   "cell_type": "code",
   "execution_count": null,
   "metadata": {},
   "outputs": [],
   "source": [
    "^[0-9][0-9]*[05]|(5)$\n",
    "1235\n",
    "140\n",
    "890\n",
    "98765\n",
    "09870\n",
    "10\n",
    "5 # it is accepting the 5 now\n",
    "91835\n",
    "328760\n",
    "990\n",
    "9185\n",
    "000005675  #it is accepting zeros also because of [0-9]"
   ]
  },
  {
   "cell_type": "code",
   "execution_count": null,
   "metadata": {},
   "outputs": [],
   "source": [
    "^[1-9][0-9]*[05]|(5)$\n",
    "1235\n",
    "140\n",
    "890\n",
    "98765\n",
    "09870\n",
    "10\n",
    "05  #now it is living zero because[1-9]in first number if you gve [0-9] it will accept 0 also.\n",
    "91835\n",
    "328760\n",
    "990\n",
    "9185\n",
    "000005675"
   ]
  },
  {
   "cell_type": "code",
   "execution_count": null,
   "metadata": {},
   "outputs": [],
   "source": [
    "[print]*          #it accepts the characters(p,r,i,n,t)this are highted numbers should not take .\n",
    "123345\n",
    "130\n",
    "890\n",
    "9876print\n",
    "print\n",
    "printing\n",
    "printer"
   ]
  },
  {
   "cell_type": "code",
   "execution_count": null,
   "metadata": {},
   "outputs": [],
   "source": [
    "[p][r][i][n][t]#it only highlet the print any before number after number no probelm print it highled.\n",
    "12345\n",
    "130\n",
    "printer\n",
    "print\n",
    "printing\n",
    "9876print"
   ]
  },
  {
   "cell_type": "code",
   "execution_count": null,
   "metadata": {},
   "outputs": [],
   "source": [
    "(print)# it accept the print anywhere\n",
    "12345\n",
    "130\n",
    "printer\n",
    "print\n",
    "printing\n",
    "9876print"
   ]
  },
  {
   "cell_type": "code",
   "execution_count": null,
   "metadata": {},
   "outputs": [],
   "source": [
    "#indian phone number^[6-9][0-9]{9}$ stating with 6 and contains 10 numbes\n",
    "^[6-9][0-9]{9}$ \n",
    "123456789\n",
    "130\n",
    "890\n",
    "9876print\n",
    "98765432\n",
    "6543218990#it is only accepted\n",
    "0998756510\n",
    "printer\n"
   ]
  },
  {
   "cell_type": "code",
   "execution_count": null,
   "metadata": {},
   "outputs": [],
   "source": [
    "^[6-9][0-9]{9}$^[0][6-9][0-9]{9}$^|[+][9][1][6-9][0-9]{9}$#it is accept the +91and 10 digit number after.\n",
    "123456789\n",
    "130\n",
    "890\n",
    "9876print\n",
    "98765432\n",
    "+916543218990\n",
    "0998756510\n",
    "printer\n"
   ]
  },
  {
   "cell_type": "code",
   "execution_count": 3,
   "metadata": {},
   "outputs": [
    {
     "data": {
      "text/plain": [
       "19"
      ]
     },
     "execution_count": 3,
     "metadata": {},
     "output_type": "execute_result"
    }
   ],
   "source": [
    "l=\"gangavaralakshmi123\"\n",
    "len(l)"
   ]
  },
  {
   "cell_type": "code",
   "execution_count": null,
   "metadata": {},
   "outputs": [],
   "source": [
    "^[0-9a-z][0-9a-z_.]{4,13}[0-9a-z][@][a-z0-9]{3,15}[.][a-z]\n",
    "re_123@aws.com"
   ]
  },
  {
   "cell_type": "code",
   "execution_count": null,
   "metadata": {},
   "outputs": [],
   "source": [
    "#https://docs.python.org/2/library/re.html it is for regular expression"
   ]
  },
  {
   "cell_type": "code",
   "execution_count": null,
   "metadata": {},
   "outputs": [],
   "source": [
    "^[a]...[z]$\n",
    "abcd7yg68yu# it should not take more than 5 characters.1st character ... 2,3,4 characters and 5th is z.\n",
    "a%^&z\n",
    "a123z\n",
    "aaazz\n",
    "azz"
   ]
  },
  {
   "cell_type": "markdown",
   "metadata": {},
   "source": [
    "### File Handiling in Python\n",
    "\n",
    "File - Document containing information residing on the perment storage\n",
    "\n",
    "Types - Text , PDF , CSV etc.\n",
    "\n",
    "File I/O\n",
    "Channelling I/O data to files \n",
    "\n",
    "Default I/O channels - keyboard / screen \n",
    "\n",
    "change I/O channel to files for Reading and writing.\n",
    "Read a file - Input  from file\n",
    "write to a file - Output to a file\n",
    "Read a file - open (filename,mode)\n",
    "\n",
    "Read / write  file - open(filename,mode"
   ]
  },
  {
   "cell_type": "code",
   "execution_count": 50,
   "metadata": {},
   "outputs": [
    {
     "name": "stdout",
     "output_type": "stream",
     "text": [
      "line 1\n",
      " line 2\n",
      " line 3 line 1\n",
      "line 2\n",
      "line 3\n"
     ]
    }
   ],
   "source": [
    "#Function to read File\n",
    "\n",
    "def readFile(filename):\n",
    "    f=open(filename,'r') \n",
    "    filedata = f.read()\n",
    "    f.close()\n",
    "    return filedata\n",
    "filename = 'DataFiles/data.txt'\n",
    "filedata=readFile(filename)\n",
    "for line in readFile(filename).split('\\n'):\n",
    "    (line)\n",
    "    \n",
    "    \n",
    "def printFileDataLines(filename):\n",
    "    with open(filename,'r') as f:\n",
    "        for line in f:\n",
    "            print (line,end=' ')\n",
    "        return\n",
    "\n",
    "printFileDataLines(filename)\n",
    "print(readFile(filename))"
   ]
  },
  {
   "cell_type": "code",
   "execution_count": null,
   "metadata": {},
   "outputs": [],
   "source": [
    "#https/programez.com for file.io"
   ]
  },
  {
   "cell_type": "code",
   "execution_count": 19,
   "metadata": {},
   "outputs": [],
   "source": [
    "#Fuction to write into File\n",
    "\n",
    "def writeIntoFile(filename, filedata):\n",
    "    with open(filename,'w')as f:\n",
    "        f.write(filedata)\n",
    "    return\n",
    "\n",
    "filename= 'DataFiles/data.txt'\n",
    "writeIntoFile(filename,\"newdata\")"
   ]
  },
  {
   "cell_type": "code",
   "execution_count": 61,
   "metadata": {},
   "outputs": [],
   "source": [
    "#Fuction to apend data to a file\n",
    "\n",
    "def appendDataToFile(filename,filedata):\n",
    "    with open (filename,'a') as f:\n",
    "        for line in filedata:\n",
    "            f.write('\\n'+line)\n",
    "    return\n",
    "\n",
    "filedata= [\"Line4\",\"Line5\"]\n",
    "appendDataToFile(filename,filedata)"
   ]
  },
  {
   "cell_type": "code",
   "execution_count": null,
   "metadata": {},
   "outputs": [],
   "source": []
  }
 ],
 "metadata": {
  "kernelspec": {
   "display_name": "Python 3",
   "language": "python",
   "name": "python3"
  },
  "language_info": {
   "codemirror_mode": {
    "name": "ipython",
    "version": 3
   },
   "file_extension": ".py",
   "mimetype": "text/x-python",
   "name": "python",
   "nbconvert_exporter": "python",
   "pygments_lexer": "ipython3",
   "version": "3.7.3"
  }
 },
 "nbformat": 4,
 "nbformat_minor": 2
}
