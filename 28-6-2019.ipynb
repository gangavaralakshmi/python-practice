{
 "cells": [
  {
   "cell_type": "markdown",
   "metadata": {},
   "source": [
    "## Day Objectives"
   ]
  },
  {
   "cell_type": "markdown",
   "metadata": {},
   "source": [
    "- Map \n",
    "- Lambda\n",
    "- Fliter\n",
    "- Use Cases - File/Data Encryption"
   ]
  },
  {
   "cell_type": "markdown",
   "metadata": {},
   "source": [
    "### Map "
   ]
  },
  {
   "cell_type": "code",
   "execution_count": null,
   "metadata": {},
   "outputs": [],
   "source": [
    "f:x\n",
    "    \n",
    "Mapping - Entity with Function\n",
    "\n",
    "f : x^2 + 3*x + 9\n",
    "\n",
    "x:[1,10]\n",
    "      \n",
    "f(1) -> 13\n",
    "f(2) -> 19\n",
    "...\n",
    "......\n",
    "\n",
    "y = f(x)   f=x^2\n",
    "\n",
    "x    y       x  y\n",
    "1    13      1  1\n",
    "2    19      2  4\n",
    "3    .       3  9\n",
    "4    .\n",
    "5    .\n",
    "6\n",
    "7\n",
    "8\n",
    "9\n",
    "10\n",
    "\n",
    "map(fuction,Iterable)\n",
    "\n"
   ]
  },
  {
   "cell_type": "code",
   "execution_count": 8,
   "metadata": {},
   "outputs": [
    {
     "data": {
      "text/plain": [
       "4"
      ]
     },
     "execution_count": 8,
     "metadata": {},
     "output_type": "execute_result"
    }
   ],
   "source": [
    "def PowerN(a,n):\n",
    "    #return a**n\n",
    "    r=1\n",
    "    for i in range (0,n):\n",
    "        r *=a\n",
    "    return r\n",
    "PowerN(2,10)\n",
    "\n",
    "def recursivePowerN(a,n):\n",
    "    if n==0:\n",
    "        return 1\n",
    "    else:\n",
    "        return a*recursivePowerN(a,n-1)\n",
    "recursivePowerN(2,2)\n",
    "\n",
    "\n"
   ]
  },
  {
   "cell_type": "code",
   "execution_count": 16,
   "metadata": {},
   "outputs": [
    {
     "name": "stdout",
     "output_type": "stream",
     "text": [
      "<map object at 0x000001B763A68CC0>\n",
      "{64, 1, 8, 216, 27, 125}\n",
      "{1860867}\n"
     ]
    }
   ],
   "source": [
    "def cube(n):\n",
    "    return n**3\n",
    "li=[1,2,3,4,5,6]\n",
    "\n",
    "print(map(cube,li))\n",
    "print(set(map(cube,li)))\n",
    "print(set(map(cube,[123])))"
   ]
  },
  {
   "cell_type": "code",
   "execution_count": 21,
   "metadata": {},
   "outputs": [
    {
     "data": {
      "text/plain": [
       "[1, 2, 3, 4, 5, 6]"
      ]
     },
     "execution_count": 21,
     "metadata": {},
     "output_type": "execute_result"
    }
   ],
   "source": [
    "def cube(n):\n",
    "    return n**3\n",
    "li=['1','2','3','4','5','6']\n",
    "\n",
    "list(map(int,li))\n"
   ]
  },
  {
   "cell_type": "code",
   "execution_count": 55,
   "metadata": {},
   "outputs": [
    {
     "data": {
      "text/plain": [
       "['1', '2', '3', '4', '5', '6']"
      ]
     },
     "execution_count": 55,
     "metadata": {},
     "output_type": "execute_result"
    }
   ],
   "source": [
    "def cube(n):\n",
    "    return n**3\n",
    "li=['1','2','3','4','5','6']\n",
    "\n",
    "li2=list(map(int,li))\n",
    "\n",
    "list(map(str,li2))"
   ]
  },
  {
   "cell_type": "code",
   "execution_count": 23,
   "metadata": {},
   "outputs": [
    {
     "data": {
      "text/plain": [
       "[1.0, 2.0, 3.0, 4.0, 5.0, 6.0]"
      ]
     },
     "execution_count": 23,
     "metadata": {},
     "output_type": "execute_result"
    }
   ],
   "source": [
    "list(map(float,li2))"
   ]
  },
  {
   "cell_type": "code",
   "execution_count": 56,
   "metadata": {},
   "outputs": [
    {
     "data": {
      "text/plain": [
       "[1, 8, 27, 64, 125, 216]"
      ]
     },
     "execution_count": 56,
     "metadata": {},
     "output_type": "execute_result"
    }
   ],
   "source": [
    "numbers=[int(i) for i in li]\n",
    "[cube(i) for i in numbers]"
   ]
  },
  {
   "cell_type": "code",
   "execution_count": 24,
   "metadata": {},
   "outputs": [
    {
     "data": {
      "text/plain": [
       "(1.0, 2.0, 3.0, 4.0, 5.0, 6.0)"
      ]
     },
     "execution_count": 24,
     "metadata": {},
     "output_type": "execute_result"
    }
   ],
   "source": [
    "tuple(map(float,li2))"
   ]
  },
  {
   "cell_type": "markdown",
   "metadata": {},
   "source": [
    "### Filter\n",
    "\n",
    "- Used to check boolean vaules"
   ]
  },
  {
   "cell_type": "code",
   "execution_count": 43,
   "metadata": {},
   "outputs": [
    {
     "data": {
      "text/plain": [
       "[1, 2, 'a', 'b', 'c', 3]"
      ]
     },
     "execution_count": 43,
     "metadata": {},
     "output_type": "execute_result"
    }
   ],
   "source": [
    "li=[1,2,'a','b','c',3]\n",
    "\n",
    "def isDigit(c):\n",
    "    c=str(c)\n",
    "    if c.isdigit():\n",
    "        return -1\n",
    "    return 1\n",
    "isDigit('a')\n",
    "\n",
    "list(filter(isDigit,li))\n"
   ]
  },
  {
   "cell_type": "code",
   "execution_count": null,
   "metadata": {},
   "outputs": [],
   "source": [
    "Use to checked boolean fuctions\n",
    "\n",
    "f:x ->{T,F}\n",
    "y is sub set x\n",
    "\n",
    "x          y\n",
    "1          \n",
    "2          2\n",
    "3          3\n",
    "4\n",
    "5          5\n"
   ]
  },
  {
   "cell_type": "code",
   "execution_count": 51,
   "metadata": {},
   "outputs": [
    {
     "data": {
      "text/plain": [
       "[503, 509, 521, 523, 541, 547, 557, 563, 569, 571, 577, 587, 593, 599]"
      ]
     },
     "execution_count": 51,
     "metadata": {},
     "output_type": "execute_result"
    }
   ],
   "source": [
    "#Identify the all primes in range with filter(a,b)\n",
    "\n",
    "l=[1,2,3,4,5,6,7,8]\n",
    "def Prime(n):\n",
    "    if n<2:\n",
    "        return False\n",
    "    for j in range(2,n//2+1):\n",
    "        if n%j==0:\n",
    "            return False\n",
    "    return True\n",
    "lb,ub=500,600\n",
    "\n",
    "#Map files becuase it doesn't apply for checking conditionals\n",
    "Primelist=list(filter((Prime),range(lb,ub)))\n",
    "Primelist\n"
   ]
  },
  {
   "cell_type": "code",
   "execution_count": 52,
   "metadata": {},
   "outputs": [
    {
     "data": {
      "text/plain": [
       "[503, 509, 521, 523, 541, 547, 557, 563, 569, 571, 577, 587, 593, 599]"
      ]
     },
     "execution_count": 52,
     "metadata": {},
     "output_type": "execute_result"
    }
   ],
   "source": [
    "#list comprehenstion use prime numbers\n",
    "\n",
    "def Prime(n):\n",
    "    if n<2:\n",
    "        return False\n",
    "    for j in range(2,n//2+1):\n",
    "        if n%j==0:\n",
    "            return False\n",
    "    return True\n",
    "lb,ub=500,600\n",
    "\n",
    "primelist=[i for i in range(lb,ub+1) if Prime(i) is True]\n",
    "primelist\n"
   ]
  },
  {
   "cell_type": "markdown",
   "metadata": {},
   "source": [
    "### Lambda\n",
    "\n",
    "- Anonymous Fuctions\n",
    "\n",
    "- can be embbeded into List Comparehension "
   ]
  },
  {
   "cell_type": "code",
   "execution_count": 62,
   "metadata": {},
   "outputs": [
    {
     "data": {
      "text/plain": [
       "27"
      ]
     },
     "execution_count": 62,
     "metadata": {},
     "output_type": "execute_result"
    }
   ],
   "source": [
    "#print cube of one number\n",
    "a = lambda x: x**3\n",
    "a(3)"
   ]
  },
  {
   "cell_type": "code",
   "execution_count": 66,
   "metadata": {},
   "outputs": [
    {
     "name": "stdout",
     "output_type": "stream",
     "text": [
      "[1, 8, 27, 64, 125, 216]\n",
      "[1, 3, 5]\n"
     ]
    }
   ],
   "source": [
    "#print cubes of list comprehension\n",
    "a = lambda x: x**3\n",
    "print(list(map(lambda x:x**3,[1,2,3,4,5,6])))\n",
    "\n",
    "print(list(filter(lambda x: (x%2 !=0),[1,2,3,4,5,6])))"
   ]
  },
  {
   "cell_type": "code",
   "execution_count": 1,
   "metadata": {},
   "outputs": [
    {
     "data": {
      "text/plain": [
       "[10, 14, 14, 14, 12, 11, 10, 9, 9]"
      ]
     },
     "execution_count": 1,
     "metadata": {},
     "output_type": "execute_result"
    }
   ],
   "source": [
    "from random import randint\n",
    "\n",
    "internal1 = [randint (0,25) for i in range(10)]\n",
    "internal2 = [randint(0,25) for i in range(10)]\n",
    "internal3 = [randint(0,25) for i in range(10)]\n",
    "\n",
    "averageInternal = list(map(lambda x,y,z: (x+y+z)//3 ,internal1,internal2,internal3))\n",
    "failmarks = list (filter(lambda x: x<15,list (map(lambda x,y,z : (x+y+z)//3,internal1,internal2,internal3))))\n",
    "failmarks"
   ]
  },
  {
   "cell_type": "markdown",
   "metadata": {},
   "source": [
    "### Appliing functional programming"
   ]
  },
  {
   "cell_type": "code",
   "execution_count": 8,
   "metadata": {},
   "outputs": [],
   "source": [
    "#Generste random import Marks data\n",
    "\n",
    "from random import randint\n",
    "\n",
    "def generatorMarks(n,lb,ub):\n",
    "    filename=\"DataFiles/marks.txt\"\n",
    "    with open (filename,'w') as f:\n",
    "        for i in range(n):\n",
    "            marks=randint(lb,ub)\n",
    "            f.write(str(marks)+'\\n')\n",
    "generatorMarks(10000,0,100)\n",
    "    "
   ]
  },
  {
   "cell_type": "code",
   "execution_count": 15,
   "metadata": {},
   "outputs": [
    {
     "ename": "ValueError",
     "evalue": "invalid literal for int() with base 10: ''",
     "output_type": "error",
     "traceback": [
      "\u001b[1;31m---------------------------------------------------------------------------\u001b[0m",
      "\u001b[1;31mValueError\u001b[0m                                Traceback (most recent call last)",
      "\u001b[1;32m<ipython-input-15-894392471b5d>\u001b[0m in \u001b[0;36m<module>\u001b[1;34m\u001b[0m\n\u001b[0;32m     15\u001b[0m \u001b[1;33m\u001b[0m\u001b[0m\n\u001b[0;32m     16\u001b[0m \u001b[0mfilepath\u001b[0m\u001b[1;33m=\u001b[0m\u001b[1;34m'DataFiles/marks.txt'\u001b[0m\u001b[1;33m\u001b[0m\u001b[1;33m\u001b[0m\u001b[0m\n\u001b[1;32m---> 17\u001b[1;33m \u001b[0mclassAverage\u001b[0m\u001b[1;33m(\u001b[0m\u001b[0mfilepath\u001b[0m\u001b[1;33m)\u001b[0m\u001b[1;33m\u001b[0m\u001b[1;33m\u001b[0m\u001b[0m\n\u001b[0m\u001b[0;32m     18\u001b[0m \u001b[1;33m\u001b[0m\u001b[0m\n",
      "\u001b[1;32m<ipython-input-15-894392471b5d>\u001b[0m in \u001b[0;36mclassAverage\u001b[1;34m(filepath)\u001b[0m\n\u001b[0;32m     11\u001b[0m         \u001b[0mmarkslist\u001b[0m\u001b[1;33m=\u001b[0m\u001b[0mre\u001b[0m\u001b[1;33m.\u001b[0m\u001b[0msplit\u001b[0m\u001b[1;33m(\u001b[0m\u001b[1;34m'\\n'\u001b[0m\u001b[1;33m,\u001b[0m\u001b[0mfiledata\u001b[0m\u001b[1;33m)\u001b[0m\u001b[1;33m\u001b[0m\u001b[1;33m\u001b[0m\u001b[0m\n\u001b[0;32m     12\u001b[0m         \u001b[1;31m#markslist=list(map(int,markslist))\u001b[0m\u001b[1;33m\u001b[0m\u001b[1;33m\u001b[0m\u001b[1;33m\u001b[0m\u001b[0m\n\u001b[1;32m---> 13\u001b[1;33m     \u001b[0mmarkslist\u001b[0m\u001b[1;33m=\u001b[0m\u001b[0mlist\u001b[0m\u001b[1;33m(\u001b[0m\u001b[0mmap\u001b[0m\u001b[1;33m(\u001b[0m\u001b[0mint\u001b[0m\u001b[1;33m,\u001b[0m\u001b[0mmarkslist\u001b[0m\u001b[1;33m)\u001b[0m\u001b[1;33m)\u001b[0m\u001b[1;33m\u001b[0m\u001b[1;33m\u001b[0m\u001b[0m\n\u001b[0m\u001b[0;32m     14\u001b[0m     \u001b[1;32mreturn\u001b[0m \u001b[0msum\u001b[0m\u001b[1;33m(\u001b[0m\u001b[0mmarkslist\u001b[0m\u001b[1;33m)\u001b[0m\u001b[1;33m//\u001b[0m\u001b[0mlen\u001b[0m\u001b[1;33m(\u001b[0m\u001b[0mmarkslist\u001b[0m\u001b[1;33m)\u001b[0m\u001b[1;33m\u001b[0m\u001b[1;33m\u001b[0m\u001b[0m\n\u001b[0;32m     15\u001b[0m \u001b[1;33m\u001b[0m\u001b[0m\n",
      "\u001b[1;31mValueError\u001b[0m: invalid literal for int() with base 10: ''"
     ]
    }
   ],
   "source": [
    "#Marks Analysis\n",
    "#class Average\n",
    "#% of passed ,Failed and Distinction\n",
    "#Frequency of Higest & Lowest Mark.\n",
    "\n",
    "import re\n",
    "\n",
    "def classAverage(filepath):\n",
    "    with open(filepath,'r') as f:\n",
    "        filedata=f.read()\n",
    "        markslist=re.split('\\n',filedata)\n",
    "        #markslist=list(map(int,markslist))\n",
    "    markslist=list(map(int,markslist))\n",
    "    return sum(markslist)//len(markslist)\n",
    "\n",
    "filepath='DataFiles/marks.txt'\n",
    "classAverage(filepath)\n",
    "        "
   ]
  },
  {
   "cell_type": "code",
   "execution_count": 19,
   "metadata": {},
   "outputs": [
    {
     "data": {
      "text/plain": [
       "49"
      ]
     },
     "execution_count": 19,
     "metadata": {},
     "output_type": "execute_result"
    }
   ],
   "source": [
    "def readMarksList(filepath):\n",
    "    with open (filepath, 'r') as f:\n",
    "        filedata = f.read().split()\n",
    "    return list(map(int,filedata))\n",
    "\n",
    "def classAverage(filepath):\n",
    "    markslist=readMarksList(filepath)\n",
    "    return sum(markslist)//len(markslist)\n",
    "\n",
    "\n",
    "filepath = 'DataFiles/marks.txt'\n",
    "classAverage(filepath)\n",
    "\n"
   ]
  },
  {
   "cell_type": "code",
   "execution_count": 20,
   "metadata": {},
   "outputs": [
    {
     "ename": "SyntaxError",
     "evalue": "invalid syntax (<ipython-input-20-011ed7b1fcd7>, line 3)",
     "output_type": "error",
     "traceback": [
      "\u001b[1;36m  File \u001b[1;32m\"<ipython-input-20-011ed7b1fcd7>\"\u001b[1;36m, line \u001b[1;32m3\u001b[0m\n\u001b[1;33m    distinctioncount=len(list(filter(lambda)))\u001b[0m\n\u001b[1;37m                                           ^\u001b[0m\n\u001b[1;31mSyntaxError\u001b[0m\u001b[1;31m:\u001b[0m invalid syntax\n"
     ]
    }
   ],
   "source": [
    "def percentagefailed(filepath):\n",
    "    marksList=readMarksList(filepath)\n",
    "    distinctioncount=len(list(filter(lambda)))\n",
    "    distinctioncount/len(marks)*100\n",
    "percentagefailed(filepath)"
   ]
  },
  {
   "cell_type": "code",
   "execution_count": 83,
   "metadata": {},
   "outputs": [
    {
     "data": {
      "text/plain": [
       "39.589999999999996"
      ]
     },
     "execution_count": 83,
     "metadata": {},
     "output_type": "execute_result"
    }
   ],
   "source": [
    "def percentageFailed(filepath):\n",
    "    markslist = readMarksList(filepath)\n",
    "    failedcount = len(list(filter(lambda mark: mark < 40, markslist)))\n",
    "    \n",
    "    return (failedcount/len(markslist))*100\n",
    "\n",
    "percentageFailed(filepath)"
   ]
  },
  {
   "cell_type": "code",
   "execution_count": 85,
   "metadata": {},
   "outputs": [
    {
     "data": {
      "text/plain": [
       "60.410000000000004"
      ]
     },
     "execution_count": 85,
     "metadata": {},
     "output_type": "execute_result"
    }
   ],
   "source": [
    "def percentagePassed(filepath):\n",
    "    return 100 - percentageFailed(filepath)\n",
    "\n",
    "percentagePassed(filepath)"
   ]
  },
  {
   "cell_type": "code",
   "execution_count": 86,
   "metadata": {},
   "outputs": [
    {
     "data": {
      "text/plain": [
       "29.59"
      ]
     },
     "execution_count": 86,
     "metadata": {},
     "output_type": "execute_result"
    }
   ],
   "source": [
    "def percentageDistinction(filepath):\n",
    "    markslist = readMarksList(filepath)\n",
    "    distinctioncount = len(list(filter(lambda mark: mark > 70, markslist)))\n",
    "    return (distinctioncount/len(markslist))*100\n",
    "percentageDistinction(filepath)"
   ]
  },
  {
   "cell_type": "code",
   "execution_count": 78,
   "metadata": {},
   "outputs": [
    {
     "data": {
      "text/plain": [
       "117"
      ]
     },
     "execution_count": 78,
     "metadata": {},
     "output_type": "execute_result"
    }
   ],
   "source": [
    "def highmarkFrequency(filepath):\n",
    "    markslist=readMarksList(filepath)\n",
    "    return markslist.count(max(markslist))\n",
    "highestMarkFrequency(filepath)"
   ]
  },
  {
   "cell_type": "code",
   "execution_count": 80,
   "metadata": {},
   "outputs": [
    {
     "data": {
      "text/plain": [
       "116"
      ]
     },
     "execution_count": 80,
     "metadata": {},
     "output_type": "execute_result"
    }
   ],
   "source": [
    "def lowestmarkFrequency(filepath):\n",
    "    markslist=readMarksList(filepath)\n",
    "    return markslist.count(min(markslist))\n",
    "lowestmarkFrequency(filepath)"
   ]
  },
  {
   "cell_type": "code",
   "execution_count": null,
   "metadata": {},
   "outputs": [],
   "source": []
  },
  {
   "cell_type": "markdown",
   "metadata": {},
   "source": [
    "### DataEncryption\n",
    "\n",
    "\n",
    "- key - mapping of characters with replaced character\n",
    "\n",
    "0 -> 4\n",
    "1 -> 5\n",
    "2 -> 6\n",
    "3 -> 7\n",
    "4 -> 8\n",
    "5 -> 9\n",
    "6 -> 0\n",
    "7 -> 1\n",
    "8 -> 2\n",
    "9 -> 3\n",
    "\n",
    "0 4\n"
   ]
  },
  {
   "cell_type": "code",
   "execution_count": 87,
   "metadata": {},
   "outputs": [],
   "source": [
    "#Fuction to generate key for encryption\n",
    "keypath = 'DataFiles/key.txt'\n",
    "\n",
    "def generateKey(keypath):\n",
    "    with open(keypath, 'w') as f:\n",
    "        for i in range(10):\n",
    "            if i < 6:\n",
    "                f.write(str(i)+ ' ' + str(i+4)+'\\n')\n",
    "            else:\n",
    "                f.write(str(i)+ ' ' +str(i-6)+'\\n')\n",
    "    return\n",
    "generateKey(keypath)\n",
    "        "
   ]
  },
  {
   "cell_type": "code",
   "execution_count": 88,
   "metadata": {},
   "outputs": [],
   "source": [
    "# Function to encrypt a data file\n",
    "keyfile = 'DataFiles/key.txt'\n",
    "def dictionaryKeyFile(keyfile):\n",
    "    key = {}\n",
    "    with open(keyfile, 'r') as f:\n",
    "        for line in f:\n",
    "            line = line.split()\n",
    "            key[line[0]] = line[1]\n",
    "    return key\n",
    "\n",
    "#dictionaryKeyFile(keyfile)\n",
    "def encryptMarksData(datafile, keyfile):\n",
    "    #construct a dictionary for key data\n",
    "    key = dictionaryKeyFile(keyfile)\n",
    "    with open(datafile, 'r') as f:\n",
    "        filedata = f.read().split('\\n')\n",
    "    with open('DataFiles/encryptedMarks.txt', 'w') as f:\n",
    "        for mark in filedata:\n",
    "            line = ''\n",
    "            for n in mark:\n",
    "                line += key[n]\n",
    "            f.write(line+'\\n')\n",
    "    return\n",
    "datafile = 'DataFiles/marks.txt'\n",
    "encryptMarksData(datafile, keyfile)"
   ]
  },
  {
   "cell_type": "code",
   "execution_count": 89,
   "metadata": {},
   "outputs": [
    {
     "name": "stdout",
     "output_type": "stream",
     "text": [
      "0.04584590000013122\n"
     ]
    }
   ],
   "source": [
    "# Function to decrypt an encrypted file\n",
    "\n",
    "def decryptMarksData(encryptedfile, keyfile):\n",
    "    key = dictionaryKeyFile(keyfile)\n",
    "    newkey = {}\n",
    "    for key, value in key.items():\n",
    "        newkey[value] = key\n",
    "    \n",
    "    with open(encryptedfile, 'r') as f:\n",
    "        encrypteddata = f.read().split('\\n')\n",
    "    with open('DataFiles/decryptedMarks.txt', 'w') as f:\n",
    "        \n",
    "        for encryptedmark in encrypteddata:\n",
    "            line = ''\n",
    "            for n in encryptedmark:\n",
    "                line += newkey[n]\n",
    "            f.write(line + '\\n')\n",
    "    return\n",
    "\n",
    "encryptedfile = 'DataFiles/encryptedMarks.txt'\n",
    "import timeit\n",
    "st = timeit.default_timer()\n",
    "decryptMarksData(encryptedfile, keyfile) \n",
    "print(timeit.default_timer()-st)"
   ]
  },
  {
   "cell_type": "code",
   "execution_count": 90,
   "metadata": {},
   "outputs": [
    {
     "data": {
      "text/plain": [
       "{'0', '1', '2', '3', '4', '5', '6', '7', '8', '9'}"
      ]
     },
     "execution_count": 90,
     "metadata": {},
     "output_type": "execute_result"
    }
   ],
   "source": [
    "\n",
    "# Comprehensions\n",
    "keyfile = 'DataFiles/key.txt'\n",
    "key = dictionaryKeyFile(keyfile)\n",
    "\n",
    "evenkeys = {item for item in key}\n",
    "evenkeys"
   ]
  },
  {
   "cell_type": "code",
   "execution_count": null,
   "metadata": {},
   "outputs": [],
   "source": []
  },
  {
   "cell_type": "code",
   "execution_count": null,
   "metadata": {},
   "outputs": [],
   "source": [
    "https://scipy.org/    #for libraries in pyhton"
   ]
  },
  {
   "cell_type": "code",
   "execution_count": null,
   "metadata": {},
   "outputs": [],
   "source": [
    "http://www.numpy.org/ #array handiling\n",
    "http://pandas.pydata.org/  #data analysis\n",
    "https://matplotlib.org/    #for two dimensional plots."
   ]
  }
 ],
 "metadata": {
  "kernelspec": {
   "display_name": "Python 3",
   "language": "python",
   "name": "python3"
  },
  "language_info": {
   "codemirror_mode": {
    "name": "ipython",
    "version": 3
   },
   "file_extension": ".py",
   "mimetype": "text/x-python",
   "name": "python",
   "nbconvert_exporter": "python",
   "pygments_lexer": "ipython3",
   "version": "3.7.3"
  }
 },
 "nbformat": 4,
 "nbformat_minor": 2
}
