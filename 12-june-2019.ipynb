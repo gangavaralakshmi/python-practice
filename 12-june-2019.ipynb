{
 "cells": [
  {
   "cell_type": "markdown",
   "metadata": {},
   "source": [
    "# Probelm SLoving and Programming\n",
    "### Day objectives\n",
    "\n",
    "- String Slicing\n",
    "- Functions in Python\n",
    "- Basic Problems  related to conditional statement using functions \n",
    "- iteration in Python\n",
    "- Python Data structures - Lists ,Tuples and Dictionaries\n",
    "- Basic Operations on data structures\n",
    "- Applying data structures to solve Problems"
   ]
  },
  {
   "cell_type": "markdown",
   "metadata": {},
   "source": [
    "# String Slicing"
   ]
  },
  {
   "cell_type": "code",
   "execution_count": 23,
   "metadata": {},
   "outputs": [
    {
     "name": "stdout",
     "output_type": "stream",
     "text": [
      "Pythonis programing language\n",
      "P\n",
      "n\n",
      "e\n",
      "e\n",
      "g\n",
      "Pythonis programing languag\n",
      "Py\n",
      "g\n",
      "ge\n",
      "onis programing language\n",
      "ge\n",
      "ythonis programing languag\n",
      "a\n",
      "28\n",
      "egaugnal gnimargorp sinohty\n",
      "egaugnal gnimargorp sinohtyP\n",
      "eg\n",
      "ar\n",
      "am\n",
      "Pto\n",
      "nhy\n",
      "n\n"
     ]
    }
   ],
   "source": [
    "s1 = \"Pythonis programing language\"\n",
    "\n",
    "print (s1)\n",
    "print (s1[0]) #Accesing the  frist character\n",
    "print (s1[5])  #Accesing the  5 th character\n",
    "print (s1[-1])  #Accesing the last charater\n",
    "print (s1[len(s1)-1])  #Acessing the last charater\n",
    "print (s1[-2])  #Accessing last but one character\n",
    "print (s1[0:-1]) #-1 is exclusive it will not print , 0 is inculsive it is printed\n",
    "print (s1[0:2] )  ##Acessing the first teo characters\n",
    "print (s1[-2:-1])  # Acessking -2 only printed\n",
    "print (s1[-2 : ])   # Accessing the last teo charaters \n",
    "print (s1[4:]) # it print the from 5 th character to last character in the string\n",
    "print  (s1[-2:]) # it will gives the last two characters to for the string of any length\n",
    "print (s1[1:-1]) # Accesing except first and last character and remining all character\n",
    "\n",
    "print (s1[len(s1)//2])  # odd lentgh string\n",
    "\n",
    "print (len(s1))\n",
    "\n",
    "print (s1[-1 :0: -1]) #Reverse of a string\n",
    "\n",
    "print (s1[-1 :: -1]) #Reverse of a string up to last character\n",
    "\n",
    "print (s1[-1:-3:-1]) #Reverse of last two character\n",
    "\n",
    "# reverse the middle two characters \n",
    "print (s1[len(s1)//2:len(s1)//2-2:-1])\n",
    "\n",
    "#If we go for the \n",
    "print (s1[len(s1)//2:len(s1)//2+2:1])# from for ward way it is\n",
    "\n",
    "#Aceesing alternate characters in a string\n",
    "#\"Python -> \"Pto\"\n",
    "s2=\"Python\"\n",
    "print (s2[0::2])\n",
    "\n",
    "#Accessing alternate characters of a reverse string\n",
    "\n",
    "print(s2[-1::-2])\n",
    "\n",
    "print(s2[-1::])\n",
    "\n"
   ]
  },
  {
   "cell_type": "code",
   "execution_count": null,
   "metadata": {},
   "outputs": [],
   "source": []
  },
  {
   "cell_type": "markdown",
   "metadata": {},
   "source": [
    "# Functions"
   ]
  },
  {
   "cell_type": "code",
   "execution_count": 24,
   "metadata": {},
   "outputs": [
    {
     "data": {
      "text/plain": [
       "'nohtyP'"
      ]
     },
     "execution_count": 24,
     "metadata": {},
     "output_type": "execute_result"
    }
   ],
   "source": [
    "#Function to reverse a string\n",
    "def reverseString(s):       ##it will take one string to reverse,reverse is here funtion name not inbulit lfunction\n",
    "    return s[::-1]           #just return the vaule type inter to the interpeter\n",
    "\n",
    "reverseString(\"Python\")   ##function calling"
   ]
  },
  {
   "cell_type": "code",
   "execution_count": 29,
   "metadata": {},
   "outputs": [
    {
     "data": {
      "text/plain": [
       "True"
      ]
     },
     "execution_count": 29,
     "metadata": {},
     "output_type": "execute_result"
    }
   ],
   "source": [
    "#Function to return tp check if a string is a Palidrome\n",
    "def palindrome(s):\n",
    "    if s == s[::-1]:\n",
    "        return True   # all keywords are in Python are in green colour\n",
    "    else :\n",
    "        return False\n",
    "palindrome(\"lol\")\n",
    "\n",
    "    "
   ]
  },
  {
   "cell_type": "code",
   "execution_count": 67,
   "metadata": {},
   "outputs": [
    {
     "data": {
      "text/plain": [
       "<reversed at 0x22493e3a7f0>"
      ]
     },
     "execution_count": 67,
     "metadata": {},
     "output_type": "execute_result"
    }
   ],
   "source": [
    "a=reversed(\"ganga\") # it is giving the adress of the reversed  string\n",
    "a"
   ]
  },
  {
   "cell_type": "code",
   "execution_count": 64,
   "metadata": {},
   "outputs": [
    {
     "name": "stdout",
     "output_type": "stream",
     "text": [
      "Help on class reversed in module builtins:\n",
      "\n",
      "class reversed(object)\n",
      " |  reversed(sequence, /)\n",
      " |  \n",
      " |  Return a reverse iterator over the values of the given sequence.\n",
      " |  \n",
      " |  Methods defined here:\n",
      " |  \n",
      " |  __getattribute__(self, name, /)\n",
      " |      Return getattr(self, name).\n",
      " |  \n",
      " |  __iter__(self, /)\n",
      " |      Implement iter(self).\n",
      " |  \n",
      " |  __length_hint__(...)\n",
      " |      Private method returning an estimate of len(list(it)).\n",
      " |  \n",
      " |  __next__(self, /)\n",
      " |      Implement next(self).\n",
      " |  \n",
      " |  __reduce__(...)\n",
      " |      Return state information for pickling.\n",
      " |  \n",
      " |  __setstate__(...)\n",
      " |      Set state information for unpickling.\n",
      " |  \n",
      " |  ----------------------------------------------------------------------\n",
      " |  Static methods defined here:\n",
      " |  \n",
      " |  __new__(*args, **kwargs) from builtins.type\n",
      " |      Create and return a new object.  See help(type) for accurate signature.\n",
      "\n"
     ]
    }
   ],
   "source": [
    "help(reversed)"
   ]
  },
  {
   "cell_type": "code",
   "execution_count": 35,
   "metadata": {},
   "outputs": [
    {
     "data": {
      "text/plain": [
       "True"
      ]
     },
     "execution_count": 35,
     "metadata": {},
     "output_type": "execute_result"
    }
   ],
   "source": [
    "#Function to bulit leap year\n",
    "\n",
    "def leapyear(year):\n",
    "    if year%400 ==0 or (year%100 !=100 and year%4==0):\n",
    "        return True\n",
    "    else:\n",
    "        return False\n",
    "    \n",
    "leapyear(2016)"
   ]
  },
  {
   "cell_type": "code",
   "execution_count": 42,
   "metadata": {},
   "outputs": [
    {
     "data": {
      "text/plain": [
       "5"
      ]
     },
     "execution_count": 42,
     "metadata": {},
     "output_type": "execute_result"
    }
   ],
   "source": [
    "# Function to count number of digits in a given number\n",
    "\n",
    "def countnumberdigits(n):\n",
    "    return len(n)\n",
    "    \n",
    "countnumberdigits(\"ganga\")\n",
    "  \n",
    "    "
   ]
  },
  {
   "cell_type": "code",
   "execution_count": 41,
   "metadata": {},
   "outputs": [
    {
     "name": "stdout",
     "output_type": "stream",
     "text": [
      "n1 is gretest9\n"
     ]
    }
   ],
   "source": [
    "#Function to identify greatedt  of foour numbers\n",
    "\n",
    "def greatest(n1,n2,n3,n4):\n",
    "    if n1>n2 and n1>n3 and n1>n4:\n",
    "        print (\"n1 is gretest\"+str(n1))\n",
    "    elif n2>n3 and n2>n4:\n",
    "        print (\"n2 is greater\"+str(n2))\n",
    "    elif n3>n4:\n",
    "        print (\"n3 is greater\"+str(n3))\n",
    "        \n",
    "    else:\n",
    "        print (\"n4 is greater\"+str(n4))\n",
    "        \n",
    "greatest(9,4,5,6)\n",
    "\n"
   ]
  },
  {
   "cell_type": "code",
   "execution_count": 43,
   "metadata": {},
   "outputs": [
    {
     "data": {
      "text/plain": [
       "'n1 is gretest9'"
      ]
     },
     "execution_count": 43,
     "metadata": {},
     "output_type": "execute_result"
    }
   ],
   "source": [
    "#Function to identify greatedt  of foour numbers\n",
    "\n",
    "def greatest(n1,n2,n3,n4):\n",
    "    if n1>n2 and n1>n3 and n1>n4:\n",
    "        return (\"n1 is gretest\"+str(n1))\n",
    "    elif n2>n3 and n2>n4:\n",
    "        return (\"n2 is greater\"+str(n2))\n",
    "    elif n3>n4:\n",
    "        return (\"n3 is greater\"+str(n3))\n",
    "        \n",
    "    else:\n",
    "        return (\"n4 is greater\"+str(n4))\n",
    "        \n",
    "greatest(9,4,5,6)\n",
    "\n"
   ]
  },
  {
   "cell_type": "code",
   "execution_count": null,
   "metadata": {},
   "outputs": [],
   "source": [
    "#count the nubmer of words in a string"
   ]
  },
  {
   "cell_type": "markdown",
   "metadata": {},
   "source": [
    "# Iteration\n",
    "- for \n",
    "- while\n",
    "\n",
    "\n",
    "### For loop in Python\n",
    "\n",
    "\n",
    "[101,210]\n",
    "\n",
    "\n",
    "for i in range (101,210+1):\n",
    "        print (i)\n",
    "        \n",
    "o/p :-\n",
    "\n"
   ]
  },
  {
   "cell_type": "code",
   "execution_count": 49,
   "metadata": {},
   "outputs": [
    {
     "name": "stdout",
     "output_type": "stream",
     "text": [
      "1 2 3 4 5 6 7 8 9 10 11 12 13 14 15 16 17 18 19 20 21 22 23 24 25 26 27 28 29 30 \n",
      "1 2 3 4 5 6 7 8 9 10 \n"
     ]
    }
   ],
   "source": [
    "#Function to print n numbers\n",
    "\n",
    "def printNNaturalNumbers(n):\n",
    "    for counter in range(1,n+1):\n",
    "        print (counter, end=\" \")\n",
    "    print ()\n",
    "    return\n",
    "\n",
    "printNNaturalNumbers(30) #calling the function not require the print if we use print it is wrong.\n",
    "printNNaturalNumbers(10)\n",
    "\n",
    "#print is printing on the screen directly\n",
    "#in return we are return that vaules to console if we are not return a list you send black"
   ]
  },
  {
   "cell_type": "code",
   "execution_count": 37,
   "metadata": {},
   "outputs": [
    {
     "name": "stdout",
     "output_type": "stream",
     "text": [
      "500 502 504 506 508 510 512 514 516 518 520 522 524 "
     ]
    }
   ],
   "source": [
    "# Define to print the alternate values in a range\n",
    "# [500,550] in mathamatical inclusive of 500 and  550  means boundries are inclusive set ->500 502 504 ......550\n",
    "# (500,550) in mathametical exclusive of 500 and 550 that means boundires are (lb,ub) exclusive ->501 503 505 ......549\n",
    "#(500,550) in python\n",
    "\n",
    "\n",
    "\n",
    "def Alternate(start,end):   #dont pass numbers for any arguments numbers passed when you callled function\n",
    "    for i in range (start,end+1,2): # Default increment in for loop is 1\n",
    "        print(i , end = \" \") \n",
    "    return\n",
    "Alternate(500,525)"
   ]
  },
  {
   "cell_type": "code",
   "execution_count": 43,
   "metadata": {},
   "outputs": [
    {
     "name": "stdout",
     "output_type": "stream",
     "text": [
      "10 9 8 7 6 5 4 3 2 1 "
     ]
    }
   ],
   "source": [
    "# Function to print reverse of given  range in the same line\n",
    "\n",
    "def reverseRange (start,end):\n",
    "    for vaule in range (end, start-1,-1):\n",
    "        print (vaule, end = \" \")\n",
    "    return \n",
    "reverseRange(1,10)\n"
   ]
  },
  {
   "cell_type": "code",
   "execution_count": 52,
   "metadata": {},
   "outputs": [
    {
     "name": "stdout",
     "output_type": "stream",
     "text": [
      "129 127 125 123 "
     ]
    }
   ],
   "source": [
    "# Function to print the odd numbers in reverse order\n",
    "\n",
    "def reverseRangeodd (start,end):\n",
    "    for i in range (end, start-1,-1):\n",
    "        if i % 2 == 1:\n",
    "            print (i, end = \" \")\n",
    "    return \n",
    "reverseRangeodd(123,130)\n"
   ]
  },
  {
   "cell_type": "code",
   "execution_count": 56,
   "metadata": {},
   "outputs": [
    {
     "name": "stdout",
     "output_type": "stream",
     "text": [
      "55 "
     ]
    }
   ],
   "source": [
    "#Function to calulate sum of numbers in a given loop\n",
    "\n",
    "def averaged(start,end):\n",
    "    sum =0\n",
    "    for i in range (end, start-1,-1):\n",
    "        sum=sum+i\n",
    "    print (sum, end = \" \")\n",
    "    return \n",
    "averaged(1,10)\n",
    "\n"
   ]
  },
  {
   "cell_type": "code",
   "execution_count": 62,
   "metadata": {},
   "outputs": [
    {
     "name": "stdout",
     "output_type": "stream",
     "text": [
      "False\n",
      "True\n"
     ]
    },
    {
     "data": {
      "text/plain": [
       "15150"
      ]
     },
     "execution_count": 62,
     "metadata": {},
     "output_type": "execute_result"
    }
   ],
   "source": [
    "#Function to calulate sum of numbers in a given loop\n",
    "\n",
    "def averagei (start,end):\n",
    "    sum =0\n",
    "    for i in range (start,end+1):    #if any program ask calculate then just calculate return value \n",
    "        sum=sum+i\n",
    "    return sum\n",
    "print(averagei(100,200)==21210)\n",
    "print(averagei(100,200)==15150)\n",
    "\n",
    "averagei(100,200)\n"
   ]
  },
  {
   "cell_type": "code",
   "execution_count": 71,
   "metadata": {},
   "outputs": [
    {
     "name": "stdout",
     "output_type": "stream",
     "text": [
      "False\n",
      "False\n"
     ]
    },
    {
     "data": {
      "text/plain": [
       "100.5"
      ]
     },
     "execution_count": 71,
     "metadata": {},
     "output_type": "execute_result"
    }
   ],
   "source": [
    "#Function to calulate half of numbers in a given loop\n",
    "\n",
    "def averagei (start,end):\n",
    "    sum =0\n",
    "    for i in range (start,end+1):    #if any program ask calculate then just calculate return value \n",
    "        sum=sum+i\n",
    "    return sum/2\n",
    "print(averagei(100,200)==21210)\n",
    "print(averagei(100,200)==15150)\n",
    "\n",
    "averagei(100,101)\n"
   ]
  },
  {
   "cell_type": "code",
   "execution_count": 10,
   "metadata": {},
   "outputs": [
    {
     "name": "stdout",
     "output_type": "stream",
     "text": [
      "3000.75\n",
      "3000.0\n"
     ]
    }
   ],
   "source": [
    "# Function to calculate the numberof numbers in a range amnd avergae\n",
    "\n",
    "def averagei (start,end):\n",
    "    sum =0\n",
    "    #count=0\n",
    "    for i in range (start,end+1):    #if any program ask calculate then just calculate return value \n",
    "        sum=sum+i\n",
    "        #count=count+1\n",
    "    print (sum/(end-start))  #if it is inclusive range up,lp+1,if it is exclusive range up+lower\n",
    "    print (sum/(end-start+1))\n",
    "averagei(1000,5000)\n",
    "\n",
    "###remember you use print but you use always return up to their ask has print  .but here i want see that's why i printted \n",
    "##other wise it i return only because console prints the last staement so i printed"
   ]
  },
  {
   "cell_type": "code",
   "execution_count": 7,
   "metadata": {},
   "outputs": [
    {
     "data": {
      "text/plain": [
       "3000.0"
      ]
     },
     "execution_count": 7,
     "metadata": {},
     "output_type": "execute_result"
    }
   ],
   "source": [
    "# Function to calculate the numberof numbers in a range amnd avergae\n",
    "\n",
    "def averagei (start,end):\n",
    "    sum =0\n",
    "    count=0\n",
    "    for i in range (start,end+1):    #if any program ask calculate then just calculate return value \n",
    "        sum=sum+i\n",
    "        count=count+1\n",
    "    return sum/(count)\n",
    "averagei(1000,5000)\n"
   ]
  },
  {
   "cell_type": "code",
   "execution_count": 28,
   "metadata": {},
   "outputs": [
    {
     "data": {
      "text/plain": [
       "True"
      ]
     },
     "execution_count": 28,
     "metadata": {},
     "output_type": "execute_result"
    }
   ],
   "source": [
    "#Function to bulit leap year\n",
    "\n",
    "def isleapyear(year):\n",
    "    if year%400 ==0 or (year%100 !=0 and year%4==0):\n",
    "        return True\n",
    "    else:\n",
    "        return False\n",
    "    \n",
    "isleapyear(2016)"
   ]
  },
  {
   "cell_type": "code",
   "execution_count": 2,
   "metadata": {},
   "outputs": [
    {
     "name": "stdout",
     "output_type": "stream",
     "text": [
      "enter start period1919\n",
      "enter end period2019\n",
      "1920 1924 1928 1932 1936 1940 1944 1948 1952 1956 1960 1964 1968 1972 1976 1980 1984 1988 1992 1996 2000 2004 2008 2012 2016 "
     ]
    }
   ],
   "source": [
    "#Function to generate all years in a given time period \n",
    "#2000 - 2020 -> 2000 20004 2008 20012 2016 2020\n",
    "\n",
    "#isleapyear(year) # To check if a given year is a Leap Year\n",
    "\n",
    "#generateLeapYears(startyear,endYear)#uses the is leap year\n",
    "\n",
    "def Nleapyears(start,end):\n",
    "    for year in range(start,end+1):\n",
    "        \n",
    "         if year%400 ==0 or (year%100 !=0 and year%4==0):\n",
    "                print (year,end = \" \")\n",
    "\n",
    "start = int (input(\"enter start period\"))\n",
    "end = int (input (\"enter end period\"))\n",
    "    \n",
    "    \n",
    "Nleapyears(start,end)"
   ]
  },
  {
   "cell_type": "code",
   "execution_count": 8,
   "metadata": {},
   "outputs": [
    {
     "name": "stdout",
     "output_type": "stream",
     "text": [
      "1920 1924 1928 1932 1936 1940 1944 1948 1952 1956 1960 1964 1968 1972 1976 1980 1984 1988 1992 1996 2000 2004 2008 2012 2016 "
     ]
    }
   ],
   "source": [
    "#Function to generate all years in a given time period \n",
    "#2000 - 2020 -> 2000 20004 2008 20012 2016 2020\n",
    "\n",
    "#isleapyear(year) # To check if a given year is a Leap Year\n",
    "\n",
    "#generateLeapYears(startyear,endYear)#uses the is leap year\n",
    "\n",
    "def isLeapYear(year):\n",
    "     if year%400 ==0 or (year%100 !=0 and year%4==0):\n",
    "        return True\n",
    "     return False\n",
    "    \n",
    "    \n",
    "def generateLeapYear(start,end):\n",
    "    for year in range (start,end+1):\n",
    "        if isLeapYear(year):\n",
    "            print (year,end = \" \")\n",
    "\n",
    "generateLeapYear(1919,2019)"
   ]
  },
  {
   "cell_type": "code",
   "execution_count": 21,
   "metadata": {},
   "outputs": [
    {
     "name": "stdout",
     "output_type": "stream",
     "text": [
      "enter start period2014\n",
      "enter end period2016\n",
      "no of none leapyear 1\n",
      "no of none leapyear 2\n",
      "no of leapyears 1\n",
      "1096\n"
     ]
    }
   ],
   "source": [
    "#calculate the number of days in a given time period using leap years\n",
    "#For every year in the given timeperiod , if the year is number\n",
    "\n",
    "def numberofdays(start,end):\n",
    "    count=0\n",
    "    count1=0\n",
    "    for year in range (start,end+1):\n",
    "        if isLeapYear(year):\n",
    "            count=count+1\n",
    "            print(\"no of leapyears\",count)\n",
    "        else:\n",
    "            count1 = count1+1\n",
    "    \n",
    "            print(\"no of none leapyear\",count1)\n",
    "    print (count*366+count1*365)\n",
    "\n",
    "\n",
    "start=int(input(\"enter start period\"))\n",
    "end=int(input(\"enter end period\"))\n",
    "\n",
    "\n",
    "numberofdays(start,end)\n",
    "            \n",
    "\n"
   ]
  },
  {
   "cell_type": "code",
   "execution_count": 100,
   "metadata": {},
   "outputs": [
    {
     "name": "stdout",
     "output_type": "stream",
     "text": [
      "enter start period2017\n",
      "enter end period2019\n"
     ]
    },
    {
     "data": {
      "text/plain": [
       "1095"
      ]
     },
     "execution_count": 100,
     "metadata": {},
     "output_type": "execute_result"
    }
   ],
   "source": [
    "#calculate the number of days in a given time period using leap years\n",
    "#For every year in the given timeperiod , if the year is number\n",
    "\n",
    "def numberofdays(start,end):\n",
    "    sum=0\n",
    "\n",
    "    for year in range (start,end+1):\n",
    "        if isLeapYear(year):\n",
    "            sum=sum+366\n",
    "        else:\n",
    "            sum = sum+365\n",
    "    return sum\n",
    "start=int(input(\"enter start period\"))\n",
    "end=int(input(\"enter end period\"))\n",
    "\n",
    "\n",
    "numberofdays(start,end)\n",
    "            \n"
   ]
  },
  {
   "cell_type": "code",
   "execution_count": 111,
   "metadata": {},
   "outputs": [
    {
     "data": {
      "text/plain": [
       "1477152"
      ]
     },
     "execution_count": 111,
     "metadata": {},
     "output_type": "execute_result"
    }
   ],
   "source": [
    "#Function to calculate number of hours in a given number\n",
    "#number of Hours(11,1975,3,1999)\n",
    "#number of Hours (5,2019,6,2019)\n",
    "# 2, 2017 , 6 , 2019\n",
    "#[  #all days from feb 2016 to dec 2016, \n",
    "    #all days for years between start and end\n",
    "    #all days from Jan to June 2019]\n",
    "#No of hours = 24* no of days\n",
    "#3 steps\n",
    "    #1.start month year  to end of year \n",
    "    #2.calculate no of 2017,2018 - 365 *no of years\n",
    "    #3.calculate days from Jan to end month year\n",
    "\n",
    "#Excluding Feb\n",
    "# First  Six months -1,3,4,5,6,7\n",
    "                    #All odd months have 31 days\n",
    "                    #All even months have 30 days\n",
    "#Last Six months -8,9,10,11,12\n",
    "                    #All even months have 30 days\n",
    "                    #All odd nonths have 31 days\n",
    "#31 days - (months <=7 and month % 2!=0 and month !=2)\n",
    "       # return 31\n",
    "   # else\n",
    "   # return 30\n",
    "\n",
    "def numberofDaysMonth(month):\n",
    "    if (month <= 7 and month % 2 !=0):\n",
    "        return 31\n",
    "    else:\n",
    "        return 30\n",
    "numberofDaysMonth(3)\n",
    "\n",
    "def numberofDaysMonths(month,year):\n",
    "    if month == 2:\n",
    "        if isLeapYear(year):\n",
    "            return 29\n",
    "        else:\n",
    "            return 28\n",
    "    elif (month <= 7 and month % 2 !=0) or (month >=8 and month % 2 == 0):\n",
    "            return 31\n",
    "    else:\n",
    "        return 30\n",
    "    \n",
    "def numberofDaysinstartyear(startmonth,startyear):\n",
    "    days = 0\n",
    "    for month in range (startmonth,13):\n",
    "        days = days + numberofDaysMonths(month)\n",
    "            \n",
    "    return days\n",
    "\n",
    "def numberofdaysinendyear(endmonth,endyear):\n",
    "    days = 0\n",
    "    for month in range(1,endmonth+1):\n",
    "        days = days + numberofDaysMonths(month,endyear)\n",
    "    return days\n",
    "def numberofdaysinmiddleyear(startyear,endyear):\n",
    "    sum=0\n",
    "\n",
    "    for year in range (startyear+1,endyear):\n",
    "        if isLeapYear(year):\n",
    "            sum=sum+366\n",
    "        else:\n",
    "            sum = sum+365\n",
    "    return sum\n",
    "\n",
    "def numberofhoursinrange(startyear, startmonth, endyear, endmonth):\n",
    "    days=0\n",
    "    if startyear != endyear:\n",
    "        days += numberofDaysinstartyear(startmonth, startyear)\n",
    "        days += numberofdaysinendyear(endmonth, endyear)\n",
    "        if endyear - startyear == 2: # 2019 - 2017\n",
    "            days += numberofdaysinmiddleyear(startyear+1, startyear+1)\n",
    "        elif endyear - startyear > 2:\n",
    "            days += numberofDaysMonths(startyear+1, endyear-1)\n",
    "    else:\n",
    "        for month in range(startmonth, endmonth+1):\n",
    "            days += numberofDaysMonths(month, startyear)\n",
    "    return 24 * days\n",
    "\n",
    "numberofhoursinrange(6,2018,7,2018)"
   ]
  },
  {
   "cell_type": "code",
   "execution_count": 72,
   "metadata": {},
   "outputs": [
    {
     "data": {
      "text/plain": [
       "30"
      ]
     },
     "execution_count": 72,
     "metadata": {},
     "output_type": "execute_result"
    }
   ],
   "source": [
    "def numberofDaysMonths(month):\n",
    "    if month == 2:\n",
    "        if isLeapYear(year):\n",
    "            return 29\n",
    "        else:\n",
    "            return 28\n",
    "    elif (month <= 7 and month % 2 !=0) and (month >=8 and month % 2 == 0):\n",
    "            return 31\n",
    "    else:\n",
    "        return 30\n",
    "numberofDaysMonths(3)\n",
    "\n"
   ]
  },
  {
   "cell_type": "code",
   "execution_count": 24,
   "metadata": {},
   "outputs": [
    {
     "name": "stdout",
     "output_type": "stream",
     "text": [
      "enter start period2014\n",
      "enter end period2019\n"
     ]
    },
    {
     "data": {
      "text/plain": [
       "52584"
      ]
     },
     "execution_count": 24,
     "metadata": {},
     "output_type": "execute_result"
    }
   ],
   "source": [
    "#Fuction to calculate number of hours in given range of year\n",
    "\n",
    "def numberofhours(start,end):\n",
    "\n",
    "    sum=0\n",
    "    for year in range (start,end+1):\n",
    "        if isLeapYear(year):\n",
    "            sum=sum+(366*24)\n",
    "        else:\n",
    "            sum = sum+(365*24)\n",
    "    return sum\n",
    "start=int(input(\"enter start period\"))\n",
    "end=int(input(\"enter end period\"))\n",
    "\n",
    "numberofhours(start,end)"
   ]
  },
  {
   "cell_type": "code",
   "execution_count": null,
   "metadata": {},
   "outputs": [],
   "source": [
    "#Function to calculate number of hours in a given range\n",
    "# ex: 11-june-2019 to 20-june-2020"
   ]
  },
  {
   "cell_type": "code",
   "execution_count": 16,
   "metadata": {},
   "outputs": [
    {
     "data": {
      "text/plain": [
       "1096"
      ]
     },
     "execution_count": 16,
     "metadata": {},
     "output_type": "execute_result"
    }
   ],
   "source": [
    "365+365+366"
   ]
  },
  {
   "cell_type": "code",
   "execution_count": 52,
   "metadata": {},
   "outputs": [
    {
     "name": "stdout",
     "output_type": "stream",
     "text": [
      "0 1 2 3 4 5 6 7 8 9 "
     ]
    }
   ],
   "source": [
    "#function to print n natural numbers\n",
    "\n",
    "def natural_number(n):\n",
    "    i=0\n",
    "    while i<=n:\n",
    "        print(i,end=\" \")\n",
    "        i=i+1\n",
    "    return\n",
    "\n",
    "natural_number(9)"
   ]
  },
  {
   "cell_type": "code",
   "execution_count": 11,
   "metadata": {},
   "outputs": [
    {
     "name": "stdout",
     "output_type": "stream",
     "text": [
      "enter lower bound6\n",
      "enter upper bound100\n",
      "6 12 18 24 30 36 42 48 54 60 66 72 78 84 90 96 "
     ]
    }
   ],
   "source": [
    "#Function to print all numbers divisible by 6\n",
    "#and not a factor of 100 in a given range(lb, ub) ub inclusive\n",
    "\n",
    "\n",
    "def fuction1(lb,ub):\n",
    "    \n",
    "    for i in range(lb,ub+1):\n",
    "        if i % 6 == 0 and i % 100 !=0:\n",
    "            print (i,end =\" \")\n",
    "        \n",
    "          \n",
    "lb = int(input (\"enter lower bound\"))\n",
    "ub = int(input (\"enter upper bound\"))\n",
    "\n",
    "fuction1(lb,ub)"
   ]
  },
  {
   "cell_type": "code",
   "execution_count": 19,
   "metadata": {},
   "outputs": [
    {
     "name": "stdout",
     "output_type": "stream",
     "text": [
      "enter lower bound4\n",
      "enter upper bound20\n",
      "numbers are 4\n",
      "numbers are 6\n",
      "numbers are 8\n",
      "numbers are 10\n",
      "numbers are 12\n",
      "numbers are 14\n",
      "numbers are 16\n",
      "numbers are 18\n",
      "numbers are 20\n",
      "aver is 24192\n"
     ]
    }
   ],
   "source": [
    "#Function to find average of cubes of all even numbers in a given range (lb,ub) inclusive\n",
    "\n",
    "def fuction1(lb,ub):\n",
    "    aver=0;\n",
    "    for i in range(lb,ub+1):\n",
    "        if i % 2 == 0 :\n",
    "            aver=aver+i**3;\n",
    "            print (\"numbers are\",i)\n",
    "    print (\"aver is\",aver)\n",
    "        \n",
    "lb = int(input (\"enter lower bound\"))\n",
    "ub = int(input (\"enter upper bound\"))\n",
    "\n",
    "fuction1(lb,ub)\n"
   ]
  },
  {
   "cell_type": "code",
   "execution_count": 41,
   "metadata": {},
   "outputs": [
    {
     "name": "stdout",
     "output_type": "stream",
     "text": [
      "enter number for factorial4\n",
      "factorial is 24\n"
     ]
    }
   ],
   "source": [
    "#Function to calculate the factorial of given number\n",
    "\n",
    "def factorial(n):\n",
    "    fact = 1;\n",
    "\n",
    "    for i in range (1,n+1):\n",
    "        fact=fact*i;\n",
    "    print (\"factorial is\",fact)\n",
    "    \n",
    "n=int(input(\"enter number for factorial\"))\n",
    "    \n",
    "factorial(n)\n",
    "       "
   ]
  },
  {
   "cell_type": "code",
   "execution_count": 21,
   "metadata": {},
   "outputs": [
    {
     "name": "stdout",
     "output_type": "stream",
     "text": [
      "1\n",
      "2\n",
      "3\n",
      "4\n"
     ]
    }
   ],
   "source": [
    "for i in range(1,5):\n",
    "    print(i)"
   ]
  },
  {
   "cell_type": "code",
   "execution_count": 46,
   "metadata": {},
   "outputs": [
    {
     "name": "stdout",
     "output_type": "stream",
     "text": [
      "enter number for factorial5\n",
      "1 2 3 4 5 factorial is 120\n"
     ]
    }
   ],
   "source": [
    "#Function to generate the list of factorial of given number\n",
    "#12->1 2 3 4 6 12\n",
    "\n",
    "def factorial(n):\n",
    "    fact = 1;\n",
    "\n",
    "    for i in range (1,n+1):\n",
    "        fact=fact*i;\n",
    "        print (i,end = \" \")\n",
    "    print (\"factorial is\",fact)\n",
    "    \n",
    "n=int(input(\"enter number for factorial\"))\n",
    "    \n",
    "factorial(n)\n",
    "\n",
    "\n"
   ]
  },
  {
   "cell_type": "code",
   "execution_count": 9,
   "metadata": {},
   "outputs": [
    {
     "name": "stdout",
     "output_type": "stream",
     "text": [
      "enter number to check prime12\n"
     ]
    },
    {
     "data": {
      "text/plain": [
       "'not prime'"
      ]
     },
     "execution_count": 9,
     "metadata": {},
     "output_type": "execute_result"
    }
   ],
   "source": [
    "#function to check prime or not\n",
    "\n",
    "def isPrime(n):\n",
    "    count=0\n",
    "    for i in range (1,n+1):\n",
    "        if n % i == 0:\n",
    "            count +=1\n",
    "    if count == 2:\n",
    "         return\"Prime\"\n",
    "    else:\n",
    "        return\"not prime\"\n",
    "n = int (input (\"enter number to check prime\"))\n",
    "isPrime(n)"
   ]
  },
  {
   "cell_type": "code",
   "execution_count": 41,
   "metadata": {},
   "outputs": [
    {
     "name": "stdout",
     "output_type": "stream",
     "text": [
      "enter lower bound of a range7\n",
      "enter upper bound to range11\n",
      "18\n"
     ]
    }
   ],
   "source": [
    "#Function to calculate the average first N prime number\n",
    "\n",
    "def averageNprime(lb,ub):\n",
    "    sum=0\n",
    "    for i in range (lb,ub+1):\n",
    "        count=0\n",
    "\n",
    "        for j in range(1,i+1):\n",
    "            if i % j == 0:\n",
    "                count +=1\n",
    "        if count == 2:\n",
    "            sum = sum + i;\n",
    "    print(sum)\n",
    "    \n",
    "    \n",
    "    \n",
    "lb = int (input (\"enter lower bound of a range\"))\n",
    "ub = int (input (\"enter upper bound to range\"))\n",
    "averageNprime(lb,ub)\n"
   ]
  },
  {
   "cell_type": "code",
   "execution_count": 6,
   "metadata": {},
   "outputs": [
    {
     "name": "stdout",
     "output_type": "stream",
     "text": [
      "enter lower bound of a range1\n",
      "enter upper bound to range10\n",
      "4.25\n"
     ]
    }
   ],
   "source": [
    "#Function to calculate the average first N prime number\n",
    "\n",
    "def averageNprime(lb,ub):\n",
    "    sum=0\n",
    "    avg=0\n",
    "    for i in range (lb,ub+1):\n",
    "        count=0\n",
    "\n",
    "        for j in range(1,i+1):\n",
    "            if i % j == 0:\n",
    "                count +=1\n",
    "        if count == 2:\n",
    "            sum = sum + i\n",
    "            avg = avg + 1\n",
    "    print(sum/avg)\n",
    "    \n",
    "    \n",
    "    \n",
    "lb = int (input (\"enter lower bound of a range\"))\n",
    "ub = int (input (\"enter upper bound to range\"))\n",
    "averageNprime(lb,ub)\n",
    "\n",
    "\n",
    "\n",
    "\n",
    "\n",
    "\n",
    "\n",
    "\n",
    "#Function to generate a;; perfect number in a given range"
   ]
  },
  {
   "cell_type": "code",
   "execution_count": 5,
   "metadata": {},
   "outputs": [
    {
     "data": {
      "text/plain": [
       "4.25"
      ]
     },
     "execution_count": 5,
     "metadata": {},
     "output_type": "execute_result"
    }
   ],
   "source": [
    "(2+3+5+7)/4\n"
   ]
  },
  {
   "cell_type": "code",
   "execution_count": 9,
   "metadata": {},
   "outputs": [
    {
     "name": "stdout",
     "output_type": "stream",
     "text": [
      "perfect\n"
     ]
    }
   ],
   "source": [
    "\n",
    "#Function to check perfect numbers or not\n",
    "\n",
    "def perfectnumber(n):\n",
    "    sum=0\n",
    "    for i in range (1,n):\n",
    "        if n % i == 0:\n",
    "            sum=sum+i\n",
    "    if sum == n:\n",
    "         print (\"perfect\")\n",
    "    else:\n",
    "        print (\"not perfect\")\n",
    "\n",
    "perfectnumber(28)\n",
    "            \n"
   ]
  },
  {
   "cell_type": "code",
   "execution_count": 67,
   "metadata": {
    "scrolled": true
   },
   "outputs": [
    {
     "name": "stdout",
     "output_type": "stream",
     "text": [
      "1\n",
      "2\n",
      "3\n",
      "4\n",
      "5\n",
      "6\n",
      "7\n",
      "1\n",
      "6.0\n"
     ]
    }
   ],
   "source": [
    "#Function to generate the aver perfect numbers in a given range\n",
    "\n",
    "def perfectnumber(n):\n",
    "    sum = 0\n",
    "    for i in range (1,n):\n",
    "        if n % i == 0:\n",
    "            sum=sum+i\n",
    "    if sum == n:\n",
    "         return sum\n",
    "\n",
    "def avgNperfectnumber(lb,ub):\n",
    "    count = 0\n",
    "    avg = 0\n",
    "    for n in range (lb,ub+1):\n",
    "        if perfectnumber(n):\n",
    "            count = count + 1\n",
    "            avg = avg + n\n",
    "        print (n)\n",
    "    print (count)\n",
    "    print (avg/count)\n",
    "    \n",
    "avgNperfectnumber(1,7)\n",
    "           "
   ]
  },
  {
   "cell_type": "code",
   "execution_count": 63,
   "metadata": {},
   "outputs": [
    {
     "data": {
      "text/plain": [
       "False"
      ]
     },
     "execution_count": 63,
     "metadata": {},
     "output_type": "execute_result"
    }
   ],
   "source": [
    "def perfectnumber(n):\n",
    "    sum = 0\n",
    "    for i in range (1,n):\n",
    "        if n % i == 0:\n",
    "            sum=sum+i\n",
    "    if sum == n:\n",
    "         return sum\n",
    "    else:\n",
    "        return False\n",
    "\n",
    "perfectnumber(12)\n"
   ]
  },
  {
   "cell_type": "code",
   "execution_count": 66,
   "metadata": {},
   "outputs": [
    {
     "name": "stdout",
     "output_type": "stream",
     "text": [
      "False\n",
      "False\n",
      "False\n",
      "False\n",
      "False\n",
      "6\n",
      "False\n",
      "6\n"
     ]
    }
   ],
   "source": [
    "def perfectnumber(n):\n",
    "    sum = 0\n",
    "    for i in range (1,n):\n",
    "        if n % i == 0:\n",
    "            sum=sum+i\n",
    "    if sum == n:\n",
    "         return sum\n",
    "    else:\n",
    "        return False\n",
    "\n",
    "def avgNperfectnumber(lb,ub):\n",
    "    count = 0\n",
    "    avg = 0\n",
    "    for i in range (lb,ub+1):\n",
    "            avg = avg + perfectnumber(i)\n",
    "            print (perfectnumber(i))\n",
    "\n",
    "    print (avg)\n",
    "    \n",
    "avgNperfectnumber(1,7)"
   ]
  },
  {
   "cell_type": "code",
   "execution_count": 31,
   "metadata": {},
   "outputs": [
    {
     "name": "stdout",
     "output_type": "stream",
     "text": [
      "factorial of  3 is 6\n"
     ]
    }
   ],
   "source": [
    "#Fuction to check factorial are not\n",
    "\n",
    "def factorial (n):\n",
    "    fact = 1\n",
    "    for i in range (1,n+1):\n",
    "        fact = fact * i\n",
    "    print (\"factorial of \",n,\"is\",fact)\n",
    "\n",
    "factorial (3)\n",
    "        "
   ]
  },
  {
   "cell_type": "code",
   "execution_count": 46,
   "metadata": {},
   "outputs": [
    {
     "name": "stdout",
     "output_type": "stream",
     "text": [
      "1\n",
      "2\n",
      "6\n",
      "24\n",
      "8.25\n"
     ]
    }
   ],
   "source": [
    "#Fuction to avarage of factorial in agiven range\n",
    "\n",
    "def factorial (n):\n",
    "    fact = 1\n",
    "    for i in range (1,n+1):\n",
    "        fact = fact * i\n",
    "    return fact\n",
    "\n",
    "def avgNfactorial(lb,ub):\n",
    "    sum = 0\n",
    "    count = 0\n",
    "    for i in range(lb,ub+1):\n",
    "        sum = sum + factorial(i)\n",
    "        count = count + 1\n",
    "        print (factorial(i))\n",
    "    print (sum/count)\n",
    "\n",
    "avgNfactorial(1,4)\n"
   ]
  },
  {
   "cell_type": "code",
   "execution_count": 47,
   "metadata": {},
   "outputs": [
    {
     "data": {
      "text/plain": [
       "8.25"
      ]
     },
     "execution_count": 47,
     "metadata": {},
     "output_type": "execute_result"
    }
   ],
   "source": [
    "(1+2+6+24)/4"
   ]
  },
  {
   "cell_type": "code",
   "execution_count": 42,
   "metadata": {},
   "outputs": [
    {
     "data": {
      "text/plain": [
       "3.0"
      ]
     },
     "execution_count": 42,
     "metadata": {},
     "output_type": "execute_result"
    }
   ],
   "source": [
    "(1+2+6)/3"
   ]
  },
  {
   "cell_type": "code",
   "execution_count": null,
   "metadata": {},
   "outputs": [],
   "source": []
  }
 ],
 "metadata": {
  "kernelspec": {
   "display_name": "Python 3",
   "language": "python",
   "name": "python3"
  },
  "language_info": {
   "codemirror_mode": {
    "name": "ipython",
    "version": 3
   },
   "file_extension": ".py",
   "mimetype": "text/x-python",
   "name": "python",
   "nbconvert_exporter": "python",
   "pygments_lexer": "ipython3",
   "version": "3.7.3"
  }
 },
 "nbformat": 4,
 "nbformat_minor": 2
}
