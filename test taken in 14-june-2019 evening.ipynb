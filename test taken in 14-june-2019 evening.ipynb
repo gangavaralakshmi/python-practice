{
 "cells": [
  {
   "cell_type": "code",
   "execution_count": null,
   "metadata": {},
   "outputs": [],
   "source": [
    "# Probelm 1 answer\n",
    "\n",
    "N = int(input())\n",
    "sum = 0\n",
    "\n",
    "for i in range (1,N+1):\n",
    "    sum = sum + i ** 2\n",
    "print (sum)"
   ]
  },
  {
   "cell_type": "code",
   "execution_count": 4,
   "metadata": {},
   "outputs": [
    {
     "name": "stdout",
     "output_type": "stream",
     "text": [
      "3\n"
     ]
    },
    {
     "data": {
      "text/plain": [
       "14"
      ]
     },
     "execution_count": 4,
     "metadata": {},
     "output_type": "execute_result"
    }
   ],
   "source": [
    "# Probelm 1 answer\n",
    "\n",
    "N = int(input())\n",
    "def SumSqure(N):\n",
    "    sum = 0\n",
    "    for i in range (1,N+1):\n",
    "        sum = sum + i ** 2\n",
    "    return sum\n",
    "\n",
    "SumSqure(N)"
   ]
  },
  {
   "cell_type": "code",
   "execution_count": 4,
   "metadata": {},
   "outputs": [
    {
     "ename": "SyntaxError",
     "evalue": "invalid syntax (<ipython-input-4-385907f8e2ff>, line 31)",
     "output_type": "error",
     "traceback": [
      "\u001b[1;36m  File \u001b[1;32m\"<ipython-input-4-385907f8e2ff>\"\u001b[1;36m, line \u001b[1;32m31\u001b[0m\n\u001b[1;33m    if pc = 0:\u001b[0m\n\u001b[1;37m          ^\u001b[0m\n\u001b[1;31mSyntaxError\u001b[0m\u001b[1;31m:\u001b[0m invalid syntax\n"
     ]
    }
   ],
   "source": [
    "# Probelm 2 answer\n",
    "n= int (input ())\n",
    "\n",
    "s = s.split()\n",
    "\n",
    "#12345\n",
    "li =[]\n",
    "\n",
    "#for i in s:\n",
    "    #li.append(abs(int(i)))\n",
    "#min (li)\n",
    "\n",
    "def closestZero(li):\n",
    "    #Separate all numbers less tha  Zero\n",
    "    #all numbers  greater = Zero, get the all numbers\n",
    "    #-1 2 5 -10 -20\n",
    "    #-1 -10 -20 -> -1\n",
    "    #2 5 -> 2\n",
    "    #-2 1 -> 2\n",
    "    #-1 2 -> count from 0 to -1 2 \n",
    "    n1 = []\n",
    "    for i in li:\n",
    "        if i < 0:\n",
    "            n1.append(i)\n",
    "    p1 = []\n",
    "    for i in li:\n",
    "        if i >= 0:\n",
    "            p1.append(i)\n",
    "    nc = max(n1)\n",
    "    pc = min(p1)\n",
    "    if pc = 0:\n",
    "        return 0\n",
    "    if nc == pc:\n",
    "        return pc \n",
    "    elif abs(nc) < pc:\n",
    "        return abs (nc)\n",
    "    else:\n",
    "        return pc\n",
    "    \n",
    "closestZero(li)"
   ]
  },
  {
   "cell_type": "code",
   "execution_count": null,
   "metadata": {},
   "outputs": [],
   "source": [
    "n = int (input())\n",
    "s =input()\n",
    "s= s.spilt()\n",
    "li = []\n",
    "for i in s:\n",
    "    li.append(int(i))\n",
    "for i in range (0,max(li)):\n",
    "    if 0 in li:\n",
    "        return 0\n",
    "    else:\n",
    "        li.sort()\n",
    "        pc = []\n",
    "        nc = []\n",
    "        for i in li:\n",
    "            if i > 0\n",
    "            pc.append(i)\n",
    "        for i in li:\n",
    "            if i < 0:\n",
    "                nc.append(i)\n",
    "        if len(nc) == 0\n",
    "            return min(pc)\n",
    "        elif "
   ]
  },
  {
   "cell_type": "code",
   "execution_count": null,
   "metadata": {},
   "outputs": [],
   "source": []
  },
  {
   "cell_type": "code",
   "execution_count": null,
   "metadata": {},
   "outputs": [],
   "source": []
  }
 ],
 "metadata": {
  "kernelspec": {
   "display_name": "Python 3",
   "language": "python",
   "name": "python3"
  },
  "language_info": {
   "codemirror_mode": {
    "name": "ipython",
    "version": 3
   },
   "file_extension": ".py",
   "mimetype": "text/x-python",
   "name": "python",
   "nbconvert_exporter": "python",
   "pygments_lexer": "ipython3",
   "version": "3.7.3"
  }
 },
 "nbformat": 4,
 "nbformat_minor": 2
}
