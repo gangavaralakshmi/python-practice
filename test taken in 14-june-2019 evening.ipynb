{
 "cells": [
  {
   "cell_type": "code",
   "execution_count": null,
   "metadata": {},
   "outputs": [],
   "source": [
    "# Probelm 1 answer\n",
    "\n",
    "N = int(input())\n",
    "sum = 0\n",
    "\n",
    "for i in range (1,N+1):\n",
    "    sum = sum + i ** 2\n",
    "print (sum)"
   ]
  },
  {
   "cell_type": "code",
   "execution_count": 4,
   "metadata": {},
   "outputs": [
    {
     "name": "stdout",
     "output_type": "stream",
     "text": [
      "3\n"
     ]
    },
    {
     "data": {
      "text/plain": [
       "14"
      ]
     },
     "execution_count": 4,
     "metadata": {},
     "output_type": "execute_result"
    }
   ],
   "source": [
    "# Probelm 1 answer\n",
    "\n",
    "N = int(input())\n",
    "def SumSqure(N):\n",
    "    sum = 0\n",
    "    for i in range (1,N+1):\n",
    "        sum = sum + i ** 2\n",
    "    return sum\n",
    "\n",
    "SumSqure(N)"
   ]
  },
  {
   "cell_type": "code",
   "execution_count": 4,
   "metadata": {},
   "outputs": [
    {
     "ename": "SyntaxError",
     "evalue": "invalid syntax (<ipython-input-4-385907f8e2ff>, line 31)",
     "output_type": "error",
     "traceback": [
      "\u001b[1;36m  File \u001b[1;32m\"<ipython-input-4-385907f8e2ff>\"\u001b[1;36m, line \u001b[1;32m31\u001b[0m\n\u001b[1;33m    if pc = 0:\u001b[0m\n\u001b[1;37m          ^\u001b[0m\n\u001b[1;31mSyntaxError\u001b[0m\u001b[1;31m:\u001b[0m invalid syntax\n"
     ]
    }
   ],
   "source": [
    "# Probelm 2 answer\n",
    "n= int (input ())\n",
    "\n",
    "s = s.split()\n",
    "\n",
    "#12345\n",
    "li =[]\n",
    "\n",
    "#for i in s:\n",
    "    #li.append(abs(int(i)))\n",
    "#min (li)\n",
    "\n",
    "def closestZero(li):\n",
    "    #Separate all numbers less tha  Zero\n",
    "    #all numbers  greater = Zero, get the all numbers\n",
    "    #-1 2 5 -10 -20\n",
    "    #-1 -10 -20 -> -1\n",
    "    #2 5 -> 2\n",
    "    #-2 1 -> 2\n",
    "    #-1 2 -> count from 0 to -1 2 \n",
    "    n1 = []\n",
    "    for i in li:\n",
    "        if i < 0:\n",
    "            n1.append(i)\n",
    "    p1 = []\n",
    "    for i in li:\n",
    "        if i >= 0:\n",
    "            p1.append(i)\n",
    "    nc = max(n1)\n",
    "    pc = min(p1)\n",
    "    if pc = 0:\n",
    "        return 0\n",
    "    if nc == pc:\n",
    "        return pc \n",
    "    elif abs(nc) < pc:\n",
    "        return abs (nc)\n",
    "    else:\n",
    "        return pc\n",
    "    \n",
    "closestZero(li)"
   ]
  },
  {
   "cell_type": "code",
   "execution_count": null,
   "metadata": {},
   "outputs": [],
   "source": [
    "n = int (input())\n",
    "s =input()\n",
    "s= s.spilt()\n",
    "li = []\n",
    "for i in s:\n",
    "    li.append(int(i))\n",
    "for i in range (0,max(li)):\n",
    "    if 0 in li:\n",
    "        return 0\n",
    "    else:\n",
    "        li.sort()\n",
    "        pc = []\n",
    "        nc = []\n",
    "        for i in li:\n",
    "            if i > 0\n",
    "            pc.append(i)\n",
    "        for i in li:\n",
    "            if i < 0:\n",
    "                nc.append(i)\n",
    "        if len(nc) == 0\n",
    "            return min(pc)\n",
    "        elif "
   ]
  },
  {
   "cell_type": "code",
   "execution_count": null,
   "metadata": {},
   "outputs": [],
   "source": [
    "** Explanation **\n",
    "- li = [3,2,-1,-2,-3]\n",
    "- sort the data\n",
    "- li = [-3,-2,-1,2,3]  (Sorted List)\n",
    "- pl = [1,2,3,3,3] ( positive Sorted list)\n",
    "- p1[0] -> Check if this number is -ve  or +ve in the \n",
    "- if p1 [0] in li"
   ]
  },
  {
   "cell_type": "code",
   "execution_count": 11,
   "metadata": {},
   "outputs": [
    {
     "name": "stdout",
     "output_type": "stream",
     "text": [
      "1\n"
     ]
    }
   ],
   "source": [
    "li = [-1,1,-2,2,3] #negative and positive if we want positive second element\n",
    "\n",
    "li.sort()\n",
    "\n",
    "pl = []\n",
    "\n",
    "for i in li:\n",
    "    pl.append (abs(i))\n",
    "pl.sort()\n",
    "\n",
    "if pl[0] in li:\n",
    "    print (pl[0])\n",
    "else:\n",
    "    print(-pl[0])\n",
    "\n"
   ]
  },
  {
   "cell_type": "code",
   "execution_count": 10,
   "metadata": {},
   "outputs": [
    {
     "name": "stdout",
     "output_type": "stream",
     "text": [
      "-1\n"
     ]
    }
   ],
   "source": [
    "li = [-1,1,-2,2,3] # negitive element then first element \n",
    "\n",
    "li.sort()\n",
    "\n",
    "pl = []\n",
    "\n",
    "for i in li:\n",
    "    pl.append (abs(i))\n",
    "pl.sort()\n",
    "\n",
    "if -pl[0] in li:\n",
    "    print (-pl[0])\n",
    "else:\n",
    "    print(pl[0])\n"
   ]
  },
  {
   "cell_type": "code",
   "execution_count": 13,
   "metadata": {},
   "outputs": [
    {
     "name": "stdout",
     "output_type": "stream",
     "text": [
      "-100\n"
     ]
    }
   ],
   "source": [
    "#farhtest to the zero\n",
    "\n",
    "li = [-1,1,-2,2,100,-100]\n",
    "\n",
    "li.sort()\n",
    "\n",
    "pl = []\n",
    "\n",
    "for i in li:\n",
    "    pl.append (abs(i))\n",
    "pl.sort()\n",
    "\n",
    "if -pl[-1] in li:\n",
    "    print (-pl[-1])\n",
    "else:\n",
    "    print(-pl[-1])\n"
   ]
  },
  {
   "cell_type": "code",
   "execution_count": 14,
   "metadata": {},
   "outputs": [
    {
     "name": "stdout",
     "output_type": "stream",
     "text": [
      "100\n"
     ]
    }
   ],
   "source": [
    "#farhtest to the zero\n",
    "\n",
    "li = [-1,1,-2,2,100,-100]\n",
    "\n",
    "li.sort()\n",
    "\n",
    "pl = []\n",
    "\n",
    "for i in li:\n",
    "    pl.append (abs(i))\n",
    "pl.sort()\n",
    "\n",
    "if pl[-1] in li:\n",
    "    print (pl[-1])\n",
    "else:\n",
    "    print(-pl[-1])\n"
   ]
  },
  {
   "cell_type": "code",
   "execution_count": null,
   "metadata": {},
   "outputs": [],
   "source": [
    "###Problem - 3\n",
    "You are given three number, a,b and c.\n",
    "Write a program to find the largest number \n",
    "which is less than or equal to c and leaves \n",
    "remainder b when divided by a ."
   ]
  },
  {
   "cell_type": "code",
   "execution_count": 16,
   "metadata": {},
   "outputs": [
    {
     "ename": "SyntaxError",
     "evalue": "invalid syntax (<ipython-input-16-852cfa765d76>, line 2)",
     "output_type": "error",
     "traceback": [
      "\u001b[1;36m  File \u001b[1;32m\"<ipython-input-16-852cfa765d76>\"\u001b[1;36m, line \u001b[1;32m2\u001b[0m\n\u001b[1;33m    if a > = b and a >= c:\u001b[0m\n\u001b[1;37m           ^\u001b[0m\n\u001b[1;31mSyntaxError\u001b[0m\u001b[1;31m:\u001b[0m invalid syntax\n"
     ]
    }
   ],
   "source": [
    "def largestnumber(a,b,c): # the question not understand clearly\n",
    "    if a > = b and a >= c:\n",
    "        if (a <= c) and (a % a == b):\n",
    "        return a\n",
    "    elif b >= c:\n",
    "        if (b <= c) and ( b % a == b):\n",
    "            return b\n",
    "    elif:\n",
    "        if ( c % a == b):\n",
    "            return c\n",
    "    else:\n",
    "        return -1\n",
    "largestnumber(1,2,3)"
   ]
  },
  {
   "cell_type": "code",
   "execution_count": null,
   "metadata": {},
   "outputs": [],
   "source": [
    "3 2 9\n",
    "9 % 3 == 0\n",
    "8 % 3 == 2\n",
    "\n",
    "1 2 4 \n",
    "\n",
    "4 % 1 == 0\n",
    "3 % 1 == 0\n",
    "2 % 1 == 0\n",
    "1 % 1 == 0\n",
    "0 % 1 == 0"
   ]
  },
  {
   "cell_type": "code",
   "execution_count": 18,
   "metadata": {},
   "outputs": [
    {
     "data": {
      "text/plain": [
       "0"
      ]
     },
     "execution_count": 18,
     "metadata": {},
     "output_type": "execute_result"
    }
   ],
   "source": [
    "-1 % 1 "
   ]
  },
  {
   "cell_type": "code",
   "execution_count": 22,
   "metadata": {},
   "outputs": [
    {
     "data": {
      "text/plain": [
       "98"
      ]
     },
     "execution_count": 22,
     "metadata": {},
     "output_type": "execute_result"
    }
   ],
   "source": [
    "def cal (a,b,c):\n",
    "    for i in range (c,a-1,-1): # range of c , c-1 ...a\n",
    "        if i % a == b:\n",
    "            return i\n",
    "    return -1\n",
    "cal (3,2,100)"
   ]
  },
  {
   "cell_type": "code",
   "execution_count": 24,
   "metadata": {},
   "outputs": [
    {
     "data": {
      "text/plain": [
       "2"
      ]
     },
     "execution_count": 24,
     "metadata": {},
     "output_type": "execute_result"
    }
   ],
   "source": [
    " 98 % 3"
   ]
  },
  {
   "cell_type": "code",
   "execution_count": null,
   "metadata": {},
   "outputs": [],
   "source": []
  }
 ],
 "metadata": {
  "kernelspec": {
   "display_name": "Python 3",
   "language": "python",
   "name": "python3"
  },
  "language_info": {
   "codemirror_mode": {
    "name": "ipython",
    "version": 3
   },
   "file_extension": ".py",
   "mimetype": "text/x-python",
   "name": "python",
   "nbconvert_exporter": "python",
   "pygments_lexer": "ipython3",
   "version": "3.7.3"
  }
 },
 "nbformat": 4,
 "nbformat_minor": 2
}
