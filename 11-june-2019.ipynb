{
 "cells": [
  {
   "cell_type": "markdown",
   "metadata": {},
   "source": [
    "# Notebook Basics"
   ]
  },
  {
   "cell_type": "markdown",
   "metadata": {},
   "source": [
    "# Markdown Basics\n",
    "* **Bold**\n",
    "* *Italic*\n",
    "* ***IB***\n",
    "* Normal Text\n",
    "    * session1\n",
    "    * session2\n",
    "\n",
    "\n",
    "> 1. ordered list item element1\n",
    "> 2. ordered list item element2\n",
    " \n",
    " \n",
    " - [ ] option 1\n",
    " - [ ] option 2\n",
    " - [x] option 3\n",
    " \n",
    " I get 10 times more traffic from [Google] [1] than from\n",
    "[Yahoo] [2] or [MSN] [3].\n",
    "\n",
    "  [1]: http://google.com/        \"Google\"\n",
    "  [2]: http://search.yahoo.com/  \"Yahoo Search\"\n",
    "  [3]: http://search.msn.com/    \"MSN Search\"\n",
    "  \n",
    "  I get 10 times more traffic from [Google][] than from\n",
    "[Yahoo][] or [MSN][].\n",
    "\n",
    "  [google]: http://google.com/        \"Google\"\n",
    "  [yahoo]:  http://search.yahoo.com/  \"Yahoo Search\"\n",
    "  [msn]:    http://search.msn.com/    \"MSN Search\"\n",
    "  \n",
    "  printf(\"hai markdown\")\n",
    "  \n",
    "  https:/google.com\n",
    "  \n",
    "  https:/markdown\n",
    "  \n",
    " \n",
    " [Jupyter logo](jupyterlogo.png)\n",
    " \n",
    " ![Jupyter logo](jupyterlogo.png)\n",
    " \n",
    " <img src=\"jupyterlogo.png\"  style=\"float:left\">\n",
    " "
   ]
  },
  {
   "cell_type": "markdown",
   "metadata": {},
   "source": [
    "# Python Basics\n",
    "\n",
    "Python version 3.7\n",
    "\n",
    "- Scripting\n",
    "\n",
    "- object oriented\n",
    "\n",
    "- Functional"
   ]
  },
  {
   "cell_type": "code",
   "execution_count": null,
   "metadata": {},
   "outputs": [],
   "source": []
  },
  {
   "cell_type": "code",
   "execution_count": 8,
   "metadata": {},
   "outputs": [
    {
     "name": "stdout",
     "output_type": "stream",
     "text": [
      "good afternoon ! || Hello Python\n"
     ]
    }
   ],
   "source": [
    "# Python Comments\n",
    "\n",
    "print(\"good afternoon\",\"!\",end=\" || \")#Basic output\n",
    "print(\"Hello Python\")"
   ]
  },
  {
   "cell_type": "code",
   "execution_count": null,
   "metadata": {},
   "outputs": [],
   "source": []
  },
  {
   "cell_type": "markdown",
   "metadata": {},
   "source": [
    "# Assignments\n"
   ]
  },
  {
   "cell_type": "code",
   "execution_count": 18,
   "metadata": {},
   "outputs": [
    {
     "name": "stdout",
     "output_type": "stream",
     "text": [
      "123 234 345\n"
     ]
    }
   ],
   "source": [
    "n1=123456#Single VRIABLE ASSIGNMENT\n",
    "\n",
    "n2=n3=n4=n1#Multi varoable assignment\n",
    "\n",
    "n3\n",
    "\n",
    "n1\n",
    "\n",
    "#Multi Variable assignment with different value\n",
    "\n",
    "a,b,c=123,234,345\n",
    "a\n",
    "b\n",
    "c#here only c prints because compiler takes one vaule with print.it we want to 3 vaules use print statement\n",
    "\n",
    "print(a,b,c)"
   ]
  },
  {
   "cell_type": "code",
   "execution_count": null,
   "metadata": {},
   "outputs": [],
   "source": []
  },
  {
   "cell_type": "markdown",
   "metadata": {},
   "source": [
    "### Data Types && Conversens\n",
    "\n",
    "- int\n",
    "- float\n",
    "- string\n",
    "- double"
   ]
  },
  {
   "cell_type": "code",
   "execution_count": 62,
   "metadata": {},
   "outputs": [
    {
     "name": "stdout",
     "output_type": "stream",
     "text": [
      "<class 'str'>\n",
      "<class 'float'>\n",
      "<class 'str'>\n",
      "12.0\n",
      "4.598341950135241e+107\n"
     ]
    },
    {
     "ename": "OverflowError",
     "evalue": "(34, 'Result too large')",
     "output_type": "error",
     "traceback": [
      "\u001b[1;31m---------------------------------------------------------------------------\u001b[0m",
      "\u001b[1;31mOverflowError\u001b[0m                             Traceback (most recent call last)",
      "\u001b[1;32m<ipython-input-62-cfd11868f099>\u001b[0m in \u001b[0;36m<module>\u001b[1;34m\u001b[0m\n\u001b[0;32m     13\u001b[0m \u001b[0mprint\u001b[0m\u001b[1;33m(\u001b[0m\u001b[0ms1\u001b[0m\u001b[1;33m)\u001b[0m\u001b[1;33m\u001b[0m\u001b[1;33m\u001b[0m\u001b[0m\n\u001b[0;32m     14\u001b[0m \u001b[1;33m\u001b[0m\u001b[0m\n\u001b[1;32m---> 15\u001b[1;33m \u001b[1;36m12.2321\u001b[0m \u001b[1;33m**\u001b[0m \u001b[1;36m999\u001b[0m\u001b[1;33m\u001b[0m\u001b[1;33m\u001b[0m\u001b[0m\n\u001b[0m\u001b[0;32m     16\u001b[0m \u001b[1;33m\u001b[0m\u001b[0m\n",
      "\u001b[1;31mOverflowError\u001b[0m: (34, 'Result too large')"
     ]
    }
   ],
   "source": [
    "type(a)\n",
    "s1 =\"Python\"\n",
    "print (type (s1))\n",
    " \n",
    "f1=12.345\n",
    "print(type(f1))\n",
    "\n",
    "s=str(int(f1))\n",
    "print(type(s))\n",
    "print(float(str(int(f1))))\n",
    "\n",
    "s1=12.2321 ** 99\n",
    "print(s1)\n",
    "\n",
    "12.2321 ** 999\n",
    "\n"
   ]
  },
  {
   "cell_type": "markdown",
   "metadata": {},
   "source": [
    "# Arthimetic Oprators\n",
    "\n",
    "- +\n",
    "- -\n",
    "- *\n",
    "- /\n",
    "- %\n",
    "- **"
   ]
  },
  {
   "cell_type": "code",
   "execution_count": 20,
   "metadata": {},
   "outputs": [
    {
     "data": {
      "text/plain": [
       "123456"
      ]
     },
     "execution_count": 20,
     "metadata": {},
     "output_type": "execute_result"
    }
   ],
   "source": [
    "n1"
   ]
  },
  {
   "cell_type": "code",
   "execution_count": 40,
   "metadata": {},
   "outputs": [
    {
     "name": "stdout",
     "output_type": "stream",
     "text": [
      "628578\n",
      "83\n"
     ]
    },
    {
     "data": {
      "text/plain": [
       "10000000000000000000000000000000000000000000000000000000000000000000000000000000000"
      ]
     },
     "execution_count": 40,
     "metadata": {},
     "output_type": "execute_result"
    }
   ],
   "source": [
    "n1 % 11  #we not stroing in any variable then also it is printing vaule in other languages it is not possible\n",
    "\n",
    "n3 = n2 **123456\n",
    "\n",
    "type(n3)\n",
    "print (len(str(n3)))  # printed separately length and n3 is printed has last statement to compiler\n",
    "n3\n",
    "\n",
    "at0ms= 10 ** 82\n",
    "print(len(str(atoms)))\n",
    "type(str(atoms))\n",
    "atoms"
   ]
  },
  {
   "cell_type": "code",
   "execution_count": 32,
   "metadata": {},
   "outputs": [
    {
     "data": {
      "text/plain": [
       "12535637344887704516447688721417492690366247570114367492980736"
      ]
     },
     "execution_count": 32,
     "metadata": {},
     "output_type": "execute_result"
    }
   ],
   "source": [
    "n2 **12\n"
   ]
  },
  {
   "cell_type": "code",
   "execution_count": 31,
   "metadata": {},
   "outputs": [
    {
     "data": {
      "text/plain": [
       "62"
      ]
     },
     "execution_count": 31,
     "metadata": {},
     "output_type": "execute_result"
    }
   ],
   "source": [
    "len(str(n3))"
   ]
  },
  {
   "cell_type": "code",
   "execution_count": null,
   "metadata": {},
   "outputs": [],
   "source": []
  },
  {
   "cell_type": "markdown",
   "metadata": {},
   "source": [
    "# Conditionals"
   ]
  },
  {
   "cell_type": "code",
   "execution_count": 66,
   "metadata": {},
   "outputs": [
    {
     "name": "stdout",
     "output_type": "stream",
     "text": [
      "FALSE\n"
     ]
    }
   ],
   "source": [
    "if atoms < 10 ** 9:\n",
    "    print (\"TRUE\") #here true is string and it is bolean vaule (True)\n",
    "else:\n",
    "    print(\"FALSE\") #indetation means adding one tab space to the upper line\n",
    "    \n",
    "\n"
   ]
  },
  {
   "cell_type": "code",
   "execution_count": 67,
   "metadata": {},
   "outputs": [
    {
     "name": "stdout",
     "output_type": "stream",
     "text": [
      "odd\n"
     ]
    }
   ],
   "source": [
    "#check number is EVEn\n",
    "\n",
    "n=123\n",
    "if n % 2 ==0:\n",
    "    print(\"even\")\n",
    "else:\n",
    "    print(\"odd\")"
   ]
  },
  {
   "cell_type": "code",
   "execution_count": 2,
   "metadata": {},
   "outputs": [
    {
     "name": "stdout",
     "output_type": "stream",
     "text": [
      "emter the first number-1\n",
      "emter the second number-100\n",
      "emter the third number-50\n",
      "-50 is the greatest\n"
     ]
    }
   ],
   "source": [
    "#FInd the greatest of 3 numbers\n",
    "\n",
    "n1 = input(\"emter the first number\")        #the reason is for -50 is greater because it is taking has string not a integer.\n",
    "n2 = input(\"emter the second number\")       #in the string -50 is greater than -100 and -1\n",
    "n3 = input(\"emter the third number\")\n",
    "\n",
    "if n1 > n2 and n1 > n3:\n",
    "    print (n1,\"is the gratest\")\n",
    "elif n2 > n3:\n",
    "    print (n2,\"is the greatest\")\n",
    "else:\n",
    "    print(n3, \"is the greatest\")\n",
    "    "
   ]
  },
  {
   "cell_type": "code",
   "execution_count": 3,
   "metadata": {},
   "outputs": [
    {
     "name": "stdout",
     "output_type": "stream",
     "text": [
      "emter the first number-1\n",
      "emter the second number-100\n",
      "emter the third number-50\n",
      "-1 is the gratest\n"
     ]
    }
   ],
   "source": [
    "n1 = int(input(\"emter the first number\"))    #here we are taken has integer means string is converted as inter \n",
    "n2 = int(input(\"emter the second number\"))   #so it is now giving -1 is greater\n",
    "n3 = int(input(\"emter the third number\"))\n",
    "\n",
    "if n1 > n2 and n1 > n3:\n",
    "    print (n1,\"is the gratest\")\n",
    "elif n2 > n3:\n",
    "    print (n2,\"is the greatest\")\n",
    "else:\n",
    "    print(n3, \"is the greatest\")\n",
    "    "
   ]
  },
  {
   "cell_type": "code",
   "execution_count": 23,
   "metadata": {},
   "outputs": [
    {
     "name": "stdout",
     "output_type": "stream",
     "text": [
      "enter year2017\n",
      "2017\n",
      "not leap year\n"
     ]
    }
   ],
   "source": [
    "#check if the a year is leap year\n",
    "\n",
    "year = int(input(\"enter year\"))\n",
    "print(year)\n",
    "if year % 400 ==0:\n",
    "    print(\"leap year\")\n",
    "elif year % 100 !=0:\n",
    "    if year % 4 ==0:\n",
    "        print (\"leap year\")\n",
    "    else:\n",
    "        print(\"not leap year\")\n",
    "else:\n",
    "    print(\"not leap year\")\n",
    "\n",
    "    "
   ]
  },
  {
   "cell_type": "code",
   "execution_count": 25,
   "metadata": {},
   "outputs": [
    {
     "name": "stdout",
     "output_type": "stream",
     "text": [
      "enter year2019\n",
      "not leap year\n"
     ]
    }
   ],
   "source": [
    "#check if the a year is leap year\n",
    "year = int(input(\"enter year\"))\n",
    "if year % 400 == 0 or (year % 100 != 100 and year % 4 ==0):\n",
    "    print(\"leap year\")\n",
    "else:\n",
    "    print(\"not leap year\")\n"
   ]
  },
  {
   "cell_type": "code",
   "execution_count": 3,
   "metadata": {},
   "outputs": [
    {
     "name": "stdout",
     "output_type": "stream",
     "text": [
      "enter the number23\n",
      "it is not a factor of 100 and that is23\n"
     ]
    }
   ],
   "source": [
    "#check the number is factor of 100\n",
    "\n",
    "n = int(input (\"enter the number\"))\n",
    "\n",
    "if 100 % n == 0:\n",
    "    print(\"it is factor of 100and that is \"+str(n))\n",
    "else:\n",
    "    print (\"it is not a factor of 100 and that is\"+str(n))                \n"
   ]
  },
  {
   "cell_type": "code",
   "execution_count": 6,
   "metadata": {},
   "outputs": [
    {
     "name": "stdout",
     "output_type": "stream",
     "text": [
      "enter number234\n",
      "number of digits of a number are  3\n"
     ]
    }
   ],
   "source": [
    "\n",
    "#check the number of digits in a number\n",
    "\n",
    "num = input ( \"enter number\")\n",
    "print (\"number of digits of a number are \"+\" \"+str(len(num)))"
   ]
  },
  {
   "cell_type": "code",
   "execution_count": null,
   "metadata": {},
   "outputs": [],
   "source": [
    "#check if a number exits in a given range\n",
    "\n",
    "n1 = 123\n",
    "lb =50\n",
    "ub = 150"
   ]
  },
  {
   "cell_type": "code",
   "execution_count": 16,
   "metadata": {},
   "outputs": [
    {
     "name": "stdout",
     "output_type": "stream",
     "text": [
      "enter number1234\n",
      "enter stringstring\n",
      "not equal\n"
     ]
    }
   ],
   "source": [
    "#check if a given string is equal to a number\n",
    "\n",
    "num = int(input (\"enter number\")) #here it is checking equality of string and int after converting num to string\n",
    "number = str(num)                  #Because comparision done to same data type other wise it will gives error\n",
    "string = (input (\"enter string\"))\n",
    "if number == string:\n",
    "    print (\"equal\")\n",
    "else:\n",
    "    print (\"not equal\")"
   ]
  },
  {
   "cell_type": "code",
   "execution_count": null,
   "metadata": {},
   "outputs": [],
   "source": [
    "#check if a given string is equal to a number\n",
    "\n",
    "number= int(input (\"enter number\")) #here it is checking equlance of two strings\n",
    "string = (input (\"enter string\"))\n",
    "if number == string:\n",
    "    print (\"equal\")\n",
    "else:\n",
    "    print (\"not equal\")"
   ]
  },
  {
   "cell_type": "code",
   "execution_count": 22,
   "metadata": {},
   "outputs": [
    {
     "name": "stdout",
     "output_type": "stream",
     "text": [
      "enter number49\n",
      "squre root of number is7.0\n"
     ]
    }
   ],
   "source": [
    "#calculate the squre root of the nubmer without functions\n",
    "\n",
    "num = int(input (\"enter number\"))    # ** is exponitial\n",
    "                                     #* is multiplication\n",
    "squreroot = num**0.5\n",
    "print (\"squre root of number is\"+str(squreroot))\n",
    "\n"
   ]
  },
  {
   "cell_type": "code",
   "execution_count": 20,
   "metadata": {},
   "outputs": [
    {
     "name": "stdout",
     "output_type": "stream",
     "text": [
      "enter number34\n",
      "2\n"
     ]
    }
   ],
   "source": [
    "#calculate the number of digits in a number\n",
    "\n",
    "n = int(input(\"enter number\"))\n",
    "print (len(str(n)))\n",
    "    \n",
    "\n",
    "    \n",
    "\n"
   ]
  },
  {
   "cell_type": "code",
   "execution_count": 27,
   "metadata": {},
   "outputs": [
    {
     "name": "stdout",
     "output_type": "stream",
     "text": [
      "no not exits in a range\n"
     ]
    }
   ],
   "source": [
    "#Calculate the number exits in a range or not\n",
    "\n",
    "n = 120\n",
    "lb = 125\n",
    "ub = 130\n",
    "if n >= lb and n <= ub:\n",
    "    print (\"no exits in a range\")\n",
    "else:\n",
    "    print (\"no not exits in a range\")"
   ]
  },
  {
   "cell_type": "code",
   "execution_count": 3,
   "metadata": {},
   "outputs": [
    {
     "name": "stdout",
     "output_type": "stream",
     "text": [
      "enter the number50\n",
      "it is multiple of 10 and number is 50\n"
     ]
    }
   ],
   "source": [
    "#check a number is multipule of 10\n",
    "\n",
    "n=int(input(\"enter the number\"))\n",
    "\n",
    "if n % 10 == 0:\n",
    "    print(\"it is multiple of 10 and number is\",n)\n",
    "else:\n",
    "    print (\"it is not a factor of 100\")                \n"
   ]
  },
  {
   "cell_type": "code",
   "execution_count": 31,
   "metadata": {},
   "outputs": [
    {
     "name": "stdout",
     "output_type": "stream",
     "text": [
      "31622400000000000\n"
     ]
    }
   ],
   "source": [
    "#to calculate the no of nano seconds in a given year\n",
    "#Consider if it is leap year\n",
    "\n",
    "year = 2016\n",
    "\n",
    "if year % 400 == 0 or  ( year % 100 !=0 and year % 4 == 0):\n",
    "    print (366*24*60*60*10**9)\n",
    "    \n",
    "else:\n",
    "    print (365*24*60*60*10**9)\n"
   ]
  },
  {
   "cell_type": "code",
   "execution_count": null,
   "metadata": {},
   "outputs": [],
   "source": []
  }
 ],
 "metadata": {
  "kernelspec": {
   "display_name": "Python 3",
   "language": "python",
   "name": "python3"
  },
  "language_info": {
   "codemirror_mode": {
    "name": "ipython",
    "version": 3
   },
   "file_extension": ".py",
   "mimetype": "text/x-python",
   "name": "python",
   "nbconvert_exporter": "python",
   "pygments_lexer": "ipython3",
   "version": "3.7.3"
  }
 },
 "nbformat": 4,
 "nbformat_minor": 2
}
