{
 "cells": [
  {
   "cell_type": "markdown",
   "metadata": {},
   "source": [
    "### Day Objectives\n",
    "- File Handing \n",
    "    - Basic File Data Processing\n",
    "        - Accessing and Modifying File data\n",
    "    - character Count \n",
    "    - Line count\n",
    "    - File Size\n",
    "    - Word Count\n",
    "    - Unique Word Count"
   ]
  },
  {
   "cell_type": "code",
   "execution_count": 9,
   "metadata": {},
   "outputs": [
    {
     "name": "stdout",
     "output_type": "stream",
     "text": [
      "new data \n",
      "line 1\n",
      "line 2\n",
      "line 3\n"
     ]
    }
   ],
   "source": [
    "#Read a File (File Should exist (Read mode)\n",
    "#write to a file - Exsiting (append) or New File (Write mode)\n",
    "def readFile(filepath):\n",
    "    with open(filepath,'r') as f:\n",
    "        filedata=f.read()\n",
    "    return filedata\n",
    "filepath = 'datafiles/data.txt'\n",
    "print (readFile(filepath))"
   ]
  },
  {
   "cell_type": "code",
   "execution_count": null,
   "metadata": {},
   "outputs": [],
   "source": [
    "#chacter count\n",
    "#count =0 intilize,for loop, count increment\n",
    "#1.split() the data words can be counted because it spilt() where space is found.\n",
    "#if file is one list words are sub lists in that each character is onther one sub list.In this if  we can access the\n",
    "#  character  then we count chacters\n",
    "# ? is what is the range of a for loop to count characters,words,strings \n",
    "    "
   ]
  }
 ],
 "metadata": {
  "kernelspec": {
   "display_name": "Python 3",
   "language": "python",
   "name": "python3"
  },
  "language_info": {
   "codemirror_mode": {
    "name": "ipython",
    "version": 3
   },
   "file_extension": ".py",
   "mimetype": "text/x-python",
   "name": "python",
   "nbconvert_exporter": "python",
   "pygments_lexer": "ipython3",
   "version": "3.7.3"
  }
 },
 "nbformat": 4,
 "nbformat_minor": 2
}
