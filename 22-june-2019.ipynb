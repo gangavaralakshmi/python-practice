{
 "cells": [
  {
   "cell_type": "markdown",
   "metadata": {},
   "source": [
    "### Day Objectives\n",
    "- File Handing \n",
    "    - Basic File Data Processing\n",
    "        - Accessing and Modifying File data\n",
    "    - character Count \n",
    "    - Line count\n",
    "    - File Size\n",
    "    - Word Count\n",
    "    - Unique Word Count"
   ]
  },
  {
   "cell_type": "code",
   "execution_count": 20,
   "metadata": {},
   "outputs": [
    {
     "name": "stdout",
     "output_type": "stream",
     "text": [
      "new \n",
      "data \n",
      "ganga\n",
      "vara\n",
      "lakshmi\n"
     ]
    }
   ],
   "source": [
    "#Read a File (File Should exist (Read mode)\n",
    "#write to a file - Exsiting (append) or New File (Write mode)\n",
    "def readFile(filepath):\n",
    "    with open(filepath,'r') as f:\n",
    "        filedata=f.read()## the entire file data into a string \n",
    "    return filedata\n",
    "filepath = 'datafiles/data.txt'\n",
    "print (readFile(filepath))"
   ]
  },
  {
   "cell_type": "code",
   "execution_count": 14,
   "metadata": {},
   "outputs": [
    {
     "data": {
      "text/plain": [
       "['new \\ndata \\nganga\\nvara\\nlakshmi']"
      ]
     },
     "execution_count": 14,
     "metadata": {},
     "output_type": "execute_result"
    }
   ],
   "source": [
    "#Fuction tpread  a file into a list of lines\n",
    "#Each element in the list is one line in the file\n",
    "\n",
    "def readFileIntoList(filepath):\n",
    "    with open(filepath,'r') as f:\n",
    "        filedata = f.read()\n",
    "        lines = filedata.split('/n')\n",
    "        #lines = []\n",
    "        #for line in f\n",
    "    return lines\n",
    "        #lines.append(line)\n",
    "filepath = \"datafiles/data.txt\"\n",
    "readFileIntoList(filepath)\n",
    "    \n",
    "    "
   ]
  },
  {
   "cell_type": "code",
   "execution_count": 26,
   "metadata": {},
   "outputs": [
    {
     "data": {
      "text/plain": [
       "1"
      ]
     },
     "execution_count": 26,
     "metadata": {},
     "output_type": "execute_result"
    }
   ],
   "source": [
    "#Fuction count number of lines in a file\n",
    "def CountlinesFile(filepath):\n",
    "    count=len(readFileIntoList(filepath))\n",
    "    return count\n",
    "CountlinesFile(filepath)"
   ]
  },
  {
   "cell_type": "code",
   "execution_count": 39,
   "metadata": {},
   "outputs": [
    {
     "data": {
      "text/plain": [
       "29"
      ]
     },
     "execution_count": 39,
     "metadata": {},
     "output_type": "execute_result"
    }
   ],
   "source": [
    "#Fuction to count chacters\n",
    "def charcountFile(filepath):\n",
    "    count =readFile(filepath)\n",
    "    return count\n",
    "charcountFile(filepath)"
   ]
  },
  {
   "cell_type": "code",
   "execution_count": 43,
   "metadata": {},
   "outputs": [
    {
     "ename": "AttributeError",
     "evalue": "module 're' has no attribute 'splitpattern'",
     "output_type": "error",
     "traceback": [
      "\u001b[1;31m---------------------------------------------------------------------------\u001b[0m",
      "\u001b[1;31mAttributeError\u001b[0m                            Traceback (most recent call last)",
      "\u001b[1;32m<ipython-input-43-37234dea6701>\u001b[0m in \u001b[0;36m<module>\u001b[1;34m\u001b[0m\n\u001b[0;32m      7\u001b[0m     \u001b[1;32mreturn\u001b[0m \u001b[0mcount\u001b[0m\u001b[1;33m\u001b[0m\u001b[1;33m\u001b[0m\u001b[0m\n\u001b[0;32m      8\u001b[0m \u001b[1;33m\u001b[0m\u001b[0m\n\u001b[1;32m----> 9\u001b[1;33m \u001b[0mwordCountFile\u001b[0m\u001b[1;33m(\u001b[0m\u001b[0mfilepath\u001b[0m\u001b[1;33m)\u001b[0m\u001b[1;33m\u001b[0m\u001b[1;33m\u001b[0m\u001b[0m\n\u001b[0m",
      "\u001b[1;32m<ipython-input-43-37234dea6701>\u001b[0m in \u001b[0;36mwordCountFile\u001b[1;34m(filepath)\u001b[0m\n\u001b[0;32m      4\u001b[0m     \u001b[0mpattern\u001b[0m \u001b[1;33m=\u001b[0m \u001b[1;34m'[\\n]'\u001b[0m\u001b[1;33m\u001b[0m\u001b[1;33m\u001b[0m\u001b[0m\n\u001b[0;32m      5\u001b[0m     \u001b[0mfiledata\u001b[0m \u001b[1;33m=\u001b[0m\u001b[0mreadFile\u001b[0m\u001b[1;33m(\u001b[0m\u001b[0mfilepath\u001b[0m\u001b[1;33m)\u001b[0m\u001b[1;33m\u001b[0m\u001b[1;33m\u001b[0m\u001b[0m\n\u001b[1;32m----> 6\u001b[1;33m     \u001b[0mcount\u001b[0m \u001b[1;33m=\u001b[0m \u001b[0mlen\u001b[0m\u001b[1;33m(\u001b[0m\u001b[0mre\u001b[0m\u001b[1;33m.\u001b[0m\u001b[0msplitpattern\u001b[0m\u001b[1;33m,\u001b[0m\u001b[0mfiledara\u001b[0m\u001b[1;33m)\u001b[0m\u001b[1;33m\u001b[0m\u001b[1;33m\u001b[0m\u001b[0m\n\u001b[0m\u001b[0;32m      7\u001b[0m     \u001b[1;32mreturn\u001b[0m \u001b[0mcount\u001b[0m\u001b[1;33m\u001b[0m\u001b[1;33m\u001b[0m\u001b[0m\n\u001b[0;32m      8\u001b[0m \u001b[1;33m\u001b[0m\u001b[0m\n",
      "\u001b[1;31mAttributeError\u001b[0m: module 're' has no attribute 'splitpattern'"
     ]
    }
   ],
   "source": [
    "# Fuction to find nuber of words\n",
    "import re\n",
    "def wordCountFile(filepath):\n",
    "    pattern = '[\\n]'\n",
    "    filedata =readFile(filepath)\n",
    "    count = len(re.splitpattern,filedara)\n",
    "    return count\n",
    "def wordsFromFile(filepath):\n",
    "    pattern = '[\\n]'\n",
    "    filedata=readFile(filepath)\n",
    "    allwordsList = re.split(pattern,filedata)\n",
    "    return allwordsList\n",
    "\n",
    "wordCountFile(filepath)"
   ]
  },
  {
   "cell_type": "code",
   "execution_count": 23,
   "metadata": {},
   "outputs": [
    {
     "data": {
      "text/plain": [
       "[1, 2, 3]"
      ]
     },
     "execution_count": 23,
     "metadata": {},
     "output_type": "execute_result"
    }
   ],
   "source": [
    "#Fuction to get unique elements in a Liat \n",
    "#[1,2,3,3,1]  -> [1,2,3]\n",
    "#Create a empty unique list(l)\n",
    "def uniqueData (li):\n",
    "    #create an empty unique list \n",
    "       unique=[]\n",
    "    #for every element in the main list check if it exists in the unique list \n",
    "    #If it does not exist add it \n",
    "    #else if it exits move on to the next element in the  main list\n",
    "    for element in li:\n",
    "        if element not in unique:\n",
    "            unique.append(element)\n",
    "    return unique\n",
    "li = [1,2,3,3,2,2,1]\n",
    "uniqueData(li)    \n",
    "    "
   ]
  },
  {
   "cell_type": "code",
   "execution_count": 15,
   "metadata": {},
   "outputs": [
    {
     "data": {
      "text/plain": [
       "['new \\ndata \\nganga\\nvara\\nlakshmi']"
      ]
     },
     "execution_count": 15,
     "metadata": {},
     "output_type": "execute_result"
    }
   ],
   "source": [
    "#UNIQUE WORD COUNT IN FILE\n",
    "def uniqueData (filepath):\n",
    "    unique=[]\n",
    "    for element in readFileIntoList(filepath):\n",
    "        if element not in unique:\n",
    "            unique.append(element)\n",
    "    return unique\n",
    "\n",
    "uniqueData(filepath)"
   ]
  },
  {
   "cell_type": "code",
   "execution_count": null,
   "metadata": {},
   "outputs": [],
   "source": [
    "#Fuctio  to print the frequency of count of any given files\n",
    "        #Data in line1\n",
    "    #Data in line 2\n",
    "    #Data in line3\n",
    "    #Data:3\n",
    "    #line :3\n",
    "    #in:3\n",
    "    #1:1\n",
    "    #2:1\n",
    "    #3:1\n",
    "    \n",
    "\n",
    "#Dictionary to be used\n",
    "    #keys -> unique words\n",
    "    #values -> count of unique words\n",
    "#Two lists \n",
    "#\n",
    "\n",
    "#set\n",
    "def FreqDistributionsOfWords1(filepath):\n",
    "    all words = wordsFromFile(filepath)\n",
    "    uniquewords=uniqueData(filepath)\n",
    "    for word in uniwords:\n",
    "        count=allwords.count(word)\n",
    "        print (word,\":\",count)\n",
    "    return\n",
    "def FreqDistributoionOfWords2(filepath):\n",
    "    allwords = wordsFormFile(filepath)\n",
    "    wordFrequency={}\n",
    "    for word in allwords:\n",
    "        if word not in wordFrequency.keys():\n",
    "            wordFrequency[word]=1\n",
    "        else:\n",
    "            wordFrequency[word] += 1\n",
    "    return wordFrequency\n",
    "    \n",
    "# Fuction to find nuber of words\n",
    "import re\n",
    "def wordCountFile(filepath):\n",
    "    pattern = '[\\n]'\n",
    "    filedata =readFile(filepath)\n",
    "    count = len(re.splitpattern,filedara)\n",
    "    return count\n",
    "def wordsFromFile(filepath):\n",
    "    pattern = '[\\n]'\n",
    "    filedata=readFile(filepath)\n",
    "    allwordsList = re.split(pattern,filedata)\n",
    "    return allwordsList\n",
    "\n",
    "wordCountFile(filepath)\n"
   ]
  },
  {
   "cell_type": "code",
   "execution_count": null,
   "metadata": {},
   "outputs": [],
   "source": [
    "#Contacts Application\n",
    "    #Add Search ,List,Modify,replace,remove\n",
    "    \n",
    "#Find and Replace Application\n",
    "    #Count the total number accurances of a word \n",
    "    #Word is existing \n",
    "    #Replace all occuraces of a word with another word\n",
    "    \n",
    "    \n",
    "    #Marks Analysis apllication\n",
    "        #Generate marks file for n sucess\n",
    "        #Input :Matks text file -each line count\n",
    "        #Generates a report with the following \n",
    "            #class average\n",
    "            #% of students passsed\n",
    "            #% of students failed\n",
    "            #% of students with distinction"
   ]
  },
  {
   "cell_type": "code",
   "execution_count": null,
   "metadata": {},
   "outputs": [],
   "source": [
    "#Generate marks data for n students\n",
    "\n",
    "from random import randint\n",
    "\n",
    "def generateMarks(n,lb,ub):\n",
    "    with open('DataFiles/marks.txt','w') as f:\n",
    "        for i in range(0,n):\n",
    "            r=randint(lb,ub)\n",
    "            f.write(r+'\\n')\n",
    "        return \n",
    "generateMarks(10000,0,100)"
   ]
  },
  {
   "cell_type": "code",
   "execution_count": 3,
   "metadata": {},
   "outputs": [
    {
     "name": "stdout",
     "output_type": "stream",
     "text": [
      "character count is 23\n"
     ]
    }
   ],
   "source": [
    "#chacter count\n",
    "#count =0 intilize,for loop, count increment\n",
    "#1.split() the data words can be counted because it spilt() where space is found.\n",
    "#if file is one list words are sub lists in that each character is onther one sub list.In this if  we can access the\n",
    "#  character  then we count chacters\n",
    "# ? is what is the range of a for loop to count characters,words,strings \n",
    "\n",
    "def chactercount(filepath):\n",
    "    count=0\n",
    "    with open(filepath,'r') as f:\n",
    "        filedata=f.read()\n",
    "        for i in (filedata):\n",
    "            if i.isspace()!=True:\n",
    "                count=count+1\n",
    "        print (\"character count is\",count)     \n",
    "filepath = 'datafiles/data.txt'\n",
    "chactercount(filepath)\n",
    "    "
   ]
  },
  {
   "cell_type": "code",
   "execution_count": 7,
   "metadata": {},
   "outputs": [
    {
     "name": "stdout",
     "output_type": "stream",
     "text": [
      "word count is 7\n"
     ]
    }
   ],
   "source": [
    "#WORD COUNT\n",
    "def wordcount(filepath):\n",
    "    count=0\n",
    "    with open(filepath,'r') as f:\n",
    "        filedata=f.read()\n",
    "        for i in (filedata):\n",
    "            if i.isspace()==True:\n",
    "                count=count+1\n",
    "        print (\"word count is\",count)     \n",
    "filepath = 'datafiles/data.txt'\n",
    "wordcount(filepath)\n",
    "    \n"
   ]
  },
  {
   "cell_type": "code",
   "execution_count": 1,
   "metadata": {},
   "outputs": [
    {
     "name": "stdout",
     "output_type": "stream",
     "text": [
      "30\n"
     ]
    }
   ],
   "source": [
    "#readfile fuction read entiredata as single string then we use len opration to calculate the length\n",
    "\n",
    "def readFile(filepath):\n",
    "    with open(filepath,'r') as f:\n",
    "        filedata=f.read()## the entire file data into a string \n",
    "    return (len(filedata))\n",
    "filepath = 'datafiles/data.txt'\n",
    "print (readFile(filepath))"
   ]
  },
  {
   "cell_type": "code",
   "execution_count": null,
   "metadata": {},
   "outputs": [],
   "source": [
    "#by uma readinglines\n",
    "    with open(filename,\"r+\") as fh:   # this already executed in other file named as  untitiled\n",
    "        lineno=1\n",
    "        lines=fh.readlines()\n",
    "    #below code for writing\n",
    "    fw=open(\"sample.txt\",\"w\")\n",
    "    for line in lines:\n",
    "        print (lineno,line,end=\"\",sep=\".\",file=fw)\n",
    "        lineno+=1\n",
    "    fw.close()\n",
    "filename=\"datafiles/sample.txt\"\n"
   ]
  },
  {
   "cell_type": "code",
   "execution_count": 27,
   "metadata": {},
   "outputs": [
    {
     "name": "stdout",
     "output_type": "stream",
     "text": [
      "0 2 2 2 0 0 0 0 0 0 "
     ]
    }
   ],
   "source": [
    "#Digit Frequency\n",
    "\n",
    "#Given a string s,consiting of alphabets and digitd ,finf the frequrency of the each digit\n",
    "#INPUT=string  and OUTPUT=0 is 0\n",
    "                        #1 is 2\n",
    "                        #2 is 1\n",
    "                        #3 is 0\n",
    "                        #4 is 0\n",
    "#s = 123abc456def In:a11472o5t6\n",
    "#0 1 1 1 1 1 1 0 0 0\n",
    "\n",
    "#s=c\n",
    "#0 0 0 0 0 0 0 0 0 0\n",
    "\n",
    "#s=1234567890\n",
    "#1 1 1 1 1 1 1 1 1\n",
    "\n",
    "def uniqueData(allnumbers):\n",
    "    unique=[]\n",
    "    for n in allnumbers:\n",
    "        if n not in unique:\n",
    "            unique.append(n)\n",
    "    return unique\n",
    "    \n",
    "\n",
    "def DigitFrequency(s):\n",
    "    allnumbers=[]\n",
    "    for i in s:\n",
    "        if i.isdigit():\n",
    "            allnumbers.append(i)\n",
    "    \n",
    "    unique= uniqueData(allnumbers)\n",
    "    for i in range(0,10):\n",
    "            if str(i) not in unique:\n",
    "                print(0,end=' ')\n",
    "            else:\n",
    "                count=allnumbers.count(str(i))\n",
    "                print(count,end=' ')\n",
    "        \n",
    "DigitFrequency('213abc123')        \n",
    "    \n",
    "\n"
   ]
  },
  {
   "cell_type": "code",
   "execution_count": 1,
   "metadata": {},
   "outputs": [
    {
     "name": "stdout",
     "output_type": "stream",
     "text": [
      "0 2 2 2 0 0 0 0 0 0 "
     ]
    }
   ],
   "source": [
    "def digitFrquency2(s):\n",
    "    for i in range(0,10):\n",
    "        count=s.count(str(i))\n",
    "        print(count,end=' ')\n",
    "digitFrquency2('213abc123')\n"
   ]
  },
  {
   "cell_type": "code",
   "execution_count": null,
   "metadata": {},
   "outputs": [],
   "source": []
  },
  {
   "cell_type": "code",
   "execution_count": 4,
   "metadata": {},
   "outputs": [
    {
     "name": "stdout",
     "output_type": "stream",
     "text": [
      "0 2 2 2 0 0 0 0 0 0 "
     ]
    }
   ],
   "source": [
    "def digitFrquency2(s):\n",
    "    for i in range(0,10):\n",
    "        count=s.count(str(i))\n",
    "        print(count,end=' ')\n",
    "digitFrquency2('213abc123')\n"
   ]
  },
  {
   "cell_type": "code",
   "execution_count": 8,
   "metadata": {},
   "outputs": [
    {
     "name": "stdout",
     "output_type": "stream",
     "text": [
      "1232fer23254\n",
      "[]\n",
      "[]\n",
      "[]\n",
      "[]\n",
      "[]\n",
      "[]\n",
      "[]\n",
      "[]\n",
      "[]\n",
      "[]\n"
     ]
    }
   ],
   "source": [
    "def unique(u):\n",
    "    uni = []\n",
    "    for n in u:\n",
    "        if n not in u:\n",
    "            uni.append(n)\n",
    "        print (uni)\n",
    "        \n",
    "def allnumbers(S):\n",
    "    u=[]\n",
    "    for i in l:\n",
    "        if i.isdigit():\n",
    "            u.append(i)\n",
    "    return u\n",
    "for i in l:\n",
    "    count=0\n",
    "    for j in range(len(S)):\n",
    "        if int(i)==j:\n",
    "            count=count+1\n",
    "    print(j,\":\",count)\n",
    "S=input()\n",
    "l=list(S)\n",
    "unique(u)"
   ]
  }
 ],
 "metadata": {
  "kernelspec": {
   "display_name": "Python 3",
   "language": "python",
   "name": "python3"
  },
  "language_info": {
   "codemirror_mode": {
    "name": "ipython",
    "version": 3
   },
   "file_extension": ".py",
   "mimetype": "text/x-python",
   "name": "python",
   "nbconvert_exporter": "python",
   "pygments_lexer": "ipython3",
   "version": "3.7.3"
  }
 },
 "nbformat": 4,
 "nbformat_minor": 2
}
