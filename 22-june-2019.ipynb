{
 "cells": [
  {
   "cell_type": "markdown",
   "metadata": {},
   "source": [
    "### Day Objectives\n",
    "- File Handing \n",
    "    - Basic File Data Processing\n",
    "        - Accessing and Modifying File data\n",
    "    - character Count \n",
    "    - Line count\n",
    "    - File Size\n",
    "    - Word Count\n",
    "    - Unique Word Count"
   ]
  },
  {
   "cell_type": "code",
   "execution_count": 20,
   "metadata": {},
   "outputs": [
    {
     "name": "stdout",
     "output_type": "stream",
     "text": [
      "new \n",
      "data \n",
      "ganga\n",
      "vara\n",
      "lakshmi\n"
     ]
    }
   ],
   "source": [
    "#Read a File (File Should exist (Read mode)\n",
    "#write to a file - Exsiting (append) or New File (Write mode)\n",
    "def readFile(filepath):\n",
    "    with open(filepath,'r') as f:\n",
    "        filedata=f.read()## the entire file data into a string \n",
    "    return filedata\n",
    "filepath = 'datafiles/data.txt'\n",
    "print (readFile(filepath))"
   ]
  },
  {
   "cell_type": "code",
   "execution_count": 14,
   "metadata": {},
   "outputs": [
    {
     "data": {
      "text/plain": [
       "['new \\ndata \\nganga\\nvara\\nlakshmi']"
      ]
     },
     "execution_count": 14,
     "metadata": {},
     "output_type": "execute_result"
    }
   ],
   "source": [
    "#Fuction tpread  a file into a list of lines\n",
    "#Each element in the list is one line in the file\n",
    "\n",
    "def readFileIntoList(filepath):\n",
    "    with open(filepath,'r') as f:\n",
    "        filedata = f.read()\n",
    "        lines = filedata.split('/n')\n",
    "        #lines = []\n",
    "        #for line in f\n",
    "    return lines\n",
    "        #lines.append(line)\n",
    "filepath = \"datafiles/data.txt\"\n",
    "readFileIntoList(filepath)\n",
    "    \n",
    "    "
   ]
  },
  {
   "cell_type": "code",
   "execution_count": 26,
   "metadata": {},
   "outputs": [
    {
     "data": {
      "text/plain": [
       "1"
      ]
     },
     "execution_count": 26,
     "metadata": {},
     "output_type": "execute_result"
    }
   ],
   "source": [
    "#Fuction count number of lines in a file\n",
    "def CountlinesFile(filepath):\n",
    "    count=len(readFileIntoList(filepath))\n",
    "    return count\n",
    "CountlinesFile(filepath)"
   ]
  },
  {
   "cell_type": "code",
   "execution_count": 27,
   "metadata": {},
   "outputs": [
    {
     "ename": "NameError",
     "evalue": "name 'chacterCountFile' is not defined",
     "output_type": "error",
     "traceback": [
      "\u001b[1;31m---------------------------------------------------------------------------\u001b[0m",
      "\u001b[1;31mNameError\u001b[0m                                 Traceback (most recent call last)",
      "\u001b[1;32m<ipython-input-27-041acf009f64>\u001b[0m in \u001b[0;36m<module>\u001b[1;34m\u001b[0m\n\u001b[0;32m      3\u001b[0m     \u001b[0mcount\u001b[0m \u001b[1;33m=\u001b[0m \u001b[0mlen\u001b[0m\u001b[1;33m(\u001b[0m\u001b[0mreadFile\u001b[0m\u001b[1;33m(\u001b[0m\u001b[0mfilepath\u001b[0m\u001b[1;33m)\u001b[0m\u001b[1;33m)\u001b[0m\u001b[1;33m\u001b[0m\u001b[1;33m\u001b[0m\u001b[0m\n\u001b[0;32m      4\u001b[0m     \u001b[1;32mreturn\u001b[0m \u001b[0mcount\u001b[0m\u001b[1;33m\u001b[0m\u001b[1;33m\u001b[0m\u001b[0m\n\u001b[1;32m----> 5\u001b[1;33m \u001b[0mchacterCountFile\u001b[0m\u001b[1;33m(\u001b[0m\u001b[0mfilepath\u001b[0m\u001b[1;33m)\u001b[0m\u001b[1;33m\u001b[0m\u001b[1;33m\u001b[0m\u001b[0m\n\u001b[0m",
      "\u001b[1;31mNameError\u001b[0m: name 'chacterCountFile' is not defined"
     ]
    }
   ],
   "source": [
    "#Fuction to count chacters\n",
    "def charcountFile(filepath):\n",
    "    count = len(readFile(filepath))\n",
    "    return count\n",
    "chacterCountFile(filepath)"
   ]
  },
  {
   "cell_type": "code",
   "execution_count": 25,
   "metadata": {},
   "outputs": [
    {
     "ename": "AttributeError",
     "evalue": "module 're' has no attribute 'splitpattern'",
     "output_type": "error",
     "traceback": [
      "\u001b[1;31m---------------------------------------------------------------------------\u001b[0m",
      "\u001b[1;31mAttributeError\u001b[0m                            Traceback (most recent call last)",
      "\u001b[1;32m<ipython-input-25-63440aba4021>\u001b[0m in \u001b[0;36m<module>\u001b[1;34m\u001b[0m\n\u001b[0;32m      7\u001b[0m     \u001b[1;32mreturn\u001b[0m \u001b[0mcount\u001b[0m\u001b[1;33m\u001b[0m\u001b[1;33m\u001b[0m\u001b[0m\n\u001b[0;32m      8\u001b[0m \u001b[1;33m\u001b[0m\u001b[0m\n\u001b[1;32m----> 9\u001b[1;33m \u001b[0mwordCountFile\u001b[0m\u001b[1;33m(\u001b[0m\u001b[0mfilepath\u001b[0m\u001b[1;33m)\u001b[0m\u001b[1;33m\u001b[0m\u001b[1;33m\u001b[0m\u001b[0m\n\u001b[0m",
      "\u001b[1;32m<ipython-input-25-63440aba4021>\u001b[0m in \u001b[0;36mwordCountFile\u001b[1;34m(filepath)\u001b[0m\n\u001b[0;32m      4\u001b[0m     \u001b[0mpattern\u001b[0m \u001b[1;33m=\u001b[0m \u001b[1;34m'[/n]'\u001b[0m\u001b[1;33m\u001b[0m\u001b[1;33m\u001b[0m\u001b[0m\n\u001b[0;32m      5\u001b[0m     \u001b[0mfiledata\u001b[0m \u001b[1;33m=\u001b[0m \u001b[0mreadFile\u001b[0m\u001b[1;33m(\u001b[0m\u001b[0mfilepath\u001b[0m\u001b[1;33m)\u001b[0m\u001b[1;33m\u001b[0m\u001b[1;33m\u001b[0m\u001b[0m\n\u001b[1;32m----> 6\u001b[1;33m     \u001b[0mcount\u001b[0m \u001b[1;33m=\u001b[0m \u001b[0mlen\u001b[0m\u001b[1;33m(\u001b[0m\u001b[0mre\u001b[0m\u001b[1;33m.\u001b[0m\u001b[0msplitpattern\u001b[0m\u001b[1;33m,\u001b[0m\u001b[0mfiledara\u001b[0m\u001b[1;33m)\u001b[0m\u001b[1;33m\u001b[0m\u001b[1;33m\u001b[0m\u001b[0m\n\u001b[0m\u001b[0;32m      7\u001b[0m     \u001b[1;32mreturn\u001b[0m \u001b[0mcount\u001b[0m\u001b[1;33m\u001b[0m\u001b[1;33m\u001b[0m\u001b[0m\n\u001b[0;32m      8\u001b[0m \u001b[1;33m\u001b[0m\u001b[0m\n",
      "\u001b[1;31mAttributeError\u001b[0m: module 're' has no attribute 'splitpattern'"
     ]
    }
   ],
   "source": [
    "# Fuction to find nuber of words\n",
    "import re\n",
    "def wordCountFile(filepath):\n",
    "    pattern = '[/n]'\n",
    "    filedata = readFile(filepath)\n",
    "    count = len(re.splitpattern,filedara)\n",
    "    return count\n",
    "\n",
    "wordCountFile(filepath)"
   ]
  },
  {
   "cell_type": "code",
   "execution_count": 23,
   "metadata": {},
   "outputs": [
    {
     "data": {
      "text/plain": [
       "[1, 2, 3]"
      ]
     },
     "execution_count": 23,
     "metadata": {},
     "output_type": "execute_result"
    }
   ],
   "source": [
    "#Fuction to get unique elements in a Liat \n",
    "#[1,2,3,3,1]  -> [1,2,3]\n",
    "#Create a empty unique list(l)\n",
    "def uniqueData (li):\n",
    "    #create an empty unique list \n",
    "       unique=[]\n",
    "    #for every element in the main list check if it exists in the unique list \n",
    "    #If it does not exist add it \n",
    "    #else if it exits move on to the next element in the  main list\n",
    "    for element in li:\n",
    "        if element not in unique:\n",
    "            unique.append(element)\n",
    "    return unique\n",
    "li = [1,2,3,3,2,2,1]\n",
    "uniqueData(li)    \n",
    "    "
   ]
  },
  {
   "cell_type": "code",
   "execution_count": 15,
   "metadata": {},
   "outputs": [
    {
     "data": {
      "text/plain": [
       "['new \\ndata \\nganga\\nvara\\nlakshmi']"
      ]
     },
     "execution_count": 15,
     "metadata": {},
     "output_type": "execute_result"
    }
   ],
   "source": [
    "#UNIQUE WORD COUNT IN FILE\n",
    "def uniqueData (filepath):\n",
    "    unique=[]\n",
    "    for element in readFileIntoList(filepath):\n",
    "        if element not in unique:\n",
    "            unique.append(element)\n",
    "    return unique\n",
    "\n",
    "uniqueData(filepath)"
   ]
  },
  {
   "cell_type": "code",
   "execution_count": null,
   "metadata": {},
   "outputs": [],
   "source": [
    "#Fuctio  to print the frequency of count of any given files\n"
   ]
  },
  {
   "cell_type": "code",
   "execution_count": 3,
   "metadata": {},
   "outputs": [
    {
     "name": "stdout",
     "output_type": "stream",
     "text": [
      "character count is 23\n"
     ]
    }
   ],
   "source": [
    "#chacter count\n",
    "#count =0 intilize,for loop, count increment\n",
    "#1.split() the data words can be counted because it spilt() where space is found.\n",
    "#if file is one list words are sub lists in that each character is onther one sub list.In this if  we can access the\n",
    "#  character  then we count chacters\n",
    "# ? is what is the range of a for loop to count characters,words,strings \n",
    "\n",
    "def chactercount(filepath):\n",
    "    count=0\n",
    "    with open(filepath,'r') as f:\n",
    "        filedata=f.read()\n",
    "        for i in (filedata):\n",
    "            if i.isspace()!=True:\n",
    "                count=count+1\n",
    "        print (\"character count is\",count)     \n",
    "filepath = 'datafiles/data.txt'\n",
    "chactercount(filepath)\n",
    "    "
   ]
  },
  {
   "cell_type": "code",
   "execution_count": 7,
   "metadata": {},
   "outputs": [
    {
     "name": "stdout",
     "output_type": "stream",
     "text": [
      "word count is 7\n"
     ]
    }
   ],
   "source": [
    "#WORD COUNT\n",
    "def wordcount(filepath):\n",
    "    count=0\n",
    "    with open(filepath,'r') as f:\n",
    "        filedata=f.read()\n",
    "        for i in (filedata):\n",
    "            if i.isspace()==True:\n",
    "                count=count+1\n",
    "        print (\"word count is\",count)     \n",
    "filepath = 'datafiles/data.txt'\n",
    "wordcount(filepath)\n",
    "    \n"
   ]
  },
  {
   "cell_type": "code",
   "execution_count": 1,
   "metadata": {},
   "outputs": [
    {
     "name": "stdout",
     "output_type": "stream",
     "text": [
      "30\n"
     ]
    }
   ],
   "source": [
    "#readfile fuction read entiredata as single string then we use len opration to calculate the length\n",
    "\n",
    "def readFile(filepath):\n",
    "    with open(filepath,'r') as f:\n",
    "        filedata=f.read()## the entire file data into a string \n",
    "    return (len(filedata))\n",
    "filepath = 'datafiles/data.txt'\n",
    "print (readFile(filepath))"
   ]
  },
  {
   "cell_type": "code",
   "execution_count": null,
   "metadata": {},
   "outputs": [],
   "source": [
    "#by uma readinglines\n",
    "    with open(filename,\"r+\") as fh:   # this already executed in other file named as  untitiled\n",
    "        lineno=1\n",
    "        lines=fh.readlines()\n",
    "    #below code for writing\n",
    "    fw=open(\"sample.txt\",\"w\")\n",
    "    for line in lines:\n",
    "        print (lineno,line,end=\"\",sep=\".\",file=fw)\n",
    "        lineno+=1\n",
    "    fw.close()\n",
    "filename=\"datafiles/sample.txt\"\n"
   ]
  }
 ],
 "metadata": {
  "kernelspec": {
   "display_name": "Python 3",
   "language": "python",
   "name": "python3"
  },
  "language_info": {
   "codemirror_mode": {
    "name": "ipython",
    "version": 3
   },
   "file_extension": ".py",
   "mimetype": "text/x-python",
   "name": "python",
   "nbconvert_exporter": "python",
   "pygments_lexer": "ipython3",
   "version": "3.7.3"
  }
 },
 "nbformat": 4,
 "nbformat_minor": 2
}
